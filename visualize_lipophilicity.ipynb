{
 "cells": [
  {
   "cell_type": "code",
   "execution_count": 53,
   "id": "48b3df8d",
   "metadata": {},
   "outputs": [],
   "source": [
    "import pandas as pd\n",
    "import dgl\n",
    "import torch\n",
    "from functools import partial\n",
    "from torch.utils.data import DataLoader\n",
    "from dgllife.utils import smiles_to_bigraph\n",
    "from utils.eval_meter import Meter\n",
    "from utils.featurizers import CanonicalAtomFeaturizer\n",
    "from utils.featurizers import CanonicalBondFeaturizer\n",
    "from dgllife.utils import one_hot_encoding\n",
    "from dgllife.data.csv_dataset import MoleculeCSVDataset\n",
    "import os\n",
    "import random\n",
    "import numpy as np\n",
    "from rdkit import Chem\n",
    "from rdkit.Chem import rdDepictor\n",
    "from rdkit.Chem.Draw import rdMolDraw2D\n",
    "from IPython.display import SVG, display\n",
    "%matplotlib inline\n",
    "atom_featurizer = CanonicalAtomFeaturizer(atom_data_field='hv')\n",
    "bond_featurizer = CanonicalBondFeaturizer(bond_data_field='he')"
   ]
  },
  {
   "cell_type": "code",
   "execution_count": 54,
   "id": "6adeee19",
   "metadata": {},
   "outputs": [],
   "source": [
    "def set_random_seed(args):\n",
    "    seed = args['seed']\n",
    "    random.seed(seed)\n",
    "    np.random.seed(seed)\n",
    "    torch.manual_seed(seed)\n",
    "    os.environ['PYTHONHASHSEED'] = str(seed)\n",
    "    if torch.cuda.is_available():\n",
    "        torch.cuda.manual_seed(seed)\n",
    "        torch.cuda.manual_seed_all(seed)\n",
    "def chirality(atom):\n",
    "    try:\n",
    "        return one_hot_encoding(atom.GetProp('_CIPCode'), ['R', 'S']) + \\\n",
    "               [atom.HasProp('_ChiralityPossible')]\n",
    "    except:\n",
    "        return [False, False] + [atom.HasProp('_ChiralityPossible')]\n",
    "def collate_molgraphs(data):\n",
    "    assert len(data[0]) in [3, 4], \\\n",
    "        'Expect the tuple to be of length 3 or 4, got {:d}'.format(len(data[0]))\n",
    "    if len(data[0]) == 3:\n",
    "        smiles, graphs, labels = map(list, zip(*data))\n",
    "        masks = None\n",
    "    else:\n",
    "        smiles, graphs, labels, masks = map(list, zip(*data))\n",
    "\n",
    "    bg = dgl.batch(graphs)\n",
    "    bg.set_n_initializer(dgl.init.zero_initializer)\n",
    "    bg.set_e_initializer(dgl.init.zero_initializer)\n",
    "    labels = torch.stack(labels, dim=0)\n",
    "\n",
    "    if masks is None:\n",
    "        masks = torch.ones(labels.shape)\n",
    "    else:\n",
    "        masks = torch.stack(masks, dim=0)\n",
    "    return smiles, bg, labels, masks\n",
    "def load_data(data):\n",
    "    dataset = MoleculeCSVDataset(data,\n",
    "                                 smiles_to_graph=smiles_to_bigraph,\n",
    "                                 node_featurizer=atom_featurizer,\n",
    "                                 edge_featurizer=bond_featurizer,\n",
    "                                 smiles_column='SMILES',\n",
    "                                 cache_file_path= './ChemXGNN/Data/Aromaticity/graph.bin',\n",
    "                                 task_names=None,\n",
    "                                 load=False,init_mask=True,n_jobs=1\n",
    "                            )\n",
    "\n",
    "    return dataset"
   ]
  },
  {
   "cell_type": "markdown",
   "id": "52b9a25b",
   "metadata": {},
   "source": [
    "## Molecule preparation "
   ]
  },
  {
   "cell_type": "code",
   "execution_count": 55,
   "id": "bcfc5346",
   "metadata": {},
   "outputs": [],
   "source": [
    "import numpy as np\n",
    "import pandas as pd\n",
    "from rdkit import Chem\n",
    "from molvs.normalize import Normalizer, Normalization\n",
    "from rdkit.Chem.SaltRemover import SaltRemover\n",
    "from molvs.charge import Reionizer, Uncharger"
   ]
  },
  {
   "cell_type": "code",
   "execution_count": 56,
   "id": "f86defb3",
   "metadata": {},
   "outputs": [],
   "source": [
    "smi='CC(=O)NC1=CC=C(C=C1)O'\n",
    "mol = Chem.MolFromSmiles(smi)\n",
    "normalizer = Normalizer()\n",
    "new1 = normalizer.normalize(mol)\n",
    "remover = SaltRemover()\n",
    "new2 = remover(new1)\n",
    "neutralize1 = Reionizer()\n",
    "new3 = neutralize1(new2)\n",
    "neutralize2 = Uncharger()\n",
    "new4 = neutralize2(new3)\n",
    "Chem.SanitizeMol(new4)\n",
    "new_smiles = Chem.MolToSmiles(new4,kekuleSmiles=False)"
   ]
  },
  {
   "cell_type": "code",
   "execution_count": 57,
   "id": "0cf09929",
   "metadata": {},
   "outputs": [
    {
     "name": "stdout",
     "output_type": "stream",
     "text": [
      "Processing dgl graphs from scratch...\n"
     ]
    }
   ],
   "source": [
    "smi=[new_smiles]\n",
    "df=pd.DataFrame(smi,columns=['SMILES'])\n",
    "dataset=load_data(df)"
   ]
  },
  {
   "cell_type": "markdown",
   "id": "71b320ff",
   "metadata": {},
   "source": [
    "## Load Models "
   ]
  },
  {
   "cell_type": "code",
   "execution_count": 58,
   "id": "5fb9777e",
   "metadata": {},
   "outputs": [
    {
     "data": {
      "text/plain": [
       "<All keys matched successfully>"
      ]
     },
     "execution_count": 58,
     "metadata": {},
     "output_type": "execute_result"
    }
   ],
   "source": [
    "from utils.attentivefp_predictor import AttentiveFPPredictor\n",
    "atfp=AttentiveFPPredictor(node_feat_size=78,\n",
    "                             edge_feat_size=12,\n",
    "                             num_layers=2,\n",
    "                             num_timesteps=2,\n",
    "                             graph_feat_size=128,\n",
    "                             predictor_hidden_feats=64,\n",
    "                             n_tasks=1)\n",
    "fn = '../ChemXGNN/Models/AttentiveFP/lipophilicity.pt'\n",
    "atfp.load_state_dict(torch.load(fn, map_location=torch.device('cpu')))"
   ]
  },
  {
   "cell_type": "code",
   "execution_count": 59,
   "id": "bcc198ed",
   "metadata": {},
   "outputs": [
    {
     "data": {
      "text/plain": [
       "<All keys matched successfully>"
      ]
     },
     "execution_count": 59,
     "metadata": {},
     "output_type": "execute_result"
    }
   ],
   "source": [
    "from utils.gat_predictor import GATPredictor\n",
    "gat = GATPredictor(in_feats=78,\n",
    "                   hidden_feats=[128,128],\n",
    "                   num_heads=[8,8],\n",
    "                   alphas=[0.333,0.333],\n",
    "                   residuals=[False,False],\n",
    "                   predictor_hidden_feats=64,\n",
    "                   n_tasks=1)\n",
    "fn = '../ChemXGNN/Models/GAT/lipophilicity.pt'\n",
    "gat.load_state_dict(torch.load(fn, map_location=torch.device('cpu')))"
   ]
  },
  {
   "cell_type": "code",
   "execution_count": 60,
   "id": "549ebceb",
   "metadata": {},
   "outputs": [
    {
     "data": {
      "text/plain": [
       "<All keys matched successfully>"
      ]
     },
     "execution_count": 60,
     "metadata": {},
     "output_type": "execute_result"
    }
   ],
   "source": [
    "from utils.gcn_predictor import GCNPredictor\n",
    "import torch.nn.functional as F\n",
    "gcn = GCNPredictor(in_feats=78,\n",
    "                     hidden_feats=[256,256],\n",
    "                     activation=[F.relu,F.relu],\n",
    "                     n_tasks=1,\n",
    "                     predictor_hidden_feats=256)\n",
    "fn = '../ChemXGNN/Models/GCN/lipophilicity.pt'\n",
    "gcn.load_state_dict(torch.load(fn, map_location=torch.device('cpu')))"
   ]
  },
  {
   "cell_type": "code",
   "execution_count": 61,
   "id": "66e2a465",
   "metadata": {},
   "outputs": [
    {
     "data": {
      "text/plain": [
       "<All keys matched successfully>"
      ]
     },
     "execution_count": 61,
     "metadata": {},
     "output_type": "execute_result"
    }
   ],
   "source": [
    "from utils.graphsage_predictor import GraphSAGEPredictor\n",
    "import torch.nn as nn\n",
    "graphsage = GraphSAGEPredictor(in_feats=78,\n",
    "                           hidden_feats=[128,128],\n",
    "                           activation=[nn.LeakyReLU,nn.LeakyReLU],\n",
    "                           aggregator_type=['lstm','lstm'],\n",
    "                           predictor_hidden_feats=128,\n",
    "                           n_tasks=1)\n",
    "fn = '../ChemXGNN/Models/Graphsage/lipophilicity.pt'\n",
    "graphsage.load_state_dict(torch.load(fn, map_location=torch.device('cpu')))"
   ]
  },
  {
   "cell_type": "markdown",
   "id": "6c28143c",
   "metadata": {},
   "source": [
    "## IG "
   ]
  },
  {
   "cell_type": "code",
   "execution_count": 62,
   "id": "5b1d45fc",
   "metadata": {},
   "outputs": [],
   "source": [
    "def draw(model,datasets):\n",
    "    model.eval()\n",
    "    smiles, bg, label, masks = dataset[0]\n",
    "    n_feats = bg.ndata['hv'].requires_grad_()\n",
    "    pred, node_gradient = model.forward(bg, n_feats, get_node_gradient=True)\n",
    "    prob_aro = torch.sigmoid(node_gradient).numpy().tolist()\n",
    "    node_gradient = node_gradient.detach().cpu().numpy().tolist()\n",
    "    nodes = []\n",
    "    for pred_aro in node_gradient:\n",
    "        if pred_aro >= 0:\n",
    "            nodes.append(int(1))\n",
    "        else:\n",
    "            nodes.append(int(0))\n",
    "    m = Chem.MolFromSmiles(smiles)\n",
    "    rdDepictor.Compute2DCoords(m)\n",
    "    drawer = rdMolDraw2D.MolDraw2DSVG(650,650)\n",
    "    drawer.SetFontSize(1200)\n",
    "    op = drawer.drawOptions().addAtomIndices=True\n",
    "    mol = rdMolDraw2D.PrepareMolForDrawing(m)\n",
    "    c=nodes\n",
    "    important_index = []\n",
    "    for i, value in enumerate(c):\n",
    "        if value == 1:\n",
    "            important_index.append(i)\n",
    "    colors = [(51,34,136),(17,119,51),(68,170,153),(136,204,238),(221,204,119),(204,102,119),(170,68,153),(206,95,115)]\n",
    "    for i,x in enumerate(colors):\n",
    "        colors[i] = tuple(y/255 for y in x)\n",
    "    atom_cols={}\n",
    "    for bd in important_index:\n",
    "        atom_cols[bd] = colors[i%9]\n",
    "    drawer.DrawMolecule(m,highlightAtoms= important_index,highlightBonds=None,highlightAtomColors=atom_cols,\n",
    "                        highlightAtomRadii={i: .4 for i in important_index}\n",
    "                               )\n",
    "    drawer.drawOptions().useBWAtomPalette()\n",
    "    drawer.drawOptions().padding = .2\n",
    "    drawer.FinishDrawing()\n",
    "    svg = drawer.GetDrawingText()\n",
    "    svg = svg.replace('svg:','')\n",
    "    display(SVG(svg))"
   ]
  },
  {
   "cell_type": "code",
   "execution_count": 63,
   "id": "54aa4edf",
   "metadata": {},
   "outputs": [
    {
     "data": {
      "image/svg+xml": [
       "<svg baseProfile=\"full\" height=\"650px\" version=\"1.1\" viewBox=\"0 0 650 650\" width=\"650px\" xml:space=\"preserve\" xmlns=\"http://www.w3.org/2000/svg\" xmlns:rdkit=\"http://www.rdkit.org/xml\" xmlns:xlink=\"http://www.w3.org/1999/xlink\">\n",
       "<!-- END OF HEADER -->\n",
       "<rect height=\"650.0\" style=\"opacity:1.0;fill:#FFFFFF;stroke:none\" width=\"650.0\" x=\"0.0\" y=\"0.0\"> </rect>\n",
       "<ellipse cx=\"55.1\" cy=\"348.4\" rx=\"25.5\" ry=\"25.5\" style=\"fill:#CE5F73;fill-rule:evenodd;stroke:#CE5F73;stroke-width:1.0px;stroke-linecap:butt;stroke-linejoin:miter;stroke-opacity:1\"/>\n",
       "<ellipse cx=\"172.4\" cy=\"231.3\" rx=\"25.5\" ry=\"25.5\" style=\"fill:#CE5F73;fill-rule:evenodd;stroke:#CE5F73;stroke-width:1.0px;stroke-linecap:butt;stroke-linejoin:miter;stroke-opacity:1\"/>\n",
       "<ellipse cx=\"215.3\" cy=\"406.3\" rx=\"25.5\" ry=\"40.3\" style=\"fill:#CE5F73;fill-rule:evenodd;stroke:#CE5F73;stroke-width:1.0px;stroke-linecap:butt;stroke-linejoin:miter;stroke-opacity:1\"/>\n",
       "<ellipse cx=\"307.9\" cy=\"366.6\" rx=\"25.5\" ry=\"25.5\" style=\"fill:#CE5F73;fill-rule:evenodd;stroke:#CE5F73;stroke-width:1.0px;stroke-linecap:butt;stroke-linejoin:miter;stroke-opacity:1\"/>\n",
       "<ellipse cx=\"492.9\" cy=\"317.0\" rx=\"25.5\" ry=\"25.5\" style=\"fill:#CE5F73;fill-rule:evenodd;stroke:#CE5F73;stroke-width:1.0px;stroke-linecap:butt;stroke-linejoin:miter;stroke-opacity:1\"/>\n",
       "<ellipse cx=\"468.1\" cy=\"409.5\" rx=\"25.5\" ry=\"25.5\" style=\"fill:#CE5F73;fill-rule:evenodd;stroke:#CE5F73;stroke-width:1.0px;stroke-linecap:butt;stroke-linejoin:miter;stroke-opacity:1\"/>\n",
       "<path class=\"bond-0 atom-0 atom-1\" d=\"M 55.1,348.4 L 147.6,323.6\" style=\"fill:none;fill-rule:evenodd;stroke:#000000;stroke-width:2.0px;stroke-linecap:butt;stroke-linejoin:miter;stroke-opacity:1\"/>\n",
       "<path class=\"bond-1 atom-1 atom-2\" d=\"M 156.9,326.1 L 167.0,288.1\" style=\"fill:none;fill-rule:evenodd;stroke:#000000;stroke-width:2.0px;stroke-linecap:butt;stroke-linejoin:miter;stroke-opacity:1\"/>\n",
       "<path class=\"bond-1 atom-1 atom-2\" d=\"M 167.0,288.1 L 177.2,250.1\" style=\"fill:none;fill-rule:evenodd;stroke:#FF0000;stroke-width:2.0px;stroke-linecap:butt;stroke-linejoin:miter;stroke-opacity:1\"/>\n",
       "<path class=\"bond-1 atom-1 atom-2\" d=\"M 138.4,321.2 L 148.5,283.2\" style=\"fill:none;fill-rule:evenodd;stroke:#000000;stroke-width:2.0px;stroke-linecap:butt;stroke-linejoin:miter;stroke-opacity:1\"/>\n",
       "<path class=\"bond-1 atom-1 atom-2\" d=\"M 148.5,283.2 L 158.7,245.2\" style=\"fill:none;fill-rule:evenodd;stroke:#FF0000;stroke-width:2.0px;stroke-linecap:butt;stroke-linejoin:miter;stroke-opacity:1\"/>\n",
       "<path class=\"bond-2 atom-1 atom-3\" d=\"M 147.6,323.6 L 175.1,351.2\" style=\"fill:none;fill-rule:evenodd;stroke:#000000;stroke-width:2.0px;stroke-linecap:butt;stroke-linejoin:miter;stroke-opacity:1\"/>\n",
       "<path class=\"bond-2 atom-1 atom-3\" d=\"M 175.1,351.2 L 202.7,378.7\" style=\"fill:none;fill-rule:evenodd;stroke:#0000FF;stroke-width:2.0px;stroke-linecap:butt;stroke-linejoin:miter;stroke-opacity:1\"/>\n",
       "<path class=\"bond-3 atom-3 atom-4\" d=\"M 228.0,388.0 L 267.9,377.3\" style=\"fill:none;fill-rule:evenodd;stroke:#0000FF;stroke-width:2.0px;stroke-linecap:butt;stroke-linejoin:miter;stroke-opacity:1\"/>\n",
       "<path class=\"bond-3 atom-3 atom-4\" d=\"M 267.9,377.3 L 307.9,366.6\" style=\"fill:none;fill-rule:evenodd;stroke:#000000;stroke-width:2.0px;stroke-linecap:butt;stroke-linejoin:miter;stroke-opacity:1\"/>\n",
       "<path class=\"bond-4 atom-4 atom-5\" d=\"M 307.9,366.6 L 332.6,274.1\" style=\"fill:none;fill-rule:evenodd;stroke:#000000;stroke-width:2.0px;stroke-linecap:butt;stroke-linejoin:miter;stroke-opacity:1\"/>\n",
       "<path class=\"bond-4 atom-4 atom-5\" d=\"M 330.1,357.7 L 347.4,292.9\" style=\"fill:none;fill-rule:evenodd;stroke:#000000;stroke-width:2.0px;stroke-linecap:butt;stroke-linejoin:miter;stroke-opacity:1\"/>\n",
       "<path class=\"bond-10 atom-10 atom-4\" d=\"M 375.6,434.3 L 307.9,366.6\" style=\"fill:none;fill-rule:evenodd;stroke:#000000;stroke-width:2.0px;stroke-linecap:butt;stroke-linejoin:miter;stroke-opacity:1\"/>\n",
       "<path class=\"bond-5 atom-5 atom-6\" d=\"M 332.6,274.1 L 425.2,249.3\" style=\"fill:none;fill-rule:evenodd;stroke:#000000;stroke-width:2.0px;stroke-linecap:butt;stroke-linejoin:miter;stroke-opacity:1\"/>\n",
       "<path class=\"bond-6 atom-6 atom-7\" d=\"M 425.2,249.3 L 492.9,317.0\" style=\"fill:none;fill-rule:evenodd;stroke:#000000;stroke-width:2.0px;stroke-linecap:butt;stroke-linejoin:miter;stroke-opacity:1\"/>\n",
       "<path class=\"bond-6 atom-6 atom-7\" d=\"M 421.8,273.0 L 469.2,320.4\" style=\"fill:none;fill-rule:evenodd;stroke:#000000;stroke-width:2.0px;stroke-linecap:butt;stroke-linejoin:miter;stroke-opacity:1\"/>\n",
       "<path class=\"bond-7 atom-7 atom-8\" d=\"M 492.9,317.0 L 531.7,306.6\" style=\"fill:none;fill-rule:evenodd;stroke:#000000;stroke-width:2.0px;stroke-linecap:butt;stroke-linejoin:miter;stroke-opacity:1\"/>\n",
       "<path class=\"bond-7 atom-7 atom-8\" d=\"M 531.7,306.6 L 570.6,296.2\" style=\"fill:none;fill-rule:evenodd;stroke:#FF0000;stroke-width:2.0px;stroke-linecap:butt;stroke-linejoin:miter;stroke-opacity:1\"/>\n",
       "<path class=\"bond-8 atom-7 atom-9\" d=\"M 492.9,317.0 L 468.1,409.5\" style=\"fill:none;fill-rule:evenodd;stroke:#000000;stroke-width:2.0px;stroke-linecap:butt;stroke-linejoin:miter;stroke-opacity:1\"/>\n",
       "<path class=\"bond-9 atom-9 atom-10\" d=\"M 468.1,409.5 L 375.6,434.3\" style=\"fill:none;fill-rule:evenodd;stroke:#000000;stroke-width:2.0px;stroke-linecap:butt;stroke-linejoin:miter;stroke-opacity:1\"/>\n",
       "<path class=\"bond-9 atom-9 atom-10\" d=\"M 449.3,394.7 L 384.5,412.1\" style=\"fill:none;fill-rule:evenodd;stroke:#000000;stroke-width:2.0px;stroke-linecap:butt;stroke-linejoin:miter;stroke-opacity:1\"/>\n",
       "<path class=\"atom-2\" d=\"M 159.9 231.2 Q 159.9 224.7, 163.2 221.0 Q 166.4 217.4, 172.4 217.4 Q 178.4 217.4, 181.6 221.0 Q 184.8 224.7, 184.8 231.2 Q 184.8 237.8, 181.6 241.5 Q 178.3 245.3, 172.4 245.3 Q 166.4 245.3, 163.2 241.5 Q 159.9 237.8, 159.9 231.2 M 172.4 242.2 Q 176.5 242.2, 178.8 239.4 Q 181.0 236.6, 181.0 231.2 Q 181.0 225.9, 178.8 223.2 Q 176.5 220.5, 172.4 220.5 Q 168.3 220.5, 166.0 223.1 Q 163.8 225.8, 163.8 231.2 Q 163.8 236.7, 166.0 239.4 Q 168.3 242.2, 172.4 242.2 \" fill=\"#FF0000\"/>\n",
       "<path class=\"atom-3\" d=\"M 209.3 377.8 L 218.2 392.2 Q 219.1 393.6, 220.5 396.2 Q 221.9 398.7, 222.0 398.9 L 222.0 377.8 L 225.6 377.8 L 225.6 404.9 L 221.9 404.9 L 212.4 389.2 Q 211.3 387.4, 210.1 385.3 Q 208.9 383.2, 208.6 382.5 L 208.6 404.9 L 205.0 404.9 L 205.0 377.8 L 209.3 377.8 \" fill=\"#0000FF\"/>\n",
       "<path class=\"atom-3\" d=\"M 204.7 407.6 L 208.4 407.6 L 208.4 419.2 L 222.3 419.2 L 222.3 407.6 L 225.9 407.6 L 225.9 434.8 L 222.3 434.8 L 222.3 422.2 L 208.4 422.2 L 208.4 434.8 L 204.7 434.8 L 204.7 407.6 \" fill=\"#0000FF\"/>\n",
       "<path class=\"atom-8\" d=\"M 573.0 292.3 Q 573.0 285.8, 576.2 282.1 Q 579.4 278.5, 585.4 278.5 Q 591.4 278.5, 594.6 282.1 Q 597.9 285.8, 597.9 292.3 Q 597.9 298.9, 594.6 302.6 Q 591.4 306.3, 585.4 306.3 Q 579.4 306.3, 576.2 302.6 Q 573.0 298.9, 573.0 292.3 M 585.4 303.3 Q 589.5 303.3, 591.8 300.5 Q 594.0 297.7, 594.0 292.3 Q 594.0 287.0, 591.8 284.3 Q 589.5 281.6, 585.4 281.6 Q 581.3 281.6, 579.0 284.2 Q 576.8 286.9, 576.8 292.3 Q 576.8 297.8, 579.0 300.5 Q 581.3 303.3, 585.4 303.3 \" fill=\"#FF0000\"/>\n",
       "<path class=\"atom-8\" d=\"M 601.1 278.8 L 604.8 278.8 L 604.8 290.3 L 618.7 290.3 L 618.7 278.8 L 622.3 278.8 L 622.3 305.9 L 618.7 305.9 L 618.7 293.4 L 604.8 293.4 L 604.8 305.9 L 601.1 305.9 L 601.1 278.8 \" fill=\"#FF0000\"/>\n",
       "<path class=\"note\" d=\"M 59.2 370.9 Q 56.7 370.9, 55.5 369.0 Q 54.3 367.2, 54.3 363.9 Q 54.3 360.6, 55.5 358.8 Q 56.7 357.0, 59.2 357.0 Q 61.7 357.0, 63.0 358.8 Q 64.2 360.6, 64.2 363.9 Q 64.2 367.2, 62.9 369.0 Q 61.7 370.9, 59.2 370.9 M 59.2 369.3 Q 60.7 369.3, 61.5 368.0 Q 62.3 366.6, 62.3 363.9 Q 62.3 361.2, 61.5 359.9 Q 60.7 358.5, 59.2 358.5 Q 57.8 358.5, 57.0 359.9 Q 56.2 361.2, 56.2 363.9 Q 56.2 366.6, 57.0 368.0 Q 57.8 369.3, 59.2 369.3 \" fill=\"#000000\"/>\n",
       "<path class=\"note\" d=\"M 133.0 317.6 L 135.9 317.6 L 135.9 307.5 L 132.7 308.5 L 132.2 307.4 L 136.4 305.5 L 137.7 305.8 L 137.7 317.6 L 140.4 317.6 L 140.4 319.2 L 133.0 319.2 L 133.0 317.6 \" fill=\"#000000\"/>\n",
       "<path class=\"note\" d=\"M 176.1 196.1 Q 176.6 194.9, 177.8 194.1 Q 179.0 193.4, 180.7 193.4 Q 182.7 193.4, 183.9 194.5 Q 185.0 195.6, 185.0 197.6 Q 185.0 199.6, 183.5 201.5 Q 182.0 203.4, 179.0 205.6 L 185.2 205.6 L 185.2 207.1 L 176.1 207.1 L 176.1 205.9 Q 178.6 204.1, 180.1 202.7 Q 181.6 201.4, 182.4 200.2 Q 183.1 199.0, 183.1 197.7 Q 183.1 196.4, 182.4 195.7 Q 181.8 195.0, 180.7 195.0 Q 179.6 195.0, 178.8 195.4 Q 178.1 195.8, 177.6 196.8 L 176.1 196.1 \" fill=\"#000000\"/>\n",
       "<path class=\"note\" d=\"M 225.6 360.2 Q 226.9 360.6, 227.5 361.5 Q 228.2 362.3, 228.2 363.7 Q 228.2 364.8, 227.6 365.7 Q 227.0 366.6, 226.0 367.1 Q 224.9 367.6, 223.5 367.6 Q 222.1 367.6, 221.0 367.1 Q 219.9 366.6, 219.0 365.5 L 220.1 364.4 Q 221.0 365.3, 221.7 365.7 Q 222.4 366.0, 223.5 366.0 Q 224.7 366.0, 225.5 365.4 Q 226.2 364.7, 226.2 363.6 Q 226.2 362.3, 225.5 361.7 Q 224.7 361.0, 223.0 361.0 L 222.0 361.0 L 222.0 359.6 L 222.9 359.6 Q 224.4 359.6, 225.2 359.0 Q 226.0 358.3, 226.0 357.1 Q 226.0 356.3, 225.3 355.7 Q 224.7 355.2, 223.5 355.2 Q 222.4 355.2, 221.7 355.6 Q 221.0 356.0, 220.5 357.0 L 219.2 356.3 Q 219.6 355.2, 220.8 354.4 Q 221.9 353.7, 223.5 353.7 Q 225.5 353.7, 226.7 354.6 Q 227.9 355.5, 227.9 357.1 Q 227.9 358.2, 227.3 359.0 Q 226.7 359.8, 225.6 360.2 \" fill=\"#000000\"/>\n",
       "<path class=\"note\" d=\"M 300.2 357.4 L 301.8 357.4 L 301.8 358.9 L 300.2 358.9 L 300.2 362.1 L 298.4 362.1 L 298.4 358.9 L 291.3 358.9 L 291.3 357.7 L 297.3 348.5 L 300.2 348.5 L 300.2 357.4 M 293.6 357.4 L 298.4 357.4 L 298.4 349.7 L 293.6 357.4 \" fill=\"#000000\"/>\n",
       "<path class=\"note\" d=\"M 321.7 261.1 Q 322.9 261.1, 323.9 261.6 Q 324.8 262.1, 325.4 263.0 Q 325.9 264.0, 325.9 265.3 Q 325.9 266.7, 325.3 267.7 Q 324.6 268.7, 323.5 269.2 Q 322.4 269.7, 321.1 269.7 Q 319.9 269.7, 318.7 269.2 Q 317.6 268.8, 316.8 267.9 L 317.9 266.7 Q 318.6 267.4, 319.4 267.8 Q 320.3 268.2, 321.2 268.2 Q 322.4 268.2, 323.2 267.4 Q 324.0 266.7, 324.0 265.3 Q 324.0 263.9, 323.2 263.2 Q 322.4 262.5, 321.0 262.5 Q 319.9 262.5, 318.5 263.0 L 317.5 262.5 L 318.1 256.0 L 325.1 256.0 L 324.9 257.5 L 319.7 257.5 L 319.3 261.5 Q 320.5 261.1, 321.7 261.1 \" fill=\"#000000\"/>\n",
       "<path class=\"note\" d=\"M 429.9 232.2 Q 431.1 232.2, 432.0 232.8 Q 433.0 233.3, 433.5 234.2 Q 434.0 235.1, 434.0 236.3 Q 434.0 237.7, 433.4 238.7 Q 432.8 239.7, 431.8 240.3 Q 430.8 240.9, 429.4 240.9 Q 427.0 240.9, 425.8 239.2 Q 424.6 237.6, 424.6 234.3 Q 424.6 230.7, 426.1 228.9 Q 427.6 227.0, 430.5 227.0 Q 431.3 227.0, 432.0 227.2 Q 432.8 227.4, 433.5 227.8 L 432.7 229.1 Q 431.7 228.5, 430.5 228.5 Q 428.6 228.5, 427.6 229.8 Q 426.6 231.0, 426.5 233.5 Q 427.2 232.9, 428.1 232.6 Q 429.0 232.2, 429.9 232.2 M 429.5 239.3 Q 430.2 239.3, 430.8 238.9 Q 431.4 238.5, 431.7 237.8 Q 432.1 237.2, 432.1 236.4 Q 432.1 235.1, 431.4 234.5 Q 430.7 233.8, 429.6 233.8 Q 428.7 233.8, 427.9 234.1 Q 427.1 234.4, 426.5 235.0 Q 426.6 237.3, 427.3 238.3 Q 428.0 239.3, 429.5 239.3 \" fill=\"#000000\"/>\n",
       "<path class=\"note\" d=\"M 499.6 296.3 L 492.5 296.3 L 492.5 294.8 L 501.5 294.8 L 501.5 296.2 L 496.0 308.4 L 494.2 308.4 L 499.6 296.3 \" fill=\"#000000\"/>\n",
       "<path class=\"note\" d=\"M 618.4 283.6 Q 619.6 284.2, 620.3 285.0 Q 621.0 285.7, 621.0 287.1 Q 621.0 288.2, 620.4 289.1 Q 619.9 290.0, 618.8 290.5 Q 617.7 291.0, 616.3 291.0 Q 614.1 291.0, 612.8 290.0 Q 611.5 288.9, 611.5 287.1 Q 611.5 286.0, 612.0 285.1 Q 612.6 284.3, 613.8 283.7 Q 612.9 283.2, 612.4 282.4 Q 612.0 281.7, 612.0 280.5 Q 612.0 279.0, 613.1 278.0 Q 614.3 277.1, 616.3 277.1 Q 618.2 277.1, 619.4 278.0 Q 620.5 279.0, 620.5 280.5 Q 620.5 281.5, 620.0 282.3 Q 619.5 283.0, 618.4 283.6 M 616.3 278.5 Q 615.1 278.5, 614.5 279.1 Q 613.9 279.6, 613.9 280.5 Q 613.9 281.3, 614.3 281.7 Q 614.7 282.2, 615.3 282.5 Q 615.9 282.7, 617.1 283.1 Q 617.9 282.6, 618.3 281.9 Q 618.6 281.3, 618.6 280.5 Q 618.6 279.6, 618.0 279.1 Q 617.4 278.5, 616.3 278.5 M 616.3 289.6 Q 617.6 289.6, 618.4 288.9 Q 619.1 288.2, 619.1 287.1 Q 619.1 286.3, 618.7 285.9 Q 618.3 285.4, 617.7 285.1 Q 617.1 284.9, 616.0 284.5 L 615.2 284.2 Q 614.2 284.8, 613.8 285.5 Q 613.4 286.2, 613.4 287.1 Q 613.4 288.2, 614.2 288.9 Q 615.0 289.6, 616.3 289.6 \" fill=\"#000000\"/>\n",
       "<path class=\"note\" d=\"M 479.2 413.9 Q 481.7 413.9, 482.9 415.6 Q 484.1 417.2, 484.1 420.5 Q 484.1 424.1, 482.6 426.0 Q 481.1 427.8, 478.2 427.8 Q 477.4 427.8, 476.6 427.6 Q 475.9 427.4, 475.2 427.0 L 476.0 425.7 Q 477.0 426.3, 478.2 426.3 Q 480.1 426.3, 481.1 425.1 Q 482.0 423.8, 482.2 421.3 Q 481.5 421.9, 480.6 422.2 Q 479.7 422.6, 478.8 422.6 Q 477.6 422.6, 476.7 422.0 Q 475.7 421.5, 475.2 420.6 Q 474.7 419.7, 474.7 418.5 Q 474.7 417.1, 475.3 416.1 Q 475.9 415.1, 476.9 414.5 Q 477.9 413.9, 479.2 413.9 M 476.6 418.4 Q 476.6 419.7, 477.3 420.3 Q 477.9 421.0, 479.1 421.0 Q 480.0 421.0, 480.8 420.7 Q 481.6 420.4, 482.2 419.8 Q 482.1 417.5, 481.4 416.5 Q 480.7 415.5, 479.2 415.5 Q 478.5 415.5, 477.9 415.9 Q 477.3 416.3, 476.9 417.0 Q 476.6 417.6, 476.6 418.4 \" fill=\"#000000\"/>\n",
       "<path class=\"note\" d=\"M 358.5 455.0 L 361.4 455.0 L 361.4 444.9 L 358.2 445.9 L 357.7 444.8 L 361.9 442.9 L 363.2 443.2 L 363.2 455.0 L 365.9 455.0 L 365.9 456.6 L 358.5 456.6 L 358.5 455.0 \" fill=\"#000000\"/>\n",
       "<path class=\"note\" d=\"M 372.0 456.7 Q 369.5 456.7, 368.3 454.9 Q 367.1 453.1, 367.1 449.8 Q 367.1 446.5, 368.3 444.7 Q 369.5 442.9, 372.0 442.9 Q 374.5 442.9, 375.8 444.7 Q 377.0 446.5, 377.0 449.8 Q 377.0 453.1, 375.8 454.9 Q 374.5 456.7, 372.0 456.7 M 372.0 455.2 Q 373.5 455.2, 374.3 453.8 Q 375.1 452.5, 375.1 449.8 Q 375.1 447.1, 374.3 445.8 Q 373.5 444.4, 372.0 444.4 Q 370.6 444.4, 369.8 445.8 Q 369.0 447.1, 369.0 449.8 Q 369.0 452.5, 369.8 453.8 Q 370.6 455.2, 372.0 455.2 \" fill=\"#000000\"/>\n",
       "</svg>"
      ],
      "text/plain": [
       "<IPython.core.display.SVG object>"
      ]
     },
     "metadata": {},
     "output_type": "display_data"
    }
   ],
   "source": [
    "draw(gcn,dataset)"
   ]
  },
  {
   "cell_type": "code",
   "execution_count": 64,
   "id": "574204ca",
   "metadata": {},
   "outputs": [
    {
     "data": {
      "image/svg+xml": [
       "<svg baseProfile=\"full\" height=\"650px\" version=\"1.1\" viewBox=\"0 0 650 650\" width=\"650px\" xml:space=\"preserve\" xmlns=\"http://www.w3.org/2000/svg\" xmlns:rdkit=\"http://www.rdkit.org/xml\" xmlns:xlink=\"http://www.w3.org/1999/xlink\">\n",
       "<!-- END OF HEADER -->\n",
       "<rect height=\"650.0\" style=\"opacity:1.0;fill:#FFFFFF;stroke:none\" width=\"650.0\" x=\"0.0\" y=\"0.0\"> </rect>\n",
       "<ellipse cx=\"126.5\" cy=\"318.3\" rx=\"26.8\" ry=\"26.8\" style=\"fill:#CE5F73;fill-rule:evenodd;stroke:#CE5F73;stroke-width:1.0px;stroke-linecap:butt;stroke-linejoin:miter;stroke-opacity:1\"/>\n",
       "<ellipse cx=\"294.5\" cy=\"363.3\" rx=\"26.8\" ry=\"26.8\" style=\"fill:#CE5F73;fill-rule:evenodd;stroke:#CE5F73;stroke-width:1.0px;stroke-linecap:butt;stroke-linejoin:miter;stroke-opacity:1\"/>\n",
       "<ellipse cx=\"320.5\" cy=\"266.3\" rx=\"26.8\" ry=\"26.8\" style=\"fill:#CE5F73;fill-rule:evenodd;stroke:#CE5F73;stroke-width:1.0px;stroke-linecap:butt;stroke-linejoin:miter;stroke-opacity:1\"/>\n",
       "<ellipse cx=\"462.4\" cy=\"408.3\" rx=\"26.8\" ry=\"26.8\" style=\"fill:#CE5F73;fill-rule:evenodd;stroke:#CE5F73;stroke-width:1.0px;stroke-linecap:butt;stroke-linejoin:miter;stroke-opacity:1\"/>\n",
       "<ellipse cx=\"365.5\" cy=\"434.3\" rx=\"26.8\" ry=\"26.8\" style=\"fill:#CE5F73;fill-rule:evenodd;stroke:#CE5F73;stroke-width:1.0px;stroke-linecap:butt;stroke-linejoin:miter;stroke-opacity:1\"/>\n",
       "<path class=\"bond-0 atom-0 atom-1\" d=\"M 29.5,344.2 L 126.5,318.3\" style=\"fill:none;fill-rule:evenodd;stroke:#000000;stroke-width:2.0px;stroke-linecap:butt;stroke-linejoin:miter;stroke-opacity:1\"/>\n",
       "<path class=\"bond-1 atom-1 atom-2\" d=\"M 136.2,320.9 L 146.9,281.0\" style=\"fill:none;fill-rule:evenodd;stroke:#000000;stroke-width:2.0px;stroke-linecap:butt;stroke-linejoin:miter;stroke-opacity:1\"/>\n",
       "<path class=\"bond-1 atom-1 atom-2\" d=\"M 146.9,281.0 L 157.6,241.2\" style=\"fill:none;fill-rule:evenodd;stroke:#FF0000;stroke-width:2.0px;stroke-linecap:butt;stroke-linejoin:miter;stroke-opacity:1\"/>\n",
       "<path class=\"bond-1 atom-1 atom-2\" d=\"M 116.8,315.7 L 127.5,275.8\" style=\"fill:none;fill-rule:evenodd;stroke:#000000;stroke-width:2.0px;stroke-linecap:butt;stroke-linejoin:miter;stroke-opacity:1\"/>\n",
       "<path class=\"bond-1 atom-1 atom-2\" d=\"M 127.5,275.8 L 138.2,236.0\" style=\"fill:none;fill-rule:evenodd;stroke:#FF0000;stroke-width:2.0px;stroke-linecap:butt;stroke-linejoin:miter;stroke-opacity:1\"/>\n",
       "<path class=\"bond-2 atom-1 atom-3\" d=\"M 126.5,318.3 L 155.4,347.1\" style=\"fill:none;fill-rule:evenodd;stroke:#000000;stroke-width:2.0px;stroke-linecap:butt;stroke-linejoin:miter;stroke-opacity:1\"/>\n",
       "<path class=\"bond-2 atom-1 atom-3\" d=\"M 155.4,347.1 L 184.3,376.0\" style=\"fill:none;fill-rule:evenodd;stroke:#0000FF;stroke-width:2.0px;stroke-linecap:butt;stroke-linejoin:miter;stroke-opacity:1\"/>\n",
       "<path class=\"bond-3 atom-3 atom-4\" d=\"M 210.8,385.7 L 252.6,374.5\" style=\"fill:none;fill-rule:evenodd;stroke:#0000FF;stroke-width:2.0px;stroke-linecap:butt;stroke-linejoin:miter;stroke-opacity:1\"/>\n",
       "<path class=\"bond-3 atom-3 atom-4\" d=\"M 252.6,374.5 L 294.5,363.3\" style=\"fill:none;fill-rule:evenodd;stroke:#000000;stroke-width:2.0px;stroke-linecap:butt;stroke-linejoin:miter;stroke-opacity:1\"/>\n",
       "<path class=\"bond-4 atom-4 atom-5\" d=\"M 294.5,363.3 L 320.5,266.3\" style=\"fill:none;fill-rule:evenodd;stroke:#000000;stroke-width:2.0px;stroke-linecap:butt;stroke-linejoin:miter;stroke-opacity:1\"/>\n",
       "<path class=\"bond-4 atom-4 atom-5\" d=\"M 317.8,353.9 L 336.0,286.0\" style=\"fill:none;fill-rule:evenodd;stroke:#000000;stroke-width:2.0px;stroke-linecap:butt;stroke-linejoin:miter;stroke-opacity:1\"/>\n",
       "<path class=\"bond-10 atom-10 atom-4\" d=\"M 365.5,434.3 L 294.5,363.3\" style=\"fill:none;fill-rule:evenodd;stroke:#000000;stroke-width:2.0px;stroke-linecap:butt;stroke-linejoin:miter;stroke-opacity:1\"/>\n",
       "<path class=\"bond-5 atom-5 atom-6\" d=\"M 320.5,266.3 L 417.4,240.3\" style=\"fill:none;fill-rule:evenodd;stroke:#000000;stroke-width:2.0px;stroke-linecap:butt;stroke-linejoin:miter;stroke-opacity:1\"/>\n",
       "<path class=\"bond-6 atom-6 atom-7\" d=\"M 417.4,240.3 L 488.4,311.3\" style=\"fill:none;fill-rule:evenodd;stroke:#000000;stroke-width:2.0px;stroke-linecap:butt;stroke-linejoin:miter;stroke-opacity:1\"/>\n",
       "<path class=\"bond-6 atom-6 atom-7\" d=\"M 413.9,265.2 L 463.6,314.9\" style=\"fill:none;fill-rule:evenodd;stroke:#000000;stroke-width:2.0px;stroke-linecap:butt;stroke-linejoin:miter;stroke-opacity:1\"/>\n",
       "<path class=\"bond-7 atom-7 atom-8\" d=\"M 488.4,311.3 L 529.2,300.4\" style=\"fill:none;fill-rule:evenodd;stroke:#000000;stroke-width:2.0px;stroke-linecap:butt;stroke-linejoin:miter;stroke-opacity:1\"/>\n",
       "<path class=\"bond-7 atom-7 atom-8\" d=\"M 529.2,300.4 L 569.9,289.5\" style=\"fill:none;fill-rule:evenodd;stroke:#FF0000;stroke-width:2.0px;stroke-linecap:butt;stroke-linejoin:miter;stroke-opacity:1\"/>\n",
       "<path class=\"bond-8 atom-7 atom-9\" d=\"M 488.4,311.3 L 462.4,408.3\" style=\"fill:none;fill-rule:evenodd;stroke:#000000;stroke-width:2.0px;stroke-linecap:butt;stroke-linejoin:miter;stroke-opacity:1\"/>\n",
       "<path class=\"bond-9 atom-9 atom-10\" d=\"M 462.4,408.3 L 365.5,434.3\" style=\"fill:none;fill-rule:evenodd;stroke:#000000;stroke-width:2.0px;stroke-linecap:butt;stroke-linejoin:miter;stroke-opacity:1\"/>\n",
       "<path class=\"bond-9 atom-9 atom-10\" d=\"M 442.7,392.8 L 374.8,411.0\" style=\"fill:none;fill-rule:evenodd;stroke:#000000;stroke-width:2.0px;stroke-linecap:butt;stroke-linejoin:miter;stroke-opacity:1\"/>\n",
       "<path class=\"atom-2\" d=\"M 139.5 221.4 Q 139.5 214.6, 142.9 210.8 Q 146.2 207.0, 152.5 207.0 Q 158.8 207.0, 162.1 210.8 Q 165.5 214.6, 165.5 221.4 Q 165.5 228.3, 162.1 232.2 Q 158.7 236.1, 152.5 236.1 Q 146.3 236.1, 142.9 232.2 Q 139.5 228.3, 139.5 221.4 M 152.5 232.9 Q 156.8 232.9, 159.1 230.0 Q 161.5 227.1, 161.5 221.4 Q 161.5 215.8, 159.1 213.0 Q 156.8 210.2, 152.5 210.2 Q 148.2 210.2, 145.8 213.0 Q 143.5 215.8, 143.5 221.4 Q 143.5 227.1, 145.8 230.0 Q 148.2 232.9, 152.5 232.9 \" fill=\"#FF0000\"/>\n",
       "<path class=\"atom-3\" d=\"M 191.2 375.1 L 200.5 390.1 Q 201.4 391.6, 202.9 394.3 Q 204.4 396.9, 204.5 397.1 L 204.5 375.1 L 208.2 375.1 L 208.2 403.4 L 204.4 403.4 L 194.4 387.0 Q 193.2 385.1, 192.0 382.9 Q 190.8 380.7, 190.4 380.0 L 190.4 403.4 L 186.8 403.4 L 186.8 375.1 L 191.2 375.1 \" fill=\"#0000FF\"/>\n",
       "<path class=\"atom-3\" d=\"M 186.4 406.2 L 190.3 406.2 L 190.3 418.3 L 204.7 418.3 L 204.7 406.2 L 208.6 406.2 L 208.6 434.6 L 204.7 434.6 L 204.7 421.5 L 190.3 421.5 L 190.3 434.6 L 186.4 434.6 L 186.4 406.2 \" fill=\"#0000FF\"/>\n",
       "<path class=\"atom-8\" d=\"M 572.4 285.4 Q 572.4 278.6, 575.8 274.8 Q 579.1 271.0, 585.4 271.0 Q 591.7 271.0, 595.0 274.8 Q 598.4 278.6, 598.4 285.4 Q 598.4 292.3, 595.0 296.2 Q 591.6 300.1, 585.4 300.1 Q 579.2 300.1, 575.8 296.2 Q 572.4 292.3, 572.4 285.4 M 585.4 296.9 Q 589.7 296.9, 592.0 294.0 Q 594.4 291.1, 594.4 285.4 Q 594.4 279.8, 592.0 277.0 Q 589.7 274.2, 585.4 274.2 Q 581.1 274.2, 578.7 277.0 Q 576.4 279.8, 576.4 285.4 Q 576.4 291.1, 578.7 294.0 Q 581.1 296.9, 585.4 296.9 \" fill=\"#FF0000\"/>\n",
       "<path class=\"atom-8\" d=\"M 601.8 271.3 L 605.6 271.3 L 605.6 283.4 L 620.1 283.4 L 620.1 271.3 L 624.0 271.3 L 624.0 299.6 L 620.1 299.6 L 620.1 286.6 L 605.6 286.6 L 605.6 299.6 L 601.8 299.6 L 601.8 271.3 \" fill=\"#FF0000\"/>\n",
       "<path class=\"note\" d=\"M 33.9 367.7 Q 31.3 367.7, 30.0 365.8 Q 28.7 363.9, 28.7 360.5 Q 28.7 357.1, 30.0 355.2 Q 31.3 353.3, 33.9 353.3 Q 36.5 353.3, 37.8 355.2 Q 39.1 357.1, 39.1 360.5 Q 39.1 363.9, 37.8 365.8 Q 36.5 367.7, 33.9 367.7 M 33.9 366.1 Q 35.4 366.1, 36.2 364.7 Q 37.1 363.3, 37.1 360.5 Q 37.1 357.7, 36.2 356.3 Q 35.4 354.9, 33.9 354.9 Q 32.4 354.9, 31.5 356.3 Q 30.7 357.7, 30.7 360.5 Q 30.7 363.3, 31.5 364.7 Q 32.4 366.1, 33.9 366.1 \" fill=\"#000000\"/>\n",
       "<path class=\"note\" d=\"M 111.2 312.0 L 114.3 312.0 L 114.3 301.4 L 110.9 302.4 L 110.4 301.3 L 114.8 299.3 L 116.2 299.6 L 116.2 312.0 L 119.0 312.0 L 119.0 313.6 L 111.2 313.6 L 111.2 312.0 \" fill=\"#000000\"/>\n",
       "<path class=\"note\" d=\"M 156.4 184.6 Q 157.0 183.3, 158.2 182.6 Q 159.4 181.8, 161.2 181.8 Q 163.3 181.8, 164.5 183.0 Q 165.7 184.1, 165.7 186.2 Q 165.7 188.3, 164.1 190.2 Q 162.6 192.2, 159.4 194.5 L 165.9 194.5 L 165.9 196.1 L 156.4 196.1 L 156.4 194.8 Q 159.0 192.9, 160.6 191.5 Q 162.2 190.1, 162.9 188.8 Q 163.7 187.6, 163.7 186.3 Q 163.7 184.9, 163.0 184.2 Q 162.3 183.4, 161.2 183.4 Q 160.0 183.4, 159.3 183.9 Q 158.5 184.3, 158.0 185.3 L 156.4 184.6 \" fill=\"#000000\"/>\n",
       "<path class=\"note\" d=\"M 208.2 356.6 Q 209.6 357.0, 210.3 357.9 Q 210.9 358.8, 210.9 360.2 Q 210.9 361.4, 210.3 362.4 Q 209.7 363.3, 208.6 363.8 Q 207.5 364.3, 206.1 364.3 Q 204.6 364.3, 203.4 363.8 Q 202.3 363.2, 201.4 362.2 L 202.6 361.0 Q 203.4 362.0, 204.2 362.3 Q 204.9 362.7, 206.1 362.7 Q 207.4 362.7, 208.2 362.0 Q 208.9 361.3, 208.9 360.2 Q 208.9 358.8, 208.1 358.1 Q 207.3 357.5, 205.6 357.5 L 204.6 357.5 L 204.6 356.0 L 205.5 356.0 Q 207.0 356.0, 207.8 355.3 Q 208.6 354.7, 208.6 353.4 Q 208.6 352.5, 208.0 351.9 Q 207.3 351.4, 206.1 351.4 Q 204.9 351.4, 204.2 351.8 Q 203.5 352.2, 202.9 353.3 L 201.5 352.5 Q 202.0 351.4, 203.2 350.6 Q 204.4 349.8, 206.1 349.8 Q 208.2 349.8, 209.4 350.8 Q 210.6 351.7, 210.6 353.4 Q 210.6 354.5, 210.0 355.4 Q 209.4 356.2, 208.2 356.6 \" fill=\"#000000\"/>\n",
       "<path class=\"note\" d=\"M 286.4 353.7 L 288.1 353.7 L 288.1 355.3 L 286.4 355.3 L 286.4 358.5 L 284.5 358.5 L 284.5 355.3 L 277.2 355.3 L 277.2 354.0 L 283.4 344.4 L 286.4 344.4 L 286.4 353.7 M 279.5 353.7 L 284.5 353.7 L 284.5 345.6 L 279.5 353.7 \" fill=\"#000000\"/>\n",
       "<path class=\"note\" d=\"M 309.0 252.7 Q 310.2 252.7, 311.2 253.2 Q 312.3 253.7, 312.8 254.7 Q 313.4 255.7, 313.4 257.1 Q 313.4 258.5, 312.7 259.6 Q 312.0 260.6, 310.8 261.2 Q 309.7 261.7, 308.4 261.7 Q 307.1 261.7, 305.9 261.2 Q 304.7 260.7, 303.8 259.8 L 305.0 258.6 Q 305.7 259.3, 306.6 259.7 Q 307.5 260.1, 308.4 260.1 Q 309.7 260.1, 310.5 259.3 Q 311.4 258.5, 311.4 257.1 Q 311.4 255.6, 310.5 254.9 Q 309.7 254.2, 308.3 254.2 Q 307.1 254.2, 305.7 254.7 L 304.6 254.2 L 305.3 247.4 L 312.5 247.4 L 312.3 249.0 L 306.9 249.0 L 306.5 253.2 Q 307.7 252.7, 309.0 252.7 \" fill=\"#000000\"/>\n",
       "<path class=\"note\" d=\"M 422.4 222.5 Q 423.6 222.5, 424.6 223.0 Q 425.6 223.6, 426.1 224.5 Q 426.7 225.5, 426.7 226.8 Q 426.7 228.1, 426.1 229.2 Q 425.5 230.3, 424.4 230.9 Q 423.3 231.5, 421.9 231.5 Q 419.4 231.5, 418.1 229.8 Q 416.9 228.1, 416.9 224.7 Q 416.9 220.9, 418.4 219.0 Q 420.0 217.0, 423.0 217.0 Q 423.9 217.0, 424.6 217.2 Q 425.4 217.4, 426.1 217.8 L 425.3 219.2 Q 424.3 218.6, 423.0 218.6 Q 421.0 218.6, 420.0 219.9 Q 419.0 221.2, 418.9 223.8 Q 419.6 223.2, 420.5 222.8 Q 421.4 222.5, 422.4 222.5 M 421.9 229.8 Q 422.7 229.8, 423.3 229.4 Q 424.0 229.0, 424.3 228.3 Q 424.7 227.6, 424.7 226.8 Q 424.7 225.5, 424.0 224.8 Q 423.3 224.1, 422.0 224.1 Q 421.2 224.1, 420.3 224.4 Q 419.5 224.8, 418.9 225.4 Q 419.0 227.7, 419.7 228.8 Q 420.4 229.8, 421.9 229.8 \" fill=\"#000000\"/>\n",
       "<path class=\"note\" d=\"M 495.5 289.7 L 488.1 289.7 L 488.1 288.1 L 497.5 288.1 L 497.5 289.5 L 491.7 302.2 L 489.8 302.2 L 495.5 289.7 \" fill=\"#000000\"/>\n",
       "<path class=\"note\" d=\"M 620.0 276.3 Q 621.3 276.9, 622.0 277.7 Q 622.7 278.5, 622.7 279.9 Q 622.7 281.1, 622.1 282.1 Q 621.5 283.0, 620.4 283.5 Q 619.3 284.0, 617.8 284.0 Q 615.5 284.0, 614.1 282.9 Q 612.7 281.8, 612.7 279.9 Q 612.7 278.8, 613.3 277.9 Q 613.9 277.0, 615.2 276.4 Q 614.3 275.9, 613.8 275.1 Q 613.3 274.3, 613.3 273.1 Q 613.3 271.5, 614.5 270.5 Q 615.7 269.5, 617.7 269.5 Q 619.8 269.5, 621.0 270.5 Q 622.2 271.5, 622.2 273.1 Q 622.2 274.2, 621.6 274.9 Q 621.1 275.7, 620.0 276.3 M 617.7 271.0 Q 616.6 271.0, 615.9 271.6 Q 615.3 272.1, 615.3 273.1 Q 615.3 273.9, 615.7 274.4 Q 616.1 274.8, 616.8 275.1 Q 617.4 275.4, 618.6 275.8 Q 619.5 275.2, 619.8 274.6 Q 620.2 273.9, 620.2 273.1 Q 620.2 272.1, 619.6 271.6 Q 618.9 271.0, 617.7 271.0 M 617.8 282.5 Q 619.1 282.5, 619.9 281.8 Q 620.7 281.1, 620.7 279.9 Q 620.7 279.2, 620.3 278.7 Q 619.9 278.2, 619.3 277.9 Q 618.6 277.6, 617.5 277.3 L 616.6 277.0 Q 615.6 277.6, 615.2 278.3 Q 614.7 279.0, 614.7 279.9 Q 614.7 281.1, 615.6 281.8 Q 616.4 282.5, 617.8 282.5 \" fill=\"#000000\"/>\n",
       "<path class=\"note\" d=\"M 474.1 412.9 Q 476.7 412.9, 477.9 414.7 Q 479.2 416.4, 479.2 419.8 Q 479.2 423.5, 477.6 425.5 Q 476.1 427.4, 473.0 427.4 Q 472.2 427.4, 471.4 427.2 Q 470.7 427.0, 469.9 426.6 L 470.7 425.3 Q 471.8 425.8, 473.0 425.8 Q 475.0 425.8, 476.0 424.5 Q 477.1 423.2, 477.2 420.6 Q 476.5 421.2, 475.5 421.6 Q 474.6 421.9, 473.7 421.9 Q 472.4 421.9, 471.4 421.4 Q 470.5 420.9, 469.9 419.9 Q 469.4 418.9, 469.4 417.7 Q 469.4 416.3, 470.0 415.2 Q 470.6 414.1, 471.7 413.5 Q 472.8 412.9, 474.1 412.9 M 471.4 417.6 Q 471.4 418.9, 472.1 419.6 Q 472.8 420.3, 474.0 420.3 Q 474.9 420.3, 475.7 420.0 Q 476.6 419.6, 477.2 419.0 Q 477.1 416.7, 476.4 415.6 Q 475.6 414.6, 474.1 414.6 Q 473.4 414.6, 472.7 415.0 Q 472.1 415.4, 471.7 416.1 Q 471.4 416.8, 471.4 417.6 \" fill=\"#000000\"/>\n",
       "<path class=\"note\" d=\"M 347.6 456.0 L 350.7 456.0 L 350.7 445.4 L 347.3 446.5 L 346.8 445.3 L 351.2 443.3 L 352.6 443.6 L 352.6 456.0 L 355.4 456.0 L 355.4 457.6 L 347.6 457.6 L 347.6 456.0 \" fill=\"#000000\"/>\n",
       "<path class=\"note\" d=\"M 361.8 457.7 Q 359.2 457.7, 357.9 455.8 Q 356.6 453.9, 356.6 450.5 Q 356.6 447.1, 357.9 445.2 Q 359.1 443.3, 361.8 443.3 Q 364.4 443.3, 365.7 445.2 Q 366.9 447.1, 366.9 450.5 Q 366.9 453.9, 365.6 455.8 Q 364.4 457.7, 361.8 457.7 M 361.8 456.1 Q 363.3 456.1, 364.1 454.7 Q 364.9 453.3, 364.9 450.5 Q 364.9 447.7, 364.1 446.3 Q 363.3 444.9, 361.8 444.9 Q 360.2 444.9, 359.4 446.3 Q 358.6 447.7, 358.6 450.5 Q 358.6 453.3, 359.4 454.7 Q 360.2 456.1, 361.8 456.1 \" fill=\"#000000\"/>\n",
       "</svg>"
      ],
      "text/plain": [
       "<IPython.core.display.SVG object>"
      ]
     },
     "metadata": {},
     "output_type": "display_data"
    }
   ],
   "source": [
    "draw(gat,dataset)"
   ]
  },
  {
   "cell_type": "code",
   "execution_count": 65,
   "id": "89efad8f",
   "metadata": {},
   "outputs": [
    {
     "data": {
      "image/svg+xml": [
       "<svg baseProfile=\"full\" height=\"650px\" version=\"1.1\" viewBox=\"0 0 650 650\" width=\"650px\" xml:space=\"preserve\" xmlns=\"http://www.w3.org/2000/svg\" xmlns:rdkit=\"http://www.rdkit.org/xml\" xmlns:xlink=\"http://www.w3.org/1999/xlink\">\n",
       "<!-- END OF HEADER -->\n",
       "<rect height=\"650.0\" style=\"opacity:1.0;fill:#FFFFFF;stroke:none\" width=\"650.0\" x=\"0.0\" y=\"0.0\"> </rect>\n",
       "<ellipse cx=\"152.5\" cy=\"221.5\" rx=\"26.8\" ry=\"26.8\" style=\"fill:#CE5F73;fill-rule:evenodd;stroke:#CE5F73;stroke-width:1.0px;stroke-linecap:butt;stroke-linejoin:miter;stroke-opacity:1\"/>\n",
       "<ellipse cx=\"197.5\" cy=\"404.8\" rx=\"26.8\" ry=\"42.1\" style=\"fill:#CE5F73;fill-rule:evenodd;stroke:#CE5F73;stroke-width:1.0px;stroke-linecap:butt;stroke-linejoin:miter;stroke-opacity:1\"/>\n",
       "<ellipse cx=\"294.5\" cy=\"363.3\" rx=\"26.8\" ry=\"26.8\" style=\"fill:#CE5F73;fill-rule:evenodd;stroke:#CE5F73;stroke-width:1.0px;stroke-linecap:butt;stroke-linejoin:miter;stroke-opacity:1\"/>\n",
       "<ellipse cx=\"320.5\" cy=\"266.3\" rx=\"26.8\" ry=\"26.8\" style=\"fill:#CE5F73;fill-rule:evenodd;stroke:#CE5F73;stroke-width:1.0px;stroke-linecap:butt;stroke-linejoin:miter;stroke-opacity:1\"/>\n",
       "<ellipse cx=\"488.4\" cy=\"311.3\" rx=\"26.8\" ry=\"26.8\" style=\"fill:#CE5F73;fill-rule:evenodd;stroke:#CE5F73;stroke-width:1.0px;stroke-linecap:butt;stroke-linejoin:miter;stroke-opacity:1\"/>\n",
       "<ellipse cx=\"462.4\" cy=\"408.3\" rx=\"26.8\" ry=\"26.8\" style=\"fill:#CE5F73;fill-rule:evenodd;stroke:#CE5F73;stroke-width:1.0px;stroke-linecap:butt;stroke-linejoin:miter;stroke-opacity:1\"/>\n",
       "<ellipse cx=\"365.5\" cy=\"434.3\" rx=\"26.8\" ry=\"26.8\" style=\"fill:#CE5F73;fill-rule:evenodd;stroke:#CE5F73;stroke-width:1.0px;stroke-linecap:butt;stroke-linejoin:miter;stroke-opacity:1\"/>\n",
       "<path class=\"bond-0 atom-0 atom-1\" d=\"M 29.5,344.2 L 126.5,318.3\" style=\"fill:none;fill-rule:evenodd;stroke:#000000;stroke-width:2.0px;stroke-linecap:butt;stroke-linejoin:miter;stroke-opacity:1\"/>\n",
       "<path class=\"bond-1 atom-1 atom-2\" d=\"M 136.2,320.9 L 146.9,281.0\" style=\"fill:none;fill-rule:evenodd;stroke:#000000;stroke-width:2.0px;stroke-linecap:butt;stroke-linejoin:miter;stroke-opacity:1\"/>\n",
       "<path class=\"bond-1 atom-1 atom-2\" d=\"M 146.9,281.0 L 157.6,241.2\" style=\"fill:none;fill-rule:evenodd;stroke:#FF0000;stroke-width:2.0px;stroke-linecap:butt;stroke-linejoin:miter;stroke-opacity:1\"/>\n",
       "<path class=\"bond-1 atom-1 atom-2\" d=\"M 116.8,315.7 L 127.5,275.8\" style=\"fill:none;fill-rule:evenodd;stroke:#000000;stroke-width:2.0px;stroke-linecap:butt;stroke-linejoin:miter;stroke-opacity:1\"/>\n",
       "<path class=\"bond-1 atom-1 atom-2\" d=\"M 127.5,275.8 L 138.2,236.0\" style=\"fill:none;fill-rule:evenodd;stroke:#FF0000;stroke-width:2.0px;stroke-linecap:butt;stroke-linejoin:miter;stroke-opacity:1\"/>\n",
       "<path class=\"bond-2 atom-1 atom-3\" d=\"M 126.5,318.3 L 155.4,347.1\" style=\"fill:none;fill-rule:evenodd;stroke:#000000;stroke-width:2.0px;stroke-linecap:butt;stroke-linejoin:miter;stroke-opacity:1\"/>\n",
       "<path class=\"bond-2 atom-1 atom-3\" d=\"M 155.4,347.1 L 184.3,376.0\" style=\"fill:none;fill-rule:evenodd;stroke:#0000FF;stroke-width:2.0px;stroke-linecap:butt;stroke-linejoin:miter;stroke-opacity:1\"/>\n",
       "<path class=\"bond-3 atom-3 atom-4\" d=\"M 210.8,385.7 L 252.6,374.5\" style=\"fill:none;fill-rule:evenodd;stroke:#0000FF;stroke-width:2.0px;stroke-linecap:butt;stroke-linejoin:miter;stroke-opacity:1\"/>\n",
       "<path class=\"bond-3 atom-3 atom-4\" d=\"M 252.6,374.5 L 294.5,363.3\" style=\"fill:none;fill-rule:evenodd;stroke:#000000;stroke-width:2.0px;stroke-linecap:butt;stroke-linejoin:miter;stroke-opacity:1\"/>\n",
       "<path class=\"bond-4 atom-4 atom-5\" d=\"M 294.5,363.3 L 320.5,266.3\" style=\"fill:none;fill-rule:evenodd;stroke:#000000;stroke-width:2.0px;stroke-linecap:butt;stroke-linejoin:miter;stroke-opacity:1\"/>\n",
       "<path class=\"bond-4 atom-4 atom-5\" d=\"M 317.8,353.9 L 336.0,286.0\" style=\"fill:none;fill-rule:evenodd;stroke:#000000;stroke-width:2.0px;stroke-linecap:butt;stroke-linejoin:miter;stroke-opacity:1\"/>\n",
       "<path class=\"bond-10 atom-10 atom-4\" d=\"M 365.5,434.3 L 294.5,363.3\" style=\"fill:none;fill-rule:evenodd;stroke:#000000;stroke-width:2.0px;stroke-linecap:butt;stroke-linejoin:miter;stroke-opacity:1\"/>\n",
       "<path class=\"bond-5 atom-5 atom-6\" d=\"M 320.5,266.3 L 417.4,240.3\" style=\"fill:none;fill-rule:evenodd;stroke:#000000;stroke-width:2.0px;stroke-linecap:butt;stroke-linejoin:miter;stroke-opacity:1\"/>\n",
       "<path class=\"bond-6 atom-6 atom-7\" d=\"M 417.4,240.3 L 488.4,311.3\" style=\"fill:none;fill-rule:evenodd;stroke:#000000;stroke-width:2.0px;stroke-linecap:butt;stroke-linejoin:miter;stroke-opacity:1\"/>\n",
       "<path class=\"bond-6 atom-6 atom-7\" d=\"M 413.9,265.2 L 463.6,314.9\" style=\"fill:none;fill-rule:evenodd;stroke:#000000;stroke-width:2.0px;stroke-linecap:butt;stroke-linejoin:miter;stroke-opacity:1\"/>\n",
       "<path class=\"bond-7 atom-7 atom-8\" d=\"M 488.4,311.3 L 529.2,300.4\" style=\"fill:none;fill-rule:evenodd;stroke:#000000;stroke-width:2.0px;stroke-linecap:butt;stroke-linejoin:miter;stroke-opacity:1\"/>\n",
       "<path class=\"bond-7 atom-7 atom-8\" d=\"M 529.2,300.4 L 569.9,289.5\" style=\"fill:none;fill-rule:evenodd;stroke:#FF0000;stroke-width:2.0px;stroke-linecap:butt;stroke-linejoin:miter;stroke-opacity:1\"/>\n",
       "<path class=\"bond-8 atom-7 atom-9\" d=\"M 488.4,311.3 L 462.4,408.3\" style=\"fill:none;fill-rule:evenodd;stroke:#000000;stroke-width:2.0px;stroke-linecap:butt;stroke-linejoin:miter;stroke-opacity:1\"/>\n",
       "<path class=\"bond-9 atom-9 atom-10\" d=\"M 462.4,408.3 L 365.5,434.3\" style=\"fill:none;fill-rule:evenodd;stroke:#000000;stroke-width:2.0px;stroke-linecap:butt;stroke-linejoin:miter;stroke-opacity:1\"/>\n",
       "<path class=\"bond-9 atom-9 atom-10\" d=\"M 442.7,392.8 L 374.8,411.0\" style=\"fill:none;fill-rule:evenodd;stroke:#000000;stroke-width:2.0px;stroke-linecap:butt;stroke-linejoin:miter;stroke-opacity:1\"/>\n",
       "<path class=\"atom-2\" d=\"M 139.5 221.4 Q 139.5 214.6, 142.9 210.8 Q 146.2 207.0, 152.5 207.0 Q 158.8 207.0, 162.1 210.8 Q 165.5 214.6, 165.5 221.4 Q 165.5 228.3, 162.1 232.2 Q 158.7 236.1, 152.5 236.1 Q 146.3 236.1, 142.9 232.2 Q 139.5 228.3, 139.5 221.4 M 152.5 232.9 Q 156.8 232.9, 159.1 230.0 Q 161.5 227.1, 161.5 221.4 Q 161.5 215.8, 159.1 213.0 Q 156.8 210.2, 152.5 210.2 Q 148.2 210.2, 145.8 213.0 Q 143.5 215.8, 143.5 221.4 Q 143.5 227.1, 145.8 230.0 Q 148.2 232.9, 152.5 232.9 \" fill=\"#FF0000\"/>\n",
       "<path class=\"atom-3\" d=\"M 191.2 375.1 L 200.5 390.1 Q 201.4 391.6, 202.9 394.3 Q 204.4 396.9, 204.5 397.1 L 204.5 375.1 L 208.2 375.1 L 208.2 403.4 L 204.4 403.4 L 194.4 387.0 Q 193.2 385.1, 192.0 382.9 Q 190.8 380.7, 190.4 380.0 L 190.4 403.4 L 186.8 403.4 L 186.8 375.1 L 191.2 375.1 \" fill=\"#0000FF\"/>\n",
       "<path class=\"atom-3\" d=\"M 186.4 406.2 L 190.3 406.2 L 190.3 418.3 L 204.7 418.3 L 204.7 406.2 L 208.6 406.2 L 208.6 434.6 L 204.7 434.6 L 204.7 421.5 L 190.3 421.5 L 190.3 434.6 L 186.4 434.6 L 186.4 406.2 \" fill=\"#0000FF\"/>\n",
       "<path class=\"atom-8\" d=\"M 572.4 285.4 Q 572.4 278.6, 575.8 274.8 Q 579.1 271.0, 585.4 271.0 Q 591.7 271.0, 595.0 274.8 Q 598.4 278.6, 598.4 285.4 Q 598.4 292.3, 595.0 296.2 Q 591.6 300.1, 585.4 300.1 Q 579.2 300.1, 575.8 296.2 Q 572.4 292.3, 572.4 285.4 M 585.4 296.9 Q 589.7 296.9, 592.0 294.0 Q 594.4 291.1, 594.4 285.4 Q 594.4 279.8, 592.0 277.0 Q 589.7 274.2, 585.4 274.2 Q 581.1 274.2, 578.7 277.0 Q 576.4 279.8, 576.4 285.4 Q 576.4 291.1, 578.7 294.0 Q 581.1 296.9, 585.4 296.9 \" fill=\"#FF0000\"/>\n",
       "<path class=\"atom-8\" d=\"M 601.8 271.3 L 605.6 271.3 L 605.6 283.4 L 620.1 283.4 L 620.1 271.3 L 624.0 271.3 L 624.0 299.6 L 620.1 299.6 L 620.1 286.6 L 605.6 286.6 L 605.6 299.6 L 601.8 299.6 L 601.8 271.3 \" fill=\"#FF0000\"/>\n",
       "<path class=\"note\" d=\"M 33.9 367.7 Q 31.3 367.7, 30.0 365.8 Q 28.7 363.9, 28.7 360.5 Q 28.7 357.1, 30.0 355.2 Q 31.3 353.3, 33.9 353.3 Q 36.5 353.3, 37.8 355.2 Q 39.1 357.1, 39.1 360.5 Q 39.1 363.9, 37.8 365.8 Q 36.5 367.7, 33.9 367.7 M 33.9 366.1 Q 35.4 366.1, 36.2 364.7 Q 37.1 363.3, 37.1 360.5 Q 37.1 357.7, 36.2 356.3 Q 35.4 354.9, 33.9 354.9 Q 32.4 354.9, 31.5 356.3 Q 30.7 357.7, 30.7 360.5 Q 30.7 363.3, 31.5 364.7 Q 32.4 366.1, 33.9 366.1 \" fill=\"#000000\"/>\n",
       "<path class=\"note\" d=\"M 111.2 312.0 L 114.3 312.0 L 114.3 301.4 L 110.9 302.4 L 110.4 301.3 L 114.8 299.3 L 116.2 299.6 L 116.2 312.0 L 119.0 312.0 L 119.0 313.6 L 111.2 313.6 L 111.2 312.0 \" fill=\"#000000\"/>\n",
       "<path class=\"note\" d=\"M 156.4 184.6 Q 157.0 183.3, 158.2 182.6 Q 159.4 181.8, 161.2 181.8 Q 163.3 181.8, 164.5 183.0 Q 165.7 184.1, 165.7 186.2 Q 165.7 188.3, 164.1 190.2 Q 162.6 192.2, 159.4 194.5 L 165.9 194.5 L 165.9 196.1 L 156.4 196.1 L 156.4 194.8 Q 159.0 192.9, 160.6 191.5 Q 162.2 190.1, 162.9 188.8 Q 163.7 187.6, 163.7 186.3 Q 163.7 184.9, 163.0 184.2 Q 162.3 183.4, 161.2 183.4 Q 160.0 183.4, 159.3 183.9 Q 158.5 184.3, 158.0 185.3 L 156.4 184.6 \" fill=\"#000000\"/>\n",
       "<path class=\"note\" d=\"M 208.2 356.6 Q 209.6 357.0, 210.3 357.9 Q 210.9 358.8, 210.9 360.2 Q 210.9 361.4, 210.3 362.4 Q 209.7 363.3, 208.6 363.8 Q 207.5 364.3, 206.1 364.3 Q 204.6 364.3, 203.4 363.8 Q 202.3 363.2, 201.4 362.2 L 202.6 361.0 Q 203.4 362.0, 204.2 362.3 Q 204.9 362.7, 206.1 362.7 Q 207.4 362.7, 208.2 362.0 Q 208.9 361.3, 208.9 360.2 Q 208.9 358.8, 208.1 358.1 Q 207.3 357.5, 205.6 357.5 L 204.6 357.5 L 204.6 356.0 L 205.5 356.0 Q 207.0 356.0, 207.8 355.3 Q 208.6 354.7, 208.6 353.4 Q 208.6 352.5, 208.0 351.9 Q 207.3 351.4, 206.1 351.4 Q 204.9 351.4, 204.2 351.8 Q 203.5 352.2, 202.9 353.3 L 201.5 352.5 Q 202.0 351.4, 203.2 350.6 Q 204.4 349.8, 206.1 349.8 Q 208.2 349.8, 209.4 350.8 Q 210.6 351.7, 210.6 353.4 Q 210.6 354.5, 210.0 355.4 Q 209.4 356.2, 208.2 356.6 \" fill=\"#000000\"/>\n",
       "<path class=\"note\" d=\"M 286.4 353.7 L 288.1 353.7 L 288.1 355.3 L 286.4 355.3 L 286.4 358.5 L 284.5 358.5 L 284.5 355.3 L 277.2 355.3 L 277.2 354.0 L 283.4 344.4 L 286.4 344.4 L 286.4 353.7 M 279.5 353.7 L 284.5 353.7 L 284.5 345.6 L 279.5 353.7 \" fill=\"#000000\"/>\n",
       "<path class=\"note\" d=\"M 309.0 252.7 Q 310.2 252.7, 311.2 253.2 Q 312.3 253.7, 312.8 254.7 Q 313.4 255.7, 313.4 257.1 Q 313.4 258.5, 312.7 259.6 Q 312.0 260.6, 310.8 261.2 Q 309.7 261.7, 308.4 261.7 Q 307.1 261.7, 305.9 261.2 Q 304.7 260.7, 303.8 259.8 L 305.0 258.6 Q 305.7 259.3, 306.6 259.7 Q 307.5 260.1, 308.4 260.1 Q 309.7 260.1, 310.5 259.3 Q 311.4 258.5, 311.4 257.1 Q 311.4 255.6, 310.5 254.9 Q 309.7 254.2, 308.3 254.2 Q 307.1 254.2, 305.7 254.7 L 304.6 254.2 L 305.3 247.4 L 312.5 247.4 L 312.3 249.0 L 306.9 249.0 L 306.5 253.2 Q 307.7 252.7, 309.0 252.7 \" fill=\"#000000\"/>\n",
       "<path class=\"note\" d=\"M 422.4 222.5 Q 423.6 222.5, 424.6 223.0 Q 425.6 223.6, 426.1 224.5 Q 426.7 225.5, 426.7 226.8 Q 426.7 228.1, 426.1 229.2 Q 425.5 230.3, 424.4 230.9 Q 423.3 231.5, 421.9 231.5 Q 419.4 231.5, 418.1 229.8 Q 416.9 228.1, 416.9 224.7 Q 416.9 220.9, 418.4 219.0 Q 420.0 217.0, 423.0 217.0 Q 423.9 217.0, 424.6 217.2 Q 425.4 217.4, 426.1 217.8 L 425.3 219.2 Q 424.3 218.6, 423.0 218.6 Q 421.0 218.6, 420.0 219.9 Q 419.0 221.2, 418.9 223.8 Q 419.6 223.2, 420.5 222.8 Q 421.4 222.5, 422.4 222.5 M 421.9 229.8 Q 422.7 229.8, 423.3 229.4 Q 424.0 229.0, 424.3 228.3 Q 424.7 227.6, 424.7 226.8 Q 424.7 225.5, 424.0 224.8 Q 423.3 224.1, 422.0 224.1 Q 421.2 224.1, 420.3 224.4 Q 419.5 224.8, 418.9 225.4 Q 419.0 227.7, 419.7 228.8 Q 420.4 229.8, 421.9 229.8 \" fill=\"#000000\"/>\n",
       "<path class=\"note\" d=\"M 495.5 289.7 L 488.1 289.7 L 488.1 288.1 L 497.5 288.1 L 497.5 289.5 L 491.7 302.2 L 489.8 302.2 L 495.5 289.7 \" fill=\"#000000\"/>\n",
       "<path class=\"note\" d=\"M 620.0 276.3 Q 621.3 276.9, 622.0 277.7 Q 622.7 278.5, 622.7 279.9 Q 622.7 281.1, 622.1 282.1 Q 621.5 283.0, 620.4 283.5 Q 619.3 284.0, 617.8 284.0 Q 615.5 284.0, 614.1 282.9 Q 612.7 281.8, 612.7 279.9 Q 612.7 278.8, 613.3 277.9 Q 613.9 277.0, 615.2 276.4 Q 614.3 275.9, 613.8 275.1 Q 613.3 274.3, 613.3 273.1 Q 613.3 271.5, 614.5 270.5 Q 615.7 269.5, 617.7 269.5 Q 619.8 269.5, 621.0 270.5 Q 622.2 271.5, 622.2 273.1 Q 622.2 274.2, 621.6 274.9 Q 621.1 275.7, 620.0 276.3 M 617.7 271.0 Q 616.6 271.0, 615.9 271.6 Q 615.3 272.1, 615.3 273.1 Q 615.3 273.9, 615.7 274.4 Q 616.1 274.8, 616.8 275.1 Q 617.4 275.4, 618.6 275.8 Q 619.5 275.2, 619.8 274.6 Q 620.2 273.9, 620.2 273.1 Q 620.2 272.1, 619.6 271.6 Q 618.9 271.0, 617.7 271.0 M 617.8 282.5 Q 619.1 282.5, 619.9 281.8 Q 620.7 281.1, 620.7 279.9 Q 620.7 279.2, 620.3 278.7 Q 619.9 278.2, 619.3 277.9 Q 618.6 277.6, 617.5 277.3 L 616.6 277.0 Q 615.6 277.6, 615.2 278.3 Q 614.7 279.0, 614.7 279.9 Q 614.7 281.1, 615.6 281.8 Q 616.4 282.5, 617.8 282.5 \" fill=\"#000000\"/>\n",
       "<path class=\"note\" d=\"M 474.1 412.9 Q 476.7 412.9, 477.9 414.7 Q 479.2 416.4, 479.2 419.8 Q 479.2 423.5, 477.6 425.5 Q 476.1 427.4, 473.0 427.4 Q 472.2 427.4, 471.4 427.2 Q 470.7 427.0, 469.9 426.6 L 470.7 425.3 Q 471.8 425.8, 473.0 425.8 Q 475.0 425.8, 476.0 424.5 Q 477.1 423.2, 477.2 420.6 Q 476.5 421.2, 475.5 421.6 Q 474.6 421.9, 473.7 421.9 Q 472.4 421.9, 471.4 421.4 Q 470.5 420.9, 469.9 419.9 Q 469.4 418.9, 469.4 417.7 Q 469.4 416.3, 470.0 415.2 Q 470.6 414.1, 471.7 413.5 Q 472.8 412.9, 474.1 412.9 M 471.4 417.6 Q 471.4 418.9, 472.1 419.6 Q 472.8 420.3, 474.0 420.3 Q 474.9 420.3, 475.7 420.0 Q 476.6 419.6, 477.2 419.0 Q 477.1 416.7, 476.4 415.6 Q 475.6 414.6, 474.1 414.6 Q 473.4 414.6, 472.7 415.0 Q 472.1 415.4, 471.7 416.1 Q 471.4 416.8, 471.4 417.6 \" fill=\"#000000\"/>\n",
       "<path class=\"note\" d=\"M 347.6 456.0 L 350.7 456.0 L 350.7 445.4 L 347.3 446.5 L 346.8 445.3 L 351.2 443.3 L 352.6 443.6 L 352.6 456.0 L 355.4 456.0 L 355.4 457.6 L 347.6 457.6 L 347.6 456.0 \" fill=\"#000000\"/>\n",
       "<path class=\"note\" d=\"M 361.8 457.7 Q 359.2 457.7, 357.9 455.8 Q 356.6 453.9, 356.6 450.5 Q 356.6 447.1, 357.9 445.2 Q 359.1 443.3, 361.8 443.3 Q 364.4 443.3, 365.7 445.2 Q 366.9 447.1, 366.9 450.5 Q 366.9 453.9, 365.6 455.8 Q 364.4 457.7, 361.8 457.7 M 361.8 456.1 Q 363.3 456.1, 364.1 454.7 Q 364.9 453.3, 364.9 450.5 Q 364.9 447.7, 364.1 446.3 Q 363.3 444.9, 361.8 444.9 Q 360.2 444.9, 359.4 446.3 Q 358.6 447.7, 358.6 450.5 Q 358.6 453.3, 359.4 454.7 Q 360.2 456.1, 361.8 456.1 \" fill=\"#000000\"/>\n",
       "</svg>"
      ],
      "text/plain": [
       "<IPython.core.display.SVG object>"
      ]
     },
     "metadata": {},
     "output_type": "display_data"
    }
   ],
   "source": [
    "draw(graphsage,dataset)"
   ]
  },
  {
   "cell_type": "markdown",
   "id": "3201f01d",
   "metadata": {},
   "source": [
    "## GNN-Explainer "
   ]
  },
  {
   "cell_type": "code",
   "execution_count": 69,
   "id": "f73d8a9f",
   "metadata": {},
   "outputs": [
    {
     "name": "stdout",
     "output_type": "stream",
     "text": [
      "use CPU\n"
     ]
    }
   ],
   "source": [
    "from utils.GNexplainers import GNNExplainer"
   ]
  },
  {
   "cell_type": "code",
   "execution_count": 70,
   "id": "c5c0c890",
   "metadata": {},
   "outputs": [],
   "source": [
    "def draw(model,datasets):\n",
    "    model.eval()\n",
    "    smiles, bg, label, masks = dataset[0]\n",
    "    n_feats = bg.ndata['hv']\n",
    "    pred = model.forward(bg, n_feats)\n",
    "    exp = GNNExplainer(model, epochs=1000, lr=0.05, molecule=False)\n",
    "    node_feat_masks, related_preds = exp.forward(x=n_feats, bg=bg, ex_labels=pred,\n",
    "                                                 mask_features=True, positive=True)\n",
    "    node_feat_masks = node_feat_masks[0].detach().cpu().abs()\n",
    "    min_value = torch.min(torch.tensor(node_feat_masks))\n",
    "    max_value = torch.max(torch.tensor(node_feat_masks))\n",
    "    node_feat_masks = (torch.tensor(node_feat_masks) - min_value) / (max_value - min_value)\n",
    "    nodes = []\n",
    "    for pred_aro in node_feat_masks:\n",
    "        if pred_aro <= sum(node_feat_masks) / len(node_feat_masks):\n",
    "            nodes.append(1)\n",
    "        else:\n",
    "            nodes.append(0)\n",
    "    m = Chem.MolFromSmiles(smiles)\n",
    "    rdDepictor.Compute2DCoords(m)\n",
    "    drawer = rdMolDraw2D.MolDraw2DSVG(650,650)\n",
    "    drawer.SetFontSize(1200)\n",
    "    op = drawer.drawOptions().addAtomIndices=True\n",
    "    mol = rdMolDraw2D.PrepareMolForDrawing(m)\n",
    "    c=nodes\n",
    "    important_index = []\n",
    "    for i, value in enumerate(c):\n",
    "        if value == 1:\n",
    "            important_index.append(i)\n",
    "    colors = [(51,34,136),(17,119,51),(68,170,153),(136,204,238),(221,204,119),(204,102,119),(170,68,153),(206,95,115)]\n",
    "    for i,x in enumerate(colors):\n",
    "        colors[i] = tuple(y/255 for y in x)\n",
    "    atom_cols={}\n",
    "    for bd in important_index:\n",
    "        atom_cols[bd] = colors[i%9]\n",
    "    drawer.DrawMolecule(m,highlightAtoms= important_index,highlightBonds=None,highlightAtomColors=atom_cols,\n",
    "                        highlightAtomRadii={i: .4 for i in important_index}\n",
    "                               )\n",
    "    drawer.drawOptions().useBWAtomPalette()\n",
    "    drawer.drawOptions().padding = .2\n",
    "    drawer.FinishDrawing()\n",
    "    svg = drawer.GetDrawingText()\n",
    "    svg = svg.replace('svg:','')\n",
    "    display(SVG(svg))"
   ]
  },
  {
   "cell_type": "code",
   "execution_count": 71,
   "id": "35ba0a86",
   "metadata": {
    "scrolled": false
   },
   "outputs": [
    {
     "name": "stdout",
     "output_type": "stream",
     "text": [
      "#D#Masks calculate...\n"
     ]
    },
    {
     "name": "stderr",
     "output_type": "stream",
     "text": [
      "D:\\anaconda\\envs\\rdk\\lib\\site-packages\\torch\\nn\\modules\\loss.py:520: UserWarning: Using a target size (torch.Size([1])) that is different to the input size (torch.Size([1, 1])). This will likely lead to incorrect results due to broadcasting. Please ensure they have the same size.\n",
      "  return F.mse_loss(input, target, reduction=self.reduction)\n"
     ]
    },
    {
     "name": "stdout",
     "output_type": "stream",
     "text": [
      "#D#Loss:3.475274085998535\n",
      "#D#Loss:2.0961215496063232\n",
      "#D#Loss:1.3670554161071777\n",
      "#D#Loss:1.067508578300476\n",
      "#D#Loss:0.8551793694496155\n",
      "#D#Loss:0.6890566945075989\n",
      "#D#Loss:0.602042019367218\n",
      "#D#Loss:0.5412561893463135\n",
      "#D#Loss:0.5041592717170715\n",
      "#D#Loss:0.48146378993988037\n",
      "#D#Loss:0.4653492867946625\n",
      "#D#Loss:0.4527856111526489\n",
      "#D#Loss:0.4428901672363281\n",
      "#D#Loss:0.43452179431915283\n",
      "#D#Loss:0.42740997672080994\n",
      "#D#Loss:0.4213830530643463\n",
      "#D#Loss:0.4161324203014374\n",
      "#D#Loss:0.41151508688926697\n",
      "#D#Loss:0.4074397087097168\n",
      "#D#Loss:0.4038427770137787\n",
      "#D#Loss:0.4006592631340027\n",
      "#D#Loss:0.39771151542663574\n",
      "#D#Loss:0.39479732513427734\n",
      "#D#Loss:0.39214059710502625\n",
      "#D#Loss:0.38978809118270874\n",
      "#D#Loss:0.38771355152130127\n",
      "#D#Loss:0.3858380615711212\n",
      "#D#Loss:0.3841297924518585\n",
      "#D#Loss:0.3825678527355194\n",
      "#D#Loss:0.38113388419151306\n",
      "#D#Loss:0.37981292605400085\n",
      "#D#Loss:0.37860769033432007\n",
      "#D#Loss:0.3775125741958618\n",
      "#D#Loss:0.3765040338039398\n",
      "#D#Loss:0.3755682408809662\n",
      "#D#Loss:0.37469756603240967\n",
      "#D#Loss:0.3738868832588196\n",
      "#D#Loss:0.37314045429229736\n",
      "#D#Loss:0.37245258688926697\n",
      "#D#Loss:0.37180811166763306\n",
      "#D#Loss:0.37120258808135986\n",
      "#D#Loss:0.3706322908401489\n",
      "#D#Loss:0.3700943887233734\n",
      "#D#Loss:0.3695869445800781\n",
      "#D#Loss:0.3691096007823944\n",
      "#D#Loss:0.3686581254005432\n",
      "#D#Loss:0.3682299256324768\n",
      "#D#Loss:0.36782360076904297\n",
      "#D#Loss:0.3674379289150238\n",
      "#D#Loss:0.36707091331481934\n",
      "#D#Predict...\n"
     ]
    },
    {
     "name": "stderr",
     "output_type": "stream",
     "text": [
      "D:\\anaconda\\envs\\rdk\\lib\\site-packages\\ipykernel_launcher.py:10: UserWarning: To copy construct from a tensor, it is recommended to use sourceTensor.clone().detach() or sourceTensor.clone().detach().requires_grad_(True), rather than torch.tensor(sourceTensor).\n",
      "  # Remove the CWD from sys.path while we load stuff.\n",
      "D:\\anaconda\\envs\\rdk\\lib\\site-packages\\ipykernel_launcher.py:11: UserWarning: To copy construct from a tensor, it is recommended to use sourceTensor.clone().detach() or sourceTensor.clone().detach().requires_grad_(True), rather than torch.tensor(sourceTensor).\n",
      "  # This is added back by InteractiveShellApp.init_path()\n",
      "D:\\anaconda\\envs\\rdk\\lib\\site-packages\\ipykernel_launcher.py:12: UserWarning: To copy construct from a tensor, it is recommended to use sourceTensor.clone().detach() or sourceTensor.clone().detach().requires_grad_(True), rather than torch.tensor(sourceTensor).\n",
      "  if sys.path[0] == '':\n"
     ]
    },
    {
     "data": {
      "image/svg+xml": [
       "<svg baseProfile=\"full\" height=\"650px\" version=\"1.1\" viewBox=\"0 0 650 650\" width=\"650px\" xml:space=\"preserve\" xmlns=\"http://www.w3.org/2000/svg\" xmlns:rdkit=\"http://www.rdkit.org/xml\" xmlns:xlink=\"http://www.w3.org/1999/xlink\">\n",
       "<!-- END OF HEADER -->\n",
       "<rect height=\"650.0\" style=\"opacity:1.0;fill:#FFFFFF;stroke:none\" width=\"650.0\" x=\"0.0\" y=\"0.0\"> </rect>\n",
       "<ellipse cx=\"54.6\" cy=\"348.0\" rx=\"25.1\" ry=\"25.1\" style=\"fill:#CE5F73;fill-rule:evenodd;stroke:#CE5F73;stroke-width:1.0px;stroke-linecap:butt;stroke-linejoin:miter;stroke-opacity:1\"/>\n",
       "<ellipse cx=\"145.5\" cy=\"323.7\" rx=\"25.1\" ry=\"25.1\" style=\"fill:#CE5F73;fill-rule:evenodd;stroke:#CE5F73;stroke-width:1.0px;stroke-linecap:butt;stroke-linejoin:miter;stroke-opacity:1\"/>\n",
       "<ellipse cx=\"169.9\" cy=\"233.0\" rx=\"25.1\" ry=\"25.1\" style=\"fill:#CE5F73;fill-rule:evenodd;stroke:#CE5F73;stroke-width:1.0px;stroke-linecap:butt;stroke-linejoin:miter;stroke-opacity:1\"/>\n",
       "<ellipse cx=\"212.1\" cy=\"404.9\" rx=\"25.1\" ry=\"39.6\" style=\"fill:#CE5F73;fill-rule:evenodd;stroke:#CE5F73;stroke-width:1.0px;stroke-linecap:butt;stroke-linejoin:miter;stroke-opacity:1\"/>\n",
       "<ellipse cx=\"418.3\" cy=\"250.6\" rx=\"25.1\" ry=\"25.1\" style=\"fill:#CE5F73;fill-rule:evenodd;stroke:#CE5F73;stroke-width:1.0px;stroke-linecap:butt;stroke-linejoin:miter;stroke-opacity:1\"/>\n",
       "<ellipse cx=\"587.7\" cy=\"293.0\" rx=\"34.3\" ry=\"25.1\" style=\"fill:#CE5F73;fill-rule:evenodd;stroke:#CE5F73;stroke-width:1.0px;stroke-linecap:butt;stroke-linejoin:miter;stroke-opacity:1\"/>\n",
       "<path class=\"bond-0 atom-0 atom-1\" d=\"M 54.6,348.0 L 145.5,323.7\" style=\"fill:none;fill-rule:evenodd;stroke:#000000;stroke-width:2.0px;stroke-linecap:butt;stroke-linejoin:miter;stroke-opacity:1\"/>\n",
       "<path class=\"bond-1 atom-1 atom-2\" d=\"M 154.6,326.1 L 164.6,288.8\" style=\"fill:none;fill-rule:evenodd;stroke:#000000;stroke-width:2.0px;stroke-linecap:butt;stroke-linejoin:miter;stroke-opacity:1\"/>\n",
       "<path class=\"bond-1 atom-1 atom-2\" d=\"M 164.6,288.8 L 174.6,251.4\" style=\"fill:none;fill-rule:evenodd;stroke:#FF0000;stroke-width:2.0px;stroke-linecap:butt;stroke-linejoin:miter;stroke-opacity:1\"/>\n",
       "<path class=\"bond-1 atom-1 atom-2\" d=\"M 136.5,321.2 L 146.5,283.9\" style=\"fill:none;fill-rule:evenodd;stroke:#000000;stroke-width:2.0px;stroke-linecap:butt;stroke-linejoin:miter;stroke-opacity:1\"/>\n",
       "<path class=\"bond-1 atom-1 atom-2\" d=\"M 146.5,283.9 L 156.5,246.6\" style=\"fill:none;fill-rule:evenodd;stroke:#FF0000;stroke-width:2.0px;stroke-linecap:butt;stroke-linejoin:miter;stroke-opacity:1\"/>\n",
       "<path class=\"bond-2 atom-1 atom-3\" d=\"M 145.5,323.7 L 172.6,350.7\" style=\"fill:none;fill-rule:evenodd;stroke:#000000;stroke-width:2.0px;stroke-linecap:butt;stroke-linejoin:miter;stroke-opacity:1\"/>\n",
       "<path class=\"bond-2 atom-1 atom-3\" d=\"M 172.6,350.7 L 199.6,377.7\" style=\"fill:none;fill-rule:evenodd;stroke:#0000FF;stroke-width:2.0px;stroke-linecap:butt;stroke-linejoin:miter;stroke-opacity:1\"/>\n",
       "<path class=\"bond-3 atom-3 atom-4\" d=\"M 224.6,386.9 L 263.8,376.4\" style=\"fill:none;fill-rule:evenodd;stroke:#0000FF;stroke-width:2.0px;stroke-linecap:butt;stroke-linejoin:miter;stroke-opacity:1\"/>\n",
       "<path class=\"bond-3 atom-3 atom-4\" d=\"M 263.8,376.4 L 303.0,365.8\" style=\"fill:none;fill-rule:evenodd;stroke:#000000;stroke-width:2.0px;stroke-linecap:butt;stroke-linejoin:miter;stroke-opacity:1\"/>\n",
       "<path class=\"bond-4 atom-4 atom-5\" d=\"M 303.0,365.8 L 327.4,274.9\" style=\"fill:none;fill-rule:evenodd;stroke:#000000;stroke-width:2.0px;stroke-linecap:butt;stroke-linejoin:miter;stroke-opacity:1\"/>\n",
       "<path class=\"bond-4 atom-4 atom-5\" d=\"M 324.8,357.1 L 341.9,293.5\" style=\"fill:none;fill-rule:evenodd;stroke:#000000;stroke-width:2.0px;stroke-linecap:butt;stroke-linejoin:miter;stroke-opacity:1\"/>\n",
       "<path class=\"bond-10 atom-10 atom-4\" d=\"M 369.6,432.4 L 303.0,365.8\" style=\"fill:none;fill-rule:evenodd;stroke:#000000;stroke-width:2.0px;stroke-linecap:butt;stroke-linejoin:miter;stroke-opacity:1\"/>\n",
       "<path class=\"bond-5 atom-5 atom-6\" d=\"M 327.4,274.9 L 418.3,250.6\" style=\"fill:none;fill-rule:evenodd;stroke:#000000;stroke-width:2.0px;stroke-linecap:butt;stroke-linejoin:miter;stroke-opacity:1\"/>\n",
       "<path class=\"bond-6 atom-6 atom-7\" d=\"M 418.3,250.6 L 484.8,317.1\" style=\"fill:none;fill-rule:evenodd;stroke:#000000;stroke-width:2.0px;stroke-linecap:butt;stroke-linejoin:miter;stroke-opacity:1\"/>\n",
       "<path class=\"bond-6 atom-6 atom-7\" d=\"M 414.9,273.9 L 461.5,320.5\" style=\"fill:none;fill-rule:evenodd;stroke:#000000;stroke-width:2.0px;stroke-linecap:butt;stroke-linejoin:miter;stroke-opacity:1\"/>\n",
       "<path class=\"bond-7 atom-7 atom-8\" d=\"M 484.8,317.1 L 523.0,306.9\" style=\"fill:none;fill-rule:evenodd;stroke:#000000;stroke-width:2.0px;stroke-linecap:butt;stroke-linejoin:miter;stroke-opacity:1\"/>\n",
       "<path class=\"bond-7 atom-7 atom-8\" d=\"M 523.0,306.9 L 561.1,296.7\" style=\"fill:none;fill-rule:evenodd;stroke:#FF0000;stroke-width:2.0px;stroke-linecap:butt;stroke-linejoin:miter;stroke-opacity:1\"/>\n",
       "<path class=\"bond-8 atom-7 atom-9\" d=\"M 484.8,317.1 L 460.5,408.0\" style=\"fill:none;fill-rule:evenodd;stroke:#000000;stroke-width:2.0px;stroke-linecap:butt;stroke-linejoin:miter;stroke-opacity:1\"/>\n",
       "<path class=\"bond-9 atom-9 atom-10\" d=\"M 460.5,408.0 L 369.6,432.4\" style=\"fill:none;fill-rule:evenodd;stroke:#000000;stroke-width:2.0px;stroke-linecap:butt;stroke-linejoin:miter;stroke-opacity:1\"/>\n",
       "<path class=\"bond-9 atom-9 atom-10\" d=\"M 441.9,393.5 L 378.3,410.6\" style=\"fill:none;fill-rule:evenodd;stroke:#000000;stroke-width:2.0px;stroke-linecap:butt;stroke-linejoin:miter;stroke-opacity:1\"/>\n",
       "<path class=\"atom-2\" d=\"M 157.7 232.8 Q 157.7 226.4, 160.8 222.9 Q 164.0 219.3, 169.9 219.3 Q 175.8 219.3, 179.0 222.9 Q 182.1 226.4, 182.1 232.8 Q 182.1 239.3, 178.9 243.0 Q 175.7 246.6, 169.9 246.6 Q 164.0 246.6, 160.8 243.0 Q 157.7 239.3, 157.7 232.8 M 169.9 243.6 Q 174.0 243.6, 176.2 240.9 Q 178.4 238.2, 178.4 232.8 Q 178.4 227.6, 176.2 225.0 Q 174.0 222.3, 169.9 222.3 Q 165.8 222.3, 163.6 224.9 Q 161.4 227.6, 161.4 232.8 Q 161.4 238.2, 163.6 240.9 Q 165.8 243.6, 169.9 243.6 \" fill=\"#FF0000\"/>\n",
       "<path class=\"atom-3\" d=\"M 206.2 376.9 L 214.9 391.0 Q 215.8 392.4, 217.2 394.9 Q 218.6 397.4, 218.7 397.6 L 218.7 376.9 L 222.2 376.9 L 222.2 403.5 L 218.6 403.5 L 209.2 388.1 Q 208.1 386.3, 206.9 384.2 Q 205.8 382.2, 205.5 381.5 L 205.5 403.5 L 202.0 403.5 L 202.0 376.9 L 206.2 376.9 \" fill=\"#0000FF\"/>\n",
       "<path class=\"atom-3\" d=\"M 201.7 406.2 L 205.3 406.2 L 205.3 417.5 L 218.9 417.5 L 218.9 406.2 L 222.5 406.2 L 222.5 432.9 L 218.9 432.9 L 218.9 420.5 L 205.3 420.5 L 205.3 432.9 L 201.7 432.9 L 201.7 406.2 \" fill=\"#0000FF\"/>\n",
       "<path class=\"atom-8\" d=\"M 563.5 292.9 Q 563.5 286.5, 566.6 282.9 Q 569.8 279.3, 575.7 279.3 Q 581.6 279.3, 584.8 282.9 Q 588.0 286.5, 588.0 292.9 Q 588.0 299.3, 584.8 303.0 Q 581.6 306.7, 575.7 306.7 Q 569.8 306.7, 566.6 303.0 Q 563.5 299.4, 563.5 292.9 M 575.7 303.7 Q 579.8 303.7, 582.0 300.9 Q 584.2 298.2, 584.2 292.9 Q 584.2 287.6, 582.0 285.0 Q 579.8 282.3, 575.7 282.3 Q 571.7 282.3, 569.4 284.9 Q 567.3 287.6, 567.3 292.9 Q 567.3 298.2, 569.4 300.9 Q 571.7 303.7, 575.7 303.7 \" fill=\"#FF0000\"/>\n",
       "<path class=\"atom-8\" d=\"M 591.2 279.6 L 594.8 279.6 L 594.8 290.9 L 608.4 290.9 L 608.4 279.6 L 612.0 279.6 L 612.0 306.3 L 608.4 306.3 L 608.4 293.9 L 594.8 293.9 L 594.8 306.3 L 591.2 306.3 L 591.2 279.6 \" fill=\"#FF0000\"/>\n",
       "<path class=\"note\" d=\"M 58.7 370.1 Q 56.3 370.1, 55.0 368.3 Q 53.8 366.4, 53.8 363.2 Q 53.8 360.0, 55.0 358.2 Q 56.2 356.4, 58.7 356.4 Q 61.2 356.4, 62.4 358.2 Q 63.6 360.0, 63.6 363.2 Q 63.6 366.4, 62.4 368.3 Q 61.1 370.1, 58.7 370.1 M 58.7 368.6 Q 60.2 368.6, 60.9 367.2 Q 61.7 365.9, 61.7 363.2 Q 61.7 360.6, 60.9 359.3 Q 60.2 357.9, 58.7 357.9 Q 57.3 357.9, 56.5 359.3 Q 55.7 360.6, 55.7 363.2 Q 55.7 365.9, 56.5 367.2 Q 57.3 368.6, 58.7 368.6 \" fill=\"#000000\"/>\n",
       "<path class=\"note\" d=\"M 131.2 317.8 L 134.1 317.8 L 134.1 307.8 L 130.9 308.8 L 130.4 307.7 L 134.5 305.9 L 135.9 306.1 L 135.9 317.8 L 138.5 317.8 L 138.5 319.3 L 131.2 319.3 L 131.2 317.8 \" fill=\"#000000\"/>\n",
       "<path class=\"note\" d=\"M 173.6 198.4 Q 174.1 197.1, 175.2 196.4 Q 176.4 195.7, 178.0 195.7 Q 180.0 195.7, 181.2 196.8 Q 182.3 197.9, 182.3 199.8 Q 182.3 201.8, 180.8 203.7 Q 179.4 205.5, 176.4 207.7 L 182.5 207.7 L 182.5 209.2 L 173.5 209.2 L 173.5 207.9 Q 176.0 206.2, 177.5 204.8 Q 179.0 203.5, 179.7 202.3 Q 180.4 201.2, 180.4 199.9 Q 180.4 198.6, 179.8 197.9 Q 179.1 197.2, 178.0 197.2 Q 176.9 197.2, 176.2 197.7 Q 175.5 198.1, 175.0 199.0 L 173.6 198.4 \" fill=\"#000000\"/>\n",
       "<path class=\"note\" d=\"M 222.1 359.6 Q 223.4 360.0, 224.1 360.8 Q 224.7 361.7, 224.7 363.0 Q 224.7 364.1, 224.1 365.0 Q 223.6 365.9, 222.5 366.4 Q 221.5 366.8, 220.1 366.8 Q 218.7 366.8, 217.6 366.3 Q 216.6 365.8, 215.7 364.8 L 216.8 363.7 Q 217.6 364.6, 218.3 365.0 Q 219.0 365.3, 220.1 365.3 Q 221.3 365.3, 222.1 364.7 Q 222.8 364.0, 222.8 363.0 Q 222.8 361.6, 222.0 361.0 Q 221.3 360.4, 219.7 360.4 L 218.7 360.4 L 218.7 359.0 L 219.5 359.0 Q 221.0 359.0, 221.8 358.4 Q 222.5 357.8, 222.5 356.6 Q 222.5 355.7, 221.9 355.2 Q 221.3 354.7, 220.2 354.7 Q 219.0 354.7, 218.4 355.1 Q 217.7 355.5, 217.1 356.5 L 215.8 355.8 Q 216.3 354.7, 217.4 353.9 Q 218.6 353.2, 220.2 353.2 Q 222.1 353.2, 223.3 354.1 Q 224.4 355.0, 224.4 356.6 Q 224.4 357.6, 223.8 358.4 Q 223.2 359.2, 222.1 359.6 \" fill=\"#000000\"/>\n",
       "<path class=\"note\" d=\"M 295.4 356.8 L 297.0 356.8 L 297.0 358.4 L 295.4 358.4 L 295.4 361.4 L 293.7 361.4 L 293.7 358.4 L 286.8 358.4 L 286.8 357.2 L 292.6 348.1 L 295.4 348.1 L 295.4 356.8 M 289.0 356.8 L 293.7 356.8 L 293.7 349.3 L 289.0 356.8 \" fill=\"#000000\"/>\n",
       "<path class=\"note\" d=\"M 316.6 262.2 Q 317.8 262.2, 318.7 262.7 Q 319.7 263.2, 320.2 264.1 Q 320.8 265.0, 320.8 266.3 Q 320.8 267.7, 320.1 268.7 Q 319.4 269.6, 318.3 270.2 Q 317.3 270.7, 316.0 270.7 Q 314.8 270.7, 313.7 270.2 Q 312.5 269.8, 311.8 268.9 L 312.9 267.7 Q 313.5 268.4, 314.4 268.8 Q 315.2 269.1, 316.1 269.1 Q 317.3 269.1, 318.1 268.4 Q 318.9 267.7, 318.9 266.3 Q 318.9 264.9, 318.1 264.3 Q 317.3 263.6, 316.0 263.6 Q 314.8 263.6, 313.5 264.1 L 312.5 263.6 L 313.1 257.2 L 319.9 257.2 L 319.8 258.7 L 314.6 258.7 L 314.2 262.6 Q 315.4 262.2, 316.6 262.2 \" fill=\"#000000\"/>\n",
       "<path class=\"note\" d=\"M 422.9 233.9 Q 424.1 233.9, 425.0 234.4 Q 425.9 234.9, 426.4 235.8 Q 426.9 236.7, 426.9 237.9 Q 426.9 239.2, 426.4 240.2 Q 425.8 241.2, 424.8 241.8 Q 423.8 242.3, 422.5 242.3 Q 420.1 242.3, 418.9 240.7 Q 417.7 239.1, 417.7 235.9 Q 417.7 232.4, 419.2 230.5 Q 420.7 228.7, 423.5 228.7 Q 424.3 228.7, 425.0 228.9 Q 425.7 229.1, 426.4 229.5 L 425.7 230.7 Q 424.7 230.2, 423.5 230.2 Q 421.6 230.2, 420.7 231.4 Q 419.7 232.6, 419.6 235.1 Q 420.3 234.5, 421.1 234.2 Q 422.0 233.9, 422.9 233.9 M 422.5 240.8 Q 423.2 240.8, 423.8 240.4 Q 424.4 240.0, 424.7 239.4 Q 425.1 238.7, 425.1 237.9 Q 425.1 236.7, 424.4 236.0 Q 423.7 235.4, 422.6 235.4 Q 421.8 235.4, 421.0 235.7 Q 420.2 236.0, 419.6 236.6 Q 419.7 238.8, 420.4 239.8 Q 421.1 240.8, 422.5 240.8 \" fill=\"#000000\"/>\n",
       "<path class=\"note\" d=\"M 491.4 296.8 L 484.5 296.8 L 484.5 295.3 L 493.3 295.3 L 493.3 296.7 L 487.9 308.6 L 486.1 308.6 L 491.4 296.8 \" fill=\"#000000\"/>\n",
       "<path class=\"note\" d=\"M 608.1 284.3 Q 609.3 284.9, 610.0 285.7 Q 610.7 286.4, 610.7 287.7 Q 610.7 288.9, 610.1 289.8 Q 609.6 290.6, 608.5 291.1 Q 607.5 291.6, 606.1 291.6 Q 603.9 291.6, 602.6 290.6 Q 601.3 289.5, 601.3 287.7 Q 601.3 286.7, 601.9 285.8 Q 602.4 285.0, 603.6 284.4 Q 602.7 283.9, 602.3 283.2 Q 601.8 282.5, 601.8 281.3 Q 601.8 279.8, 602.9 278.8 Q 604.1 277.9, 606.0 277.9 Q 608.0 277.9, 609.1 278.8 Q 610.2 279.8, 610.2 281.3 Q 610.2 282.3, 609.7 283.0 Q 609.2 283.8, 608.1 284.3 M 606.0 279.3 Q 604.9 279.3, 604.3 279.9 Q 603.7 280.4, 603.7 281.3 Q 603.7 282.0, 604.1 282.5 Q 604.5 282.9, 605.1 283.2 Q 605.7 283.5, 606.9 283.9 Q 607.7 283.3, 608.0 282.7 Q 608.4 282.1, 608.4 281.3 Q 608.4 280.4, 607.7 279.9 Q 607.1 279.3, 606.0 279.3 M 606.1 290.2 Q 607.3 290.2, 608.1 289.5 Q 608.8 288.8, 608.8 287.7 Q 608.8 287.0, 608.5 286.6 Q 608.1 286.1, 607.5 285.8 Q 606.9 285.6, 605.8 285.2 L 605.0 285.0 Q 604.0 285.5, 603.6 286.2 Q 603.2 286.9, 603.2 287.7 Q 603.2 288.8, 604.0 289.5 Q 604.8 290.2, 606.1 290.2 \" fill=\"#000000\"/>\n",
       "<path class=\"note\" d=\"M 471.4 412.4 Q 473.8 412.4, 475.0 414.0 Q 476.2 415.6, 476.2 418.8 Q 476.2 422.3, 474.7 424.2 Q 473.2 426.0, 470.4 426.0 Q 469.5 426.0, 468.8 425.8 Q 468.1 425.6, 467.5 425.2 L 468.2 424.0 Q 469.2 424.5, 470.4 424.5 Q 472.2 424.5, 473.2 423.3 Q 474.2 422.1, 474.3 419.6 Q 473.6 420.2, 472.7 420.5 Q 471.9 420.9, 471.0 420.9 Q 469.8 420.9, 468.9 420.4 Q 467.9 419.8, 467.4 418.9 Q 466.9 418.0, 466.9 416.8 Q 466.9 415.5, 467.5 414.5 Q 468.1 413.5, 469.1 413.0 Q 470.1 412.4, 471.4 412.4 M 468.8 416.8 Q 468.8 418.0, 469.5 418.7 Q 470.1 419.4, 471.3 419.4 Q 472.1 419.4, 472.9 419.0 Q 473.7 418.7, 474.3 418.1 Q 474.2 415.9, 473.5 414.9 Q 472.8 413.9, 471.4 413.9 Q 470.7 413.9, 470.1 414.3 Q 469.5 414.7, 469.1 415.3 Q 468.8 416.0, 468.8 416.8 \" fill=\"#000000\"/>\n",
       "<path class=\"note\" d=\"M 352.7 452.8 L 355.7 452.8 L 355.7 442.8 L 352.4 443.8 L 352.0 442.7 L 356.1 440.9 L 357.4 441.1 L 357.4 452.8 L 360.0 452.8 L 360.0 454.3 L 352.7 454.3 L 352.7 452.8 \" fill=\"#000000\"/>\n",
       "<path class=\"note\" d=\"M 366.1 454.4 Q 363.6 454.4, 362.4 452.6 Q 361.2 450.8, 361.2 447.6 Q 361.2 444.4, 362.4 442.6 Q 363.6 440.8, 366.1 440.8 Q 368.5 440.8, 369.7 442.6 Q 370.9 444.4, 370.9 447.6 Q 370.9 450.8, 369.7 452.6 Q 368.5 454.4, 366.1 454.4 M 366.1 452.9 Q 367.5 452.9, 368.3 451.6 Q 369.1 450.2, 369.1 447.6 Q 369.1 445.0, 368.3 443.7 Q 367.5 442.3, 366.1 442.3 Q 364.6 442.3, 363.8 443.7 Q 363.1 445.0, 363.1 447.6 Q 363.1 450.2, 363.8 451.6 Q 364.6 452.9, 366.1 452.9 \" fill=\"#000000\"/>\n",
       "</svg>"
      ],
      "text/plain": [
       "<IPython.core.display.SVG object>"
      ]
     },
     "metadata": {},
     "output_type": "display_data"
    }
   ],
   "source": [
    "draw(gcn,dataset)"
   ]
  },
  {
   "cell_type": "code",
   "execution_count": 72,
   "id": "d5bb82a3",
   "metadata": {
    "scrolled": false
   },
   "outputs": [
    {
     "name": "stdout",
     "output_type": "stream",
     "text": [
      "#D#Masks calculate...\n",
      "#D#Loss:3.1191489696502686\n",
      "#D#Loss:1.534596562385559\n",
      "#D#Loss:0.9734885096549988\n",
      "#D#Loss:0.6928086280822754\n",
      "#D#Loss:0.509236216545105\n",
      "#D#Loss:0.4146087169647217\n",
      "#D#Loss:0.3535324037075043\n",
      "#D#Loss:0.30807456374168396\n",
      "#D#Loss:0.27841681241989136\n",
      "#D#Loss:0.2564965486526489\n",
      "#D#Loss:0.2396254539489746\n",
      "#D#Loss:0.2262900322675705\n",
      "#D#Loss:0.21539269387722015\n",
      "#D#Loss:0.20632481575012207\n",
      "#D#Loss:0.19869261980056763\n",
      "#D#Loss:0.19218404591083527\n",
      "#D#Loss:0.1866278201341629\n",
      "#D#Loss:0.18179534375667572\n",
      "#D#Loss:0.1775403916835785\n",
      "#D#Loss:0.17375949025154114\n",
      "#D#Loss:0.17036958038806915\n",
      "#D#Loss:0.16732870042324066\n",
      "#D#Loss:0.1645924150943756\n",
      "#D#Loss:0.16212448477745056\n",
      "#D#Loss:0.15988576412200928\n",
      "#D#Loss:0.1578454077243805\n",
      "#D#Loss:0.15598006546497345\n",
      "#D#Loss:0.15426883101463318\n",
      "#D#Loss:0.15269821882247925\n",
      "#D#Loss:0.1512535810470581\n",
      "#D#Loss:0.14992067217826843\n",
      "#D#Loss:0.1486888825893402\n",
      "#D#Loss:0.14754749834537506\n",
      "#D#Loss:0.1464875489473343\n",
      "#D#Loss:0.14550147950649261\n",
      "#D#Loss:0.14458337426185608\n",
      "#D#Loss:0.14372797310352325\n",
      "#D#Loss:0.1429281085729599\n",
      "#D#Loss:0.14217890799045563\n",
      "#D#Loss:0.1414758861064911\n",
      "#D#Loss:0.14081530272960663\n",
      "#D#Loss:0.14019367098808289\n",
      "#D#Loss:0.1396079957485199\n",
      "#D#Loss:0.13905563950538635\n",
      "#D#Loss:0.13853418827056885\n",
      "#D#Loss:0.13804112374782562\n",
      "#D#Loss:0.13757438957691193\n",
      "#D#Loss:0.13713210821151733\n",
      "#D#Loss:0.13671255111694336\n",
      "#D#Loss:0.13631388545036316\n",
      "#D#Predict...\n"
     ]
    },
    {
     "name": "stderr",
     "output_type": "stream",
     "text": [
      "D:\\anaconda\\envs\\rdk\\lib\\site-packages\\ipykernel_launcher.py:10: UserWarning: To copy construct from a tensor, it is recommended to use sourceTensor.clone().detach() or sourceTensor.clone().detach().requires_grad_(True), rather than torch.tensor(sourceTensor).\n",
      "  # Remove the CWD from sys.path while we load stuff.\n",
      "D:\\anaconda\\envs\\rdk\\lib\\site-packages\\ipykernel_launcher.py:11: UserWarning: To copy construct from a tensor, it is recommended to use sourceTensor.clone().detach() or sourceTensor.clone().detach().requires_grad_(True), rather than torch.tensor(sourceTensor).\n",
      "  # This is added back by InteractiveShellApp.init_path()\n",
      "D:\\anaconda\\envs\\rdk\\lib\\site-packages\\ipykernel_launcher.py:12: UserWarning: To copy construct from a tensor, it is recommended to use sourceTensor.clone().detach() or sourceTensor.clone().detach().requires_grad_(True), rather than torch.tensor(sourceTensor).\n",
      "  if sys.path[0] == '':\n"
     ]
    },
    {
     "data": {
      "image/svg+xml": [
       "<svg baseProfile=\"full\" height=\"650px\" version=\"1.1\" viewBox=\"0 0 650 650\" width=\"650px\" xml:space=\"preserve\" xmlns=\"http://www.w3.org/2000/svg\" xmlns:rdkit=\"http://www.rdkit.org/xml\" xmlns:xlink=\"http://www.w3.org/1999/xlink\">\n",
       "<!-- END OF HEADER -->\n",
       "<rect height=\"650.0\" style=\"opacity:1.0;fill:#FFFFFF;stroke:none\" width=\"650.0\" x=\"0.0\" y=\"0.0\"> </rect>\n",
       "<ellipse cx=\"126.5\" cy=\"323.6\" rx=\"26.8\" ry=\"26.8\" style=\"fill:#CE5F73;fill-rule:evenodd;stroke:#CE5F73;stroke-width:1.0px;stroke-linecap:butt;stroke-linejoin:miter;stroke-opacity:1\"/>\n",
       "<ellipse cx=\"417.4\" cy=\"245.6\" rx=\"26.8\" ry=\"26.8\" style=\"fill:#CE5F73;fill-rule:evenodd;stroke:#CE5F73;stroke-width:1.0px;stroke-linecap:butt;stroke-linejoin:miter;stroke-opacity:1\"/>\n",
       "<path class=\"bond-0 atom-0 atom-1\" d=\"M 29.5,349.6 L 126.5,323.6\" style=\"fill:none;fill-rule:evenodd;stroke:#000000;stroke-width:2.0px;stroke-linecap:butt;stroke-linejoin:miter;stroke-opacity:1\"/>\n",
       "<path class=\"bond-1 atom-1 atom-2\" d=\"M 136.2,326.2 L 146.9,286.3\" style=\"fill:none;fill-rule:evenodd;stroke:#000000;stroke-width:2.0px;stroke-linecap:butt;stroke-linejoin:miter;stroke-opacity:1\"/>\n",
       "<path class=\"bond-1 atom-1 atom-2\" d=\"M 146.9,286.3 L 157.6,246.5\" style=\"fill:none;fill-rule:evenodd;stroke:#FF0000;stroke-width:2.0px;stroke-linecap:butt;stroke-linejoin:miter;stroke-opacity:1\"/>\n",
       "<path class=\"bond-1 atom-1 atom-2\" d=\"M 116.8,321.0 L 127.5,281.1\" style=\"fill:none;fill-rule:evenodd;stroke:#000000;stroke-width:2.0px;stroke-linecap:butt;stroke-linejoin:miter;stroke-opacity:1\"/>\n",
       "<path class=\"bond-1 atom-1 atom-2\" d=\"M 127.5,281.1 L 138.2,241.3\" style=\"fill:none;fill-rule:evenodd;stroke:#FF0000;stroke-width:2.0px;stroke-linecap:butt;stroke-linejoin:miter;stroke-opacity:1\"/>\n",
       "<path class=\"bond-2 atom-1 atom-3\" d=\"M 126.5,323.6 L 155.4,352.4\" style=\"fill:none;fill-rule:evenodd;stroke:#000000;stroke-width:2.0px;stroke-linecap:butt;stroke-linejoin:miter;stroke-opacity:1\"/>\n",
       "<path class=\"bond-2 atom-1 atom-3\" d=\"M 155.4,352.4 L 184.3,381.3\" style=\"fill:none;fill-rule:evenodd;stroke:#0000FF;stroke-width:2.0px;stroke-linecap:butt;stroke-linejoin:miter;stroke-opacity:1\"/>\n",
       "<path class=\"bond-3 atom-3 atom-4\" d=\"M 210.8,391.0 L 252.6,379.8\" style=\"fill:none;fill-rule:evenodd;stroke:#0000FF;stroke-width:2.0px;stroke-linecap:butt;stroke-linejoin:miter;stroke-opacity:1\"/>\n",
       "<path class=\"bond-3 atom-3 atom-4\" d=\"M 252.6,379.8 L 294.5,368.6\" style=\"fill:none;fill-rule:evenodd;stroke:#000000;stroke-width:2.0px;stroke-linecap:butt;stroke-linejoin:miter;stroke-opacity:1\"/>\n",
       "<path class=\"bond-4 atom-4 atom-5\" d=\"M 294.5,368.6 L 320.5,271.6\" style=\"fill:none;fill-rule:evenodd;stroke:#000000;stroke-width:2.0px;stroke-linecap:butt;stroke-linejoin:miter;stroke-opacity:1\"/>\n",
       "<path class=\"bond-4 atom-4 atom-5\" d=\"M 317.8,359.2 L 336.0,291.3\" style=\"fill:none;fill-rule:evenodd;stroke:#000000;stroke-width:2.0px;stroke-linecap:butt;stroke-linejoin:miter;stroke-opacity:1\"/>\n",
       "<path class=\"bond-10 atom-10 atom-4\" d=\"M 365.5,439.6 L 294.5,368.6\" style=\"fill:none;fill-rule:evenodd;stroke:#000000;stroke-width:2.0px;stroke-linecap:butt;stroke-linejoin:miter;stroke-opacity:1\"/>\n",
       "<path class=\"bond-5 atom-5 atom-6\" d=\"M 320.5,271.6 L 417.4,245.6\" style=\"fill:none;fill-rule:evenodd;stroke:#000000;stroke-width:2.0px;stroke-linecap:butt;stroke-linejoin:miter;stroke-opacity:1\"/>\n",
       "<path class=\"bond-6 atom-6 atom-7\" d=\"M 417.4,245.6 L 488.4,316.6\" style=\"fill:none;fill-rule:evenodd;stroke:#000000;stroke-width:2.0px;stroke-linecap:butt;stroke-linejoin:miter;stroke-opacity:1\"/>\n",
       "<path class=\"bond-6 atom-6 atom-7\" d=\"M 413.9,270.5 L 463.6,320.2\" style=\"fill:none;fill-rule:evenodd;stroke:#000000;stroke-width:2.0px;stroke-linecap:butt;stroke-linejoin:miter;stroke-opacity:1\"/>\n",
       "<path class=\"bond-7 atom-7 atom-8\" d=\"M 488.4,316.6 L 529.2,305.7\" style=\"fill:none;fill-rule:evenodd;stroke:#000000;stroke-width:2.0px;stroke-linecap:butt;stroke-linejoin:miter;stroke-opacity:1\"/>\n",
       "<path class=\"bond-7 atom-7 atom-8\" d=\"M 529.2,305.7 L 569.9,294.8\" style=\"fill:none;fill-rule:evenodd;stroke:#FF0000;stroke-width:2.0px;stroke-linecap:butt;stroke-linejoin:miter;stroke-opacity:1\"/>\n",
       "<path class=\"bond-8 atom-7 atom-9\" d=\"M 488.4,316.6 L 462.4,413.6\" style=\"fill:none;fill-rule:evenodd;stroke:#000000;stroke-width:2.0px;stroke-linecap:butt;stroke-linejoin:miter;stroke-opacity:1\"/>\n",
       "<path class=\"bond-9 atom-9 atom-10\" d=\"M 462.4,413.6 L 365.5,439.6\" style=\"fill:none;fill-rule:evenodd;stroke:#000000;stroke-width:2.0px;stroke-linecap:butt;stroke-linejoin:miter;stroke-opacity:1\"/>\n",
       "<path class=\"bond-9 atom-9 atom-10\" d=\"M 442.7,398.1 L 374.8,416.3\" style=\"fill:none;fill-rule:evenodd;stroke:#000000;stroke-width:2.0px;stroke-linecap:butt;stroke-linejoin:miter;stroke-opacity:1\"/>\n",
       "<path class=\"atom-2\" d=\"M 139.5 226.7 Q 139.5 219.9, 142.9 216.1 Q 146.2 212.3, 152.5 212.3 Q 158.8 212.3, 162.1 216.1 Q 165.5 219.9, 165.5 226.7 Q 165.5 233.6, 162.1 237.5 Q 158.7 241.4, 152.5 241.4 Q 146.3 241.4, 142.9 237.5 Q 139.5 233.6, 139.5 226.7 M 152.5 238.2 Q 156.8 238.2, 159.1 235.3 Q 161.5 232.4, 161.5 226.7 Q 161.5 221.1, 159.1 218.3 Q 156.8 215.5, 152.5 215.5 Q 148.2 215.5, 145.8 218.3 Q 143.5 221.1, 143.5 226.7 Q 143.5 232.4, 145.8 235.3 Q 148.2 238.2, 152.5 238.2 \" fill=\"#FF0000\"/>\n",
       "<path class=\"atom-3\" d=\"M 191.2 380.4 L 200.5 395.4 Q 201.4 396.9, 202.9 399.6 Q 204.4 402.2, 204.5 402.4 L 204.5 380.4 L 208.2 380.4 L 208.2 408.7 L 204.4 408.7 L 194.4 392.3 Q 193.2 390.4, 192.0 388.2 Q 190.8 386.0, 190.4 385.3 L 190.4 408.7 L 186.8 408.7 L 186.8 380.4 L 191.2 380.4 \" fill=\"#0000FF\"/>\n",
       "<path class=\"atom-3\" d=\"M 186.4 411.6 L 190.3 411.6 L 190.3 423.6 L 204.7 423.6 L 204.7 411.6 L 208.6 411.6 L 208.6 439.9 L 204.7 439.9 L 204.7 426.8 L 190.3 426.8 L 190.3 439.9 L 186.4 439.9 L 186.4 411.6 \" fill=\"#0000FF\"/>\n",
       "<path class=\"atom-8\" d=\"M 572.4 290.7 Q 572.4 283.9, 575.8 280.1 Q 579.1 276.3, 585.4 276.3 Q 591.7 276.3, 595.0 280.1 Q 598.4 283.9, 598.4 290.7 Q 598.4 297.6, 595.0 301.5 Q 591.6 305.4, 585.4 305.4 Q 579.2 305.4, 575.8 301.5 Q 572.4 297.6, 572.4 290.7 M 585.4 302.2 Q 589.7 302.2, 592.0 299.3 Q 594.4 296.4, 594.4 290.7 Q 594.4 285.1, 592.0 282.3 Q 589.7 279.5, 585.4 279.5 Q 581.1 279.5, 578.7 282.3 Q 576.4 285.1, 576.4 290.7 Q 576.4 296.4, 578.7 299.3 Q 581.1 302.2, 585.4 302.2 \" fill=\"#FF0000\"/>\n",
       "<path class=\"atom-8\" d=\"M 601.8 276.6 L 605.6 276.6 L 605.6 288.7 L 620.1 288.7 L 620.1 276.6 L 624.0 276.6 L 624.0 304.9 L 620.1 304.9 L 620.1 291.9 L 605.6 291.9 L 605.6 304.9 L 601.8 304.9 L 601.8 276.6 \" fill=\"#FF0000\"/>\n",
       "<path class=\"note\" d=\"M 33.9 373.0 Q 31.3 373.0, 30.0 371.1 Q 28.7 369.2, 28.7 365.8 Q 28.7 362.4, 30.0 360.5 Q 31.3 358.6, 33.9 358.6 Q 36.5 358.6, 37.8 360.5 Q 39.1 362.4, 39.1 365.8 Q 39.1 369.2, 37.8 371.1 Q 36.5 373.0, 33.9 373.0 M 33.9 371.4 Q 35.4 371.4, 36.2 370.0 Q 37.1 368.6, 37.1 365.8 Q 37.1 363.0, 36.2 361.6 Q 35.4 360.2, 33.9 360.2 Q 32.4 360.2, 31.5 361.6 Q 30.7 363.0, 30.7 365.8 Q 30.7 368.6, 31.5 370.0 Q 32.4 371.4, 33.9 371.4 \" fill=\"#000000\"/>\n",
       "<path class=\"note\" d=\"M 111.2 317.3 L 114.3 317.3 L 114.3 306.7 L 110.9 307.7 L 110.4 306.6 L 114.8 304.6 L 116.2 304.9 L 116.2 317.3 L 119.0 317.3 L 119.0 318.9 L 111.2 318.9 L 111.2 317.3 \" fill=\"#000000\"/>\n",
       "<path class=\"note\" d=\"M 156.4 190.0 Q 157.0 188.6, 158.2 187.9 Q 159.4 187.1, 161.2 187.1 Q 163.3 187.1, 164.5 188.3 Q 165.7 189.4, 165.7 191.5 Q 165.7 193.6, 164.1 195.6 Q 162.6 197.5, 159.4 199.8 L 165.9 199.8 L 165.9 201.4 L 156.4 201.4 L 156.4 200.1 Q 159.0 198.2, 160.6 196.8 Q 162.2 195.4, 162.9 194.2 Q 163.7 192.9, 163.7 191.6 Q 163.7 190.2, 163.0 189.5 Q 162.3 188.7, 161.2 188.7 Q 160.0 188.7, 159.3 189.2 Q 158.5 189.6, 158.0 190.7 L 156.4 190.0 \" fill=\"#000000\"/>\n",
       "<path class=\"note\" d=\"M 208.2 361.9 Q 209.6 362.3, 210.3 363.2 Q 210.9 364.1, 210.9 365.5 Q 210.9 366.7, 210.3 367.7 Q 209.7 368.6, 208.6 369.1 Q 207.5 369.6, 206.1 369.6 Q 204.6 369.6, 203.4 369.1 Q 202.3 368.5, 201.4 367.5 L 202.6 366.3 Q 203.4 367.3, 204.2 367.6 Q 204.9 368.0, 206.1 368.0 Q 207.4 368.0, 208.2 367.3 Q 208.9 366.6, 208.9 365.5 Q 208.9 364.1, 208.1 363.4 Q 207.3 362.8, 205.6 362.8 L 204.6 362.8 L 204.6 361.3 L 205.5 361.3 Q 207.0 361.3, 207.8 360.6 Q 208.6 360.0, 208.6 358.7 Q 208.6 357.8, 208.0 357.2 Q 207.3 356.7, 206.1 356.7 Q 204.9 356.7, 204.2 357.1 Q 203.5 357.5, 202.9 358.6 L 201.5 357.8 Q 202.0 356.7, 203.2 355.9 Q 204.4 355.1, 206.1 355.1 Q 208.2 355.1, 209.4 356.1 Q 210.6 357.0, 210.6 358.7 Q 210.6 359.8, 210.0 360.7 Q 209.4 361.5, 208.2 361.9 \" fill=\"#000000\"/>\n",
       "<path class=\"note\" d=\"M 286.4 359.0 L 288.1 359.0 L 288.1 360.6 L 286.4 360.6 L 286.4 363.8 L 284.5 363.8 L 284.5 360.6 L 277.2 360.6 L 277.2 359.3 L 283.4 349.7 L 286.4 349.7 L 286.4 359.0 M 279.5 359.0 L 284.5 359.0 L 284.5 350.9 L 279.5 359.0 \" fill=\"#000000\"/>\n",
       "<path class=\"note\" d=\"M 309.0 258.0 Q 310.2 258.0, 311.2 258.5 Q 312.3 259.1, 312.8 260.1 Q 313.4 261.0, 313.4 262.4 Q 313.4 263.8, 312.7 264.9 Q 312.0 265.9, 310.8 266.5 Q 309.7 267.0, 308.4 267.0 Q 307.1 267.0, 305.9 266.5 Q 304.7 266.1, 303.8 265.1 L 305.0 263.9 Q 305.7 264.6, 306.6 265.0 Q 307.5 265.4, 308.4 265.4 Q 309.7 265.4, 310.5 264.6 Q 311.4 263.8, 311.4 262.4 Q 311.4 260.9, 310.5 260.2 Q 309.7 259.5, 308.3 259.5 Q 307.1 259.5, 305.7 260.0 L 304.6 259.5 L 305.3 252.7 L 312.5 252.7 L 312.3 254.3 L 306.9 254.3 L 306.5 258.5 Q 307.7 258.0, 309.0 258.0 \" fill=\"#000000\"/>\n",
       "<path class=\"note\" d=\"M 422.4 227.8 Q 423.6 227.8, 424.6 228.3 Q 425.6 228.9, 426.1 229.8 Q 426.7 230.8, 426.7 232.1 Q 426.7 233.4, 426.1 234.5 Q 425.5 235.6, 424.4 236.2 Q 423.3 236.8, 421.9 236.8 Q 419.4 236.8, 418.1 235.1 Q 416.9 233.4, 416.9 230.0 Q 416.9 226.2, 418.4 224.3 Q 420.0 222.3, 423.0 222.3 Q 423.9 222.3, 424.6 222.5 Q 425.4 222.7, 426.1 223.1 L 425.3 224.5 Q 424.3 223.9, 423.0 223.9 Q 421.0 223.9, 420.0 225.2 Q 419.0 226.5, 418.9 229.1 Q 419.6 228.5, 420.5 228.1 Q 421.4 227.8, 422.4 227.8 M 421.9 235.1 Q 422.7 235.1, 423.3 234.7 Q 424.0 234.3, 424.3 233.6 Q 424.7 232.9, 424.7 232.1 Q 424.7 230.8, 424.0 230.1 Q 423.3 229.4, 422.0 229.4 Q 421.2 229.4, 420.3 229.7 Q 419.5 230.1, 418.9 230.7 Q 419.0 233.0, 419.7 234.1 Q 420.4 235.1, 421.9 235.1 \" fill=\"#000000\"/>\n",
       "<path class=\"note\" d=\"M 495.5 295.0 L 488.1 295.0 L 488.1 293.4 L 497.5 293.4 L 497.5 294.8 L 491.7 307.5 L 489.8 307.5 L 495.5 295.0 \" fill=\"#000000\"/>\n",
       "<path class=\"note\" d=\"M 620.0 281.6 Q 621.3 282.2, 622.0 283.0 Q 622.7 283.8, 622.7 285.2 Q 622.7 286.4, 622.1 287.4 Q 621.5 288.3, 620.4 288.8 Q 619.3 289.3, 617.8 289.3 Q 615.5 289.3, 614.1 288.2 Q 612.7 287.1, 612.7 285.2 Q 612.7 284.1, 613.3 283.2 Q 613.9 282.3, 615.2 281.7 Q 614.3 281.2, 613.8 280.4 Q 613.3 279.6, 613.3 278.4 Q 613.3 276.8, 614.5 275.8 Q 615.7 274.8, 617.7 274.8 Q 619.8 274.8, 621.0 275.8 Q 622.2 276.8, 622.2 278.4 Q 622.2 279.5, 621.6 280.2 Q 621.1 281.0, 620.0 281.6 M 617.7 276.3 Q 616.6 276.3, 615.9 276.9 Q 615.3 277.4, 615.3 278.4 Q 615.3 279.2, 615.7 279.7 Q 616.1 280.1, 616.8 280.4 Q 617.4 280.7, 618.6 281.1 Q 619.5 280.5, 619.8 279.9 Q 620.2 279.2, 620.2 278.4 Q 620.2 277.4, 619.6 276.9 Q 618.9 276.3, 617.7 276.3 M 617.8 287.8 Q 619.1 287.8, 619.9 287.1 Q 620.7 286.4, 620.7 285.2 Q 620.7 284.5, 620.3 284.0 Q 619.9 283.5, 619.3 283.2 Q 618.6 282.9, 617.5 282.6 L 616.6 282.3 Q 615.6 282.9, 615.2 283.6 Q 614.7 284.3, 614.7 285.2 Q 614.7 286.4, 615.6 287.1 Q 616.4 287.8, 617.8 287.8 \" fill=\"#000000\"/>\n",
       "<path class=\"note\" d=\"M 474.1 418.3 Q 476.7 418.3, 477.9 420.0 Q 479.2 421.7, 479.2 425.1 Q 479.2 428.8, 477.6 430.8 Q 476.1 432.7, 473.0 432.7 Q 472.2 432.7, 471.4 432.5 Q 470.7 432.3, 469.9 431.9 L 470.7 430.6 Q 471.8 431.1, 473.0 431.1 Q 475.0 431.1, 476.0 429.9 Q 477.1 428.6, 477.2 425.9 Q 476.5 426.6, 475.5 426.9 Q 474.6 427.3, 473.7 427.3 Q 472.4 427.3, 471.4 426.7 Q 470.5 426.2, 469.9 425.2 Q 469.4 424.2, 469.4 423.0 Q 469.4 421.6, 470.0 420.5 Q 470.6 419.5, 471.7 418.9 Q 472.8 418.3, 474.1 418.3 M 471.4 423.0 Q 471.4 424.2, 472.1 424.9 Q 472.8 425.7, 474.0 425.7 Q 474.9 425.7, 475.7 425.3 Q 476.6 425.0, 477.2 424.4 Q 477.1 422.0, 476.4 421.0 Q 475.6 419.9, 474.1 419.9 Q 473.4 419.9, 472.7 420.3 Q 472.1 420.7, 471.7 421.4 Q 471.4 422.1, 471.4 423.0 \" fill=\"#000000\"/>\n",
       "<path class=\"note\" d=\"M 347.6 461.3 L 350.7 461.3 L 350.7 450.7 L 347.3 451.8 L 346.8 450.6 L 351.2 448.6 L 352.6 448.9 L 352.6 461.3 L 355.4 461.3 L 355.4 462.9 L 347.6 462.9 L 347.6 461.3 \" fill=\"#000000\"/>\n",
       "<path class=\"note\" d=\"M 361.8 463.0 Q 359.2 463.0, 357.9 461.1 Q 356.6 459.2, 356.6 455.8 Q 356.6 452.4, 357.9 450.5 Q 359.1 448.6, 361.8 448.6 Q 364.4 448.6, 365.7 450.5 Q 366.9 452.4, 366.9 455.8 Q 366.9 459.2, 365.6 461.1 Q 364.4 463.0, 361.8 463.0 M 361.8 461.4 Q 363.3 461.4, 364.1 460.0 Q 364.9 458.6, 364.9 455.8 Q 364.9 453.0, 364.1 451.6 Q 363.3 450.2, 361.8 450.2 Q 360.2 450.2, 359.4 451.6 Q 358.6 453.0, 358.6 455.8 Q 358.6 458.6, 359.4 460.0 Q 360.2 461.4, 361.8 461.4 \" fill=\"#000000\"/>\n",
       "</svg>"
      ],
      "text/plain": [
       "<IPython.core.display.SVG object>"
      ]
     },
     "metadata": {},
     "output_type": "display_data"
    }
   ],
   "source": [
    "draw(gat,dataset)"
   ]
  },
  {
   "cell_type": "code",
   "execution_count": 73,
   "id": "602e311b",
   "metadata": {},
   "outputs": [
    {
     "name": "stdout",
     "output_type": "stream",
     "text": [
      "#D#Masks calculate...\n",
      "#D#Loss:3.68821120262146\n",
      "#D#Loss:1.873169183731079\n",
      "#D#Loss:1.063668131828308\n",
      "#D#Loss:0.8059606552124023\n",
      "#D#Loss:0.710732102394104\n",
      "#D#Loss:0.6565529704093933\n",
      "#D#Loss:0.6206408739089966\n",
      "#D#Loss:0.5946438312530518\n",
      "#D#Loss:0.5735395550727844\n",
      "#D#Loss:0.5596290826797485\n",
      "#D#Loss:0.5502730011940002\n",
      "#D#Loss:0.5421395301818848\n",
      "#D#Loss:0.5349467992782593\n",
      "#D#Loss:0.529071033000946\n",
      "#D#Loss:0.5242093801498413\n",
      "#D#Loss:0.5200726389884949\n",
      "#D#Loss:0.5165236592292786\n",
      "#D#Loss:0.5134607553482056\n",
      "#D#Loss:0.5107726454734802\n",
      "#D#Loss:0.5082395672798157\n",
      "#D#Loss:0.5059943795204163\n",
      "#D#Loss:0.5039049386978149\n",
      "#D#Loss:0.5017441511154175\n",
      "#D#Loss:0.4997284710407257\n",
      "#D#Loss:0.49794232845306396\n",
      "#D#Loss:0.49638938903808594\n",
      "#D#Loss:0.4950253367424011\n",
      "#D#Loss:0.4938100576400757\n",
      "#D#Loss:0.4927302300930023\n",
      "#D#Loss:0.4917287826538086\n",
      "#D#Loss:0.4908365309238434\n",
      "#D#Loss:0.4900516867637634\n",
      "#D#Loss:0.4893280267715454\n",
      "#D#Loss:0.4886709451675415\n",
      "#D#Loss:0.488058477640152\n",
      "#D#Loss:0.4875049293041229\n",
      "#D#Loss:0.4869709312915802\n",
      "#D#Loss:0.4864807426929474\n",
      "#D#Loss:0.4860309958457947\n",
      "#D#Loss:0.4856031537055969\n",
      "#D#Loss:0.4852028489112854\n",
      "#D#Loss:0.4848284423351288\n",
      "#D#Loss:0.4844667613506317\n",
      "#D#Loss:0.4841395914554596\n",
      "#D#Loss:0.48382267355918884\n",
      "#D#Loss:0.48351702094078064\n",
      "#D#Loss:0.48322996497154236\n",
      "#D#Loss:0.48296627402305603\n",
      "#D#Loss:0.48271098732948303\n",
      "#D#Loss:0.4824686646461487\n",
      "#D#Predict...\n"
     ]
    },
    {
     "name": "stderr",
     "output_type": "stream",
     "text": [
      "D:\\anaconda\\envs\\rdk\\lib\\site-packages\\ipykernel_launcher.py:10: UserWarning: To copy construct from a tensor, it is recommended to use sourceTensor.clone().detach() or sourceTensor.clone().detach().requires_grad_(True), rather than torch.tensor(sourceTensor).\n",
      "  # Remove the CWD from sys.path while we load stuff.\n",
      "D:\\anaconda\\envs\\rdk\\lib\\site-packages\\ipykernel_launcher.py:11: UserWarning: To copy construct from a tensor, it is recommended to use sourceTensor.clone().detach() or sourceTensor.clone().detach().requires_grad_(True), rather than torch.tensor(sourceTensor).\n",
      "  # This is added back by InteractiveShellApp.init_path()\n",
      "D:\\anaconda\\envs\\rdk\\lib\\site-packages\\ipykernel_launcher.py:12: UserWarning: To copy construct from a tensor, it is recommended to use sourceTensor.clone().detach() or sourceTensor.clone().detach().requires_grad_(True), rather than torch.tensor(sourceTensor).\n",
      "  if sys.path[0] == '':\n"
     ]
    },
    {
     "data": {
      "image/svg+xml": [
       "<svg baseProfile=\"full\" height=\"650px\" version=\"1.1\" viewBox=\"0 0 650 650\" width=\"650px\" xml:space=\"preserve\" xmlns=\"http://www.w3.org/2000/svg\" xmlns:rdkit=\"http://www.rdkit.org/xml\" xmlns:xlink=\"http://www.w3.org/1999/xlink\">\n",
       "<!-- END OF HEADER -->\n",
       "<rect height=\"650.0\" style=\"opacity:1.0;fill:#FFFFFF;stroke:none\" width=\"650.0\" x=\"0.0\" y=\"0.0\"> </rect>\n",
       "<ellipse cx=\"194.6\" cy=\"403.5\" rx=\"26.3\" ry=\"41.5\" style=\"fill:#CE5F73;fill-rule:evenodd;stroke:#CE5F73;stroke-width:1.0px;stroke-linecap:butt;stroke-linejoin:miter;stroke-opacity:1\"/>\n",
       "<ellipse cx=\"315.4\" cy=\"267.3\" rx=\"26.3\" ry=\"26.3\" style=\"fill:#CE5F73;fill-rule:evenodd;stroke:#CE5F73;stroke-width:1.0px;stroke-linecap:butt;stroke-linejoin:miter;stroke-opacity:1\"/>\n",
       "<ellipse cx=\"480.4\" cy=\"311.5\" rx=\"26.3\" ry=\"26.3\" style=\"fill:#CE5F73;fill-rule:evenodd;stroke:#CE5F73;stroke-width:1.0px;stroke-linecap:butt;stroke-linejoin:miter;stroke-opacity:1\"/>\n",
       "<ellipse cx=\"588.3\" cy=\"286.2\" rx=\"36.0\" ry=\"26.3\" style=\"fill:#CE5F73;fill-rule:evenodd;stroke:#CE5F73;stroke-width:1.0px;stroke-linecap:butt;stroke-linejoin:miter;stroke-opacity:1\"/>\n",
       "<ellipse cx=\"359.6\" cy=\"432.4\" rx=\"26.3\" ry=\"26.3\" style=\"fill:#CE5F73;fill-rule:evenodd;stroke:#CE5F73;stroke-width:1.0px;stroke-linecap:butt;stroke-linejoin:miter;stroke-opacity:1\"/>\n",
       "<path class=\"bond-0 atom-0 atom-1\" d=\"M 29.5,343.9 L 124.8,318.4\" style=\"fill:none;fill-rule:evenodd;stroke:#000000;stroke-width:2.0px;stroke-linecap:butt;stroke-linejoin:miter;stroke-opacity:1\"/>\n",
       "<path class=\"bond-1 atom-1 atom-2\" d=\"M 134.4,320.9 L 144.8,281.8\" style=\"fill:none;fill-rule:evenodd;stroke:#000000;stroke-width:2.0px;stroke-linecap:butt;stroke-linejoin:miter;stroke-opacity:1\"/>\n",
       "<path class=\"bond-1 atom-1 atom-2\" d=\"M 144.8,281.8 L 155.3,242.7\" style=\"fill:none;fill-rule:evenodd;stroke:#FF0000;stroke-width:2.0px;stroke-linecap:butt;stroke-linejoin:miter;stroke-opacity:1\"/>\n",
       "<path class=\"bond-1 atom-1 atom-2\" d=\"M 115.3,315.8 L 125.8,276.7\" style=\"fill:none;fill-rule:evenodd;stroke:#000000;stroke-width:2.0px;stroke-linecap:butt;stroke-linejoin:miter;stroke-opacity:1\"/>\n",
       "<path class=\"bond-1 atom-1 atom-2\" d=\"M 125.8,276.7 L 136.3,237.6\" style=\"fill:none;fill-rule:evenodd;stroke:#FF0000;stroke-width:2.0px;stroke-linecap:butt;stroke-linejoin:miter;stroke-opacity:1\"/>\n",
       "<path class=\"bond-2 atom-1 atom-3\" d=\"M 124.8,318.4 L 153.2,346.7\" style=\"fill:none;fill-rule:evenodd;stroke:#000000;stroke-width:2.0px;stroke-linecap:butt;stroke-linejoin:miter;stroke-opacity:1\"/>\n",
       "<path class=\"bond-2 atom-1 atom-3\" d=\"M 153.2,346.7 L 181.5,375.1\" style=\"fill:none;fill-rule:evenodd;stroke:#0000FF;stroke-width:2.0px;stroke-linecap:butt;stroke-linejoin:miter;stroke-opacity:1\"/>\n",
       "<path class=\"bond-3 atom-3 atom-4\" d=\"M 207.6,384.6 L 248.8,373.6\" style=\"fill:none;fill-rule:evenodd;stroke:#0000FF;stroke-width:2.0px;stroke-linecap:butt;stroke-linejoin:miter;stroke-opacity:1\"/>\n",
       "<path class=\"bond-3 atom-3 atom-4\" d=\"M 248.8,373.6 L 289.9,362.6\" style=\"fill:none;fill-rule:evenodd;stroke:#000000;stroke-width:2.0px;stroke-linecap:butt;stroke-linejoin:miter;stroke-opacity:1\"/>\n",
       "<path class=\"bond-4 atom-4 atom-5\" d=\"M 289.9,362.6 L 315.4,267.3\" style=\"fill:none;fill-rule:evenodd;stroke:#000000;stroke-width:2.0px;stroke-linecap:butt;stroke-linejoin:miter;stroke-opacity:1\"/>\n",
       "<path class=\"bond-4 atom-4 atom-5\" d=\"M 312.7,353.4 L 330.6,286.7\" style=\"fill:none;fill-rule:evenodd;stroke:#000000;stroke-width:2.0px;stroke-linecap:butt;stroke-linejoin:miter;stroke-opacity:1\"/>\n",
       "<path class=\"bond-10 atom-10 atom-4\" d=\"M 359.6,432.4 L 289.9,362.6\" style=\"fill:none;fill-rule:evenodd;stroke:#000000;stroke-width:2.0px;stroke-linecap:butt;stroke-linejoin:miter;stroke-opacity:1\"/>\n",
       "<path class=\"bond-5 atom-5 atom-6\" d=\"M 315.4,267.3 L 410.7,241.8\" style=\"fill:none;fill-rule:evenodd;stroke:#000000;stroke-width:2.0px;stroke-linecap:butt;stroke-linejoin:miter;stroke-opacity:1\"/>\n",
       "<path class=\"bond-6 atom-6 atom-7\" d=\"M 410.7,241.8 L 480.4,311.5\" style=\"fill:none;fill-rule:evenodd;stroke:#000000;stroke-width:2.0px;stroke-linecap:butt;stroke-linejoin:miter;stroke-opacity:1\"/>\n",
       "<path class=\"bond-6 atom-6 atom-7\" d=\"M 407.2,266.2 L 456.0,315.0\" style=\"fill:none;fill-rule:evenodd;stroke:#000000;stroke-width:2.0px;stroke-linecap:butt;stroke-linejoin:miter;stroke-opacity:1\"/>\n",
       "<path class=\"bond-7 atom-7 atom-8\" d=\"M 480.4,311.5 L 520.4,300.8\" style=\"fill:none;fill-rule:evenodd;stroke:#000000;stroke-width:2.0px;stroke-linecap:butt;stroke-linejoin:miter;stroke-opacity:1\"/>\n",
       "<path class=\"bond-7 atom-7 atom-8\" d=\"M 520.4,300.8 L 560.4,290.1\" style=\"fill:none;fill-rule:evenodd;stroke:#FF0000;stroke-width:2.0px;stroke-linecap:butt;stroke-linejoin:miter;stroke-opacity:1\"/>\n",
       "<path class=\"bond-8 atom-7 atom-9\" d=\"M 480.4,311.5 L 454.9,406.8\" style=\"fill:none;fill-rule:evenodd;stroke:#000000;stroke-width:2.0px;stroke-linecap:butt;stroke-linejoin:miter;stroke-opacity:1\"/>\n",
       "<path class=\"bond-9 atom-9 atom-10\" d=\"M 454.9,406.8 L 359.6,432.4\" style=\"fill:none;fill-rule:evenodd;stroke:#000000;stroke-width:2.0px;stroke-linecap:butt;stroke-linejoin:miter;stroke-opacity:1\"/>\n",
       "<path class=\"bond-9 atom-9 atom-10\" d=\"M 435.5,391.6 L 368.8,409.5\" style=\"fill:none;fill-rule:evenodd;stroke:#000000;stroke-width:2.0px;stroke-linecap:butt;stroke-linejoin:miter;stroke-opacity:1\"/>\n",
       "<path class=\"atom-2\" d=\"M 137.5 223.2 Q 137.5 216.5, 140.8 212.7 Q 144.2 209.0, 150.4 209.0 Q 156.6 209.0, 159.9 212.7 Q 163.2 216.5, 163.2 223.2 Q 163.2 230.0, 159.8 233.8 Q 156.5 237.7, 150.4 237.7 Q 144.2 237.7, 140.8 233.8 Q 137.5 230.0, 137.5 223.2 M 150.4 234.5 Q 154.6 234.5, 156.9 231.7 Q 159.2 228.8, 159.2 223.2 Q 159.2 217.7, 156.9 214.9 Q 154.6 212.1, 150.4 212.1 Q 146.1 212.1, 143.8 214.9 Q 141.5 217.7, 141.5 223.2 Q 141.5 228.8, 143.8 231.7 Q 146.1 234.5, 150.4 234.5 \" fill=\"#FF0000\"/>\n",
       "<path class=\"atom-3\" d=\"M 188.4 374.2 L 197.6 389.0 Q 198.5 390.4, 199.9 393.1 Q 201.4 395.7, 201.5 395.9 L 201.5 374.2 L 205.2 374.2 L 205.2 402.1 L 201.3 402.1 L 191.5 385.9 Q 190.4 384.0, 189.2 381.9 Q 188.0 379.7, 187.6 379.0 L 187.6 402.1 L 184.0 402.1 L 184.0 374.2 L 188.4 374.2 \" fill=\"#0000FF\"/>\n",
       "<path class=\"atom-3\" d=\"M 183.7 404.9 L 187.4 404.9 L 187.4 416.8 L 201.7 416.8 L 201.7 404.9 L 205.5 404.9 L 205.5 432.8 L 201.7 432.8 L 201.7 419.9 L 187.4 419.9 L 187.4 432.8 L 183.7 432.8 L 183.7 404.9 \" fill=\"#0000FF\"/>\n",
       "<path class=\"atom-8\" d=\"M 562.9 286.1 Q 562.9 279.4, 566.2 275.6 Q 569.5 271.9, 575.7 271.9 Q 581.9 271.9, 585.2 275.6 Q 588.5 279.4, 588.5 286.1 Q 588.5 292.9, 585.2 296.7 Q 581.8 300.6, 575.7 300.6 Q 569.6 300.6, 566.2 296.7 Q 562.9 292.9, 562.9 286.1 M 575.7 297.4 Q 580.0 297.4, 582.3 294.6 Q 584.6 291.7, 584.6 286.1 Q 584.6 280.6, 582.3 277.8 Q 580.0 275.0, 575.7 275.0 Q 571.4 275.0, 569.1 277.8 Q 566.8 280.6, 566.8 286.1 Q 566.8 291.7, 569.1 294.6 Q 571.4 297.4, 575.7 297.4 \" fill=\"#FF0000\"/>\n",
       "<path class=\"atom-8\" d=\"M 591.9 272.2 L 595.7 272.2 L 595.7 284.1 L 610.0 284.1 L 610.0 272.2 L 613.7 272.2 L 613.7 300.1 L 610.0 300.1 L 610.0 287.2 L 595.7 287.2 L 595.7 300.1 L 591.9 300.1 L 591.9 272.2 \" fill=\"#FF0000\"/>\n",
       "<path class=\"note\" d=\"M 33.8 367.0 Q 31.2 367.0, 30.0 365.1 Q 28.7 363.2, 28.7 359.9 Q 28.7 356.5, 30.0 354.6 Q 31.2 352.7, 33.8 352.7 Q 36.4 352.7, 37.6 354.6 Q 38.9 356.5, 38.9 359.9 Q 38.9 363.2, 37.6 365.1 Q 36.4 367.0, 33.8 367.0 M 33.8 365.4 Q 35.3 365.4, 36.1 364.0 Q 36.9 362.6, 36.9 359.9 Q 36.9 357.1, 36.1 355.7 Q 35.3 354.3, 33.8 354.3 Q 32.3 354.3, 31.5 355.7 Q 30.7 357.1, 30.7 359.9 Q 30.7 362.6, 31.5 364.0 Q 32.3 365.4, 33.8 365.4 \" fill=\"#000000\"/>\n",
       "<path class=\"note\" d=\"M 109.8 312.2 L 112.8 312.2 L 112.8 301.8 L 109.4 302.8 L 109.0 301.6 L 113.3 299.7 L 114.7 300.0 L 114.7 312.2 L 117.4 312.2 L 117.4 313.8 L 109.8 313.8 L 109.8 312.2 \" fill=\"#000000\"/>\n",
       "<path class=\"note\" d=\"M 154.2 187.1 Q 154.7 185.8, 155.9 185.0 Q 157.2 184.3, 158.9 184.3 Q 161.0 184.3, 162.2 185.4 Q 163.3 186.6, 163.3 188.6 Q 163.3 190.7, 161.8 192.6 Q 160.3 194.5, 157.1 196.8 L 163.6 196.8 L 163.6 198.4 L 154.2 198.4 L 154.2 197.1 Q 156.8 195.2, 158.3 193.8 Q 159.9 192.5, 160.6 191.2 Q 161.4 190.0, 161.4 188.7 Q 161.4 187.4, 160.7 186.6 Q 160.0 185.9, 158.9 185.9 Q 157.7 185.9, 157.0 186.3 Q 156.2 186.8, 155.7 187.8 L 154.2 187.1 \" fill=\"#000000\"/>\n",
       "<path class=\"note\" d=\"M 205.1 356.1 Q 206.5 356.5, 207.1 357.4 Q 207.8 358.2, 207.8 359.6 Q 207.8 360.8, 207.2 361.7 Q 206.6 362.6, 205.5 363.1 Q 204.4 363.6, 203.0 363.6 Q 201.5 363.6, 200.4 363.1 Q 199.3 362.6, 198.4 361.5 L 199.5 360.4 Q 200.4 361.3, 201.1 361.7 Q 201.8 362.1, 203.0 362.1 Q 204.3 362.1, 205.0 361.4 Q 205.8 360.7, 205.8 359.6 Q 205.8 358.2, 205.0 357.5 Q 204.2 356.9, 202.5 356.9 L 201.5 356.9 L 201.5 355.5 L 202.4 355.5 Q 203.9 355.4, 204.7 354.8 Q 205.5 354.1, 205.5 352.9 Q 205.5 352.0, 204.8 351.4 Q 204.2 350.9, 203.0 350.9 Q 201.9 350.9, 201.1 351.3 Q 200.4 351.7, 199.9 352.8 L 198.5 352.0 Q 199.0 350.9, 200.2 350.1 Q 201.4 349.3, 203.0 349.3 Q 205.1 349.3, 206.3 350.3 Q 207.5 351.2, 207.5 352.9 Q 207.5 354.0, 206.9 354.8 Q 206.3 355.6, 205.1 356.1 \" fill=\"#000000\"/>\n",
       "<path class=\"note\" d=\"M 281.9 353.2 L 283.6 353.2 L 283.6 354.7 L 281.9 354.7 L 281.9 358.0 L 280.1 358.0 L 280.1 354.7 L 272.9 354.7 L 272.9 353.5 L 279.0 344.0 L 281.9 344.0 L 281.9 353.2 M 275.1 353.2 L 280.1 353.2 L 280.1 345.3 L 275.1 353.2 \" fill=\"#000000\"/>\n",
       "<path class=\"note\" d=\"M 304.1 253.9 Q 305.3 253.9, 306.3 254.5 Q 307.3 255.0, 307.9 256.0 Q 308.5 256.9, 308.5 258.3 Q 308.5 259.7, 307.8 260.7 Q 307.1 261.8, 305.9 262.3 Q 304.8 262.8, 303.5 262.8 Q 302.2 262.8, 301.0 262.4 Q 299.9 261.9, 299.0 261.0 L 300.2 259.8 Q 300.9 260.5, 301.8 260.9 Q 302.7 261.2, 303.6 261.2 Q 304.8 261.2, 305.7 260.5 Q 306.5 259.7, 306.5 258.3 Q 306.5 256.8, 305.7 256.1 Q 304.8 255.4, 303.4 255.4 Q 302.2 255.4, 300.9 256.0 L 299.8 255.4 L 300.4 248.7 L 307.6 248.7 L 307.4 250.3 L 302.1 250.3 L 301.6 254.4 Q 302.9 253.9, 304.1 253.9 \" fill=\"#000000\"/>\n",
       "<path class=\"note\" d=\"M 415.6 224.3 Q 416.8 224.3, 417.7 224.8 Q 418.7 225.3, 419.2 226.3 Q 419.8 227.3, 419.8 228.5 Q 419.8 229.8, 419.2 230.9 Q 418.6 231.9, 417.5 232.5 Q 416.4 233.1, 415.1 233.1 Q 412.6 233.1, 411.3 231.5 Q 410.1 229.8, 410.1 226.4 Q 410.1 222.7, 411.6 220.8 Q 413.2 218.8, 416.2 218.8 Q 417.0 218.8, 417.8 219.0 Q 418.5 219.2, 419.2 219.7 L 418.5 221.0 Q 417.4 220.4, 416.2 220.4 Q 414.2 220.4, 413.2 221.7 Q 412.2 223.0, 412.1 225.6 Q 412.8 224.9, 413.7 224.6 Q 414.6 224.3, 415.6 224.3 M 415.1 231.5 Q 415.8 231.5, 416.5 231.1 Q 417.1 230.7, 417.4 230.0 Q 417.8 229.3, 417.8 228.5 Q 417.8 227.3, 417.1 226.5 Q 416.4 225.8, 415.2 225.8 Q 414.3 225.8, 413.5 226.2 Q 412.7 226.5, 412.1 227.1 Q 412.2 229.4, 412.9 230.5 Q 413.6 231.5, 415.1 231.5 \" fill=\"#000000\"/>\n",
       "<path class=\"note\" d=\"M 487.4 290.3 L 480.0 290.3 L 480.0 288.7 L 489.3 288.7 L 489.3 290.1 L 483.7 302.6 L 481.8 302.6 L 487.4 290.3 \" fill=\"#000000\"/>\n",
       "<path class=\"note\" d=\"M 609.7 277.2 Q 610.9 277.7, 611.7 278.5 Q 612.4 279.4, 612.4 280.7 Q 612.4 281.9, 611.8 282.8 Q 611.2 283.8, 610.1 284.3 Q 609.0 284.8, 607.6 284.8 Q 605.2 284.8, 603.9 283.7 Q 602.5 282.6, 602.5 280.7 Q 602.5 279.6, 603.1 278.7 Q 603.7 277.9, 604.9 277.2 Q 604.0 276.7, 603.5 276.0 Q 603.1 275.2, 603.1 274.0 Q 603.1 272.4, 604.2 271.4 Q 605.4 270.4, 607.5 270.4 Q 609.5 270.4, 610.7 271.4 Q 611.9 272.4, 611.9 274.0 Q 611.9 275.0, 611.3 275.8 Q 610.8 276.6, 609.7 277.2 M 607.5 271.9 Q 606.3 271.9, 605.7 272.5 Q 605.0 273.0, 605.0 274.0 Q 605.0 274.7, 605.5 275.2 Q 605.9 275.7, 606.5 276.0 Q 607.1 276.3, 608.3 276.7 Q 609.2 276.1, 609.5 275.4 Q 609.9 274.8, 609.9 274.0 Q 609.9 273.0, 609.3 272.5 Q 608.6 271.9, 607.5 271.9 M 607.6 283.3 Q 608.9 283.3, 609.6 282.6 Q 610.4 281.9, 610.4 280.7 Q 610.4 280.0, 610.0 279.5 Q 609.6 279.0, 609.0 278.7 Q 608.4 278.5, 607.3 278.1 L 606.4 277.8 Q 605.4 278.4, 604.9 279.1 Q 604.5 279.8, 604.5 280.7 Q 604.5 281.9, 605.3 282.6 Q 606.2 283.3, 607.6 283.3 \" fill=\"#000000\"/>\n",
       "<path class=\"note\" d=\"M 466.4 411.4 Q 468.9 411.4, 470.1 413.1 Q 471.4 414.8, 471.4 418.1 Q 471.4 421.8, 469.8 423.8 Q 468.3 425.7, 465.3 425.7 Q 464.4 425.7, 463.7 425.5 Q 462.9 425.3, 462.2 424.9 L 463.0 423.5 Q 464.0 424.1, 465.3 424.1 Q 467.2 424.1, 468.2 422.8 Q 469.3 421.5, 469.4 418.9 Q 468.7 419.6, 467.8 419.9 Q 466.9 420.3, 465.9 420.3 Q 464.7 420.3, 463.7 419.7 Q 462.7 419.2, 462.2 418.2 Q 461.7 417.3, 461.7 416.0 Q 461.7 414.7, 462.3 413.6 Q 462.9 412.6, 463.9 412.0 Q 465.0 411.4, 466.4 411.4 M 463.7 416.0 Q 463.7 417.3, 464.3 418.0 Q 465.0 418.7, 466.3 418.7 Q 467.1 418.7, 467.9 418.4 Q 468.8 418.0, 469.4 417.4 Q 469.3 415.1, 468.6 414.1 Q 467.8 413.0, 466.4 413.0 Q 465.6 413.0, 465.0 413.4 Q 464.4 413.8, 464.0 414.5 Q 463.7 415.2, 463.7 416.0 \" fill=\"#000000\"/>\n",
       "<path class=\"note\" d=\"M 342.0 453.7 L 345.1 453.7 L 345.1 443.3 L 341.7 444.3 L 341.2 443.2 L 345.5 441.3 L 346.9 441.5 L 346.9 453.7 L 349.6 453.7 L 349.6 455.3 L 342.0 455.3 L 342.0 453.7 \" fill=\"#000000\"/>\n",
       "<path class=\"note\" d=\"M 356.0 455.5 Q 353.4 455.5, 352.1 453.6 Q 350.9 451.7, 350.9 448.3 Q 350.9 444.9, 352.1 443.0 Q 353.4 441.2, 356.0 441.2 Q 358.5 441.2, 359.8 443.0 Q 361.1 444.9, 361.1 448.3 Q 361.1 451.7, 359.8 453.6 Q 358.5 455.5, 356.0 455.5 M 356.0 453.9 Q 357.5 453.9, 358.3 452.5 Q 359.1 451.1, 359.1 448.3 Q 359.1 445.6, 358.3 444.2 Q 357.5 442.8, 356.0 442.8 Q 354.5 442.8, 353.6 444.2 Q 352.8 445.6, 352.8 448.3 Q 352.8 451.1, 353.6 452.5 Q 354.5 453.9, 356.0 453.9 \" fill=\"#000000\"/>\n",
       "</svg>"
      ],
      "text/plain": [
       "<IPython.core.display.SVG object>"
      ]
     },
     "metadata": {},
     "output_type": "display_data"
    }
   ],
   "source": [
    "draw(graphsage,dataset)"
   ]
  },
  {
   "cell_type": "markdown",
   "id": "ec83a07c",
   "metadata": {},
   "source": [
    "## PGM-Explainer "
   ]
  },
  {
   "cell_type": "code",
   "execution_count": 74,
   "id": "00477fb7",
   "metadata": {},
   "outputs": [
    {
     "name": "stdout",
     "output_type": "stream",
     "text": [
      "use CPU\n"
     ]
    }
   ],
   "source": [
    "import utils.pgm_explainer_graph as pe"
   ]
  },
  {
   "cell_type": "code",
   "execution_count": 75,
   "id": "1747df9c",
   "metadata": {},
   "outputs": [],
   "source": [
    "def draw(model,datasets):\n",
    "    model.eval()\n",
    "    smiles, bg, label, masks = dataset[0]\n",
    "    n_feats = bg.ndata['hv']\n",
    "    pred = model.forward(bg, n_feats)\n",
    "    pred_threshold = 0.05\n",
    "    e = pe.Graph_Explainer(model, bg,\n",
    "                           perturb_feature_list=[0],\n",
    "                           perturb_mode=\"max\",\n",
    "                           perturb_indicator=\"diff\")\n",
    "    pgm_nodes, p_values, candidates, num_nodes = e.explain(num_samples=500, percentage=10,\n",
    "                                                           top_node=50, p_threshold=0.05,\n",
    "                                                           pred_threshold=pred_threshold)\n",
    "    atoms = np.arange(num_nodes).tolist()\n",
    "    important_nodes = []\n",
    "    for i in pgm_nodes:\n",
    "        if p_values[i] > 0.05:\n",
    "            important_nodes.append(i)\n",
    "    nodes = []\n",
    "    for n in atoms:\n",
    "        if n in important_nodes:\n",
    "            nodes.append(1)\n",
    "        else:\n",
    "            nodes.append(0)\n",
    "    m = Chem.MolFromSmiles(smiles)\n",
    "    rdDepictor.Compute2DCoords(m)\n",
    "    drawer = rdMolDraw2D.MolDraw2DSVG(650,650)\n",
    "    drawer.SetFontSize(1200)\n",
    "    op = drawer.drawOptions().addAtomIndices=True\n",
    "    mol = rdMolDraw2D.PrepareMolForDrawing(m)\n",
    "    c=nodes\n",
    "    important_index = []\n",
    "    for i, value in enumerate(c):\n",
    "        if value == 1:\n",
    "            important_index.append(i)\n",
    "    colors = [(51,34,136),(17,119,51),(68,170,153),(136,204,238),(221,204,119),(204,102,119),(170,68,153),(206,95,115)]\n",
    "    for i,x in enumerate(colors):\n",
    "        colors[i] = tuple(y/255 for y in x)\n",
    "    atom_cols={}\n",
    "    for bd in important_index:\n",
    "        atom_cols[bd] = colors[i%9]\n",
    "    drawer.DrawMolecule(m,highlightAtoms= important_index,highlightBonds=None,highlightAtomColors=atom_cols,\n",
    "                        highlightAtomRadii={i: .4 for i in important_index}\n",
    "                               )\n",
    "    drawer.drawOptions().useBWAtomPalette()\n",
    "    drawer.drawOptions().padding = .2\n",
    "    drawer.FinishDrawing()\n",
    "    svg = drawer.GetDrawingText()\n",
    "    svg = svg.replace('svg:','')\n",
    "    display(SVG(svg))"
   ]
  },
  {
   "cell_type": "code",
   "execution_count": 21,
   "id": "ffcb08f2",
   "metadata": {},
   "outputs": [
    {
     "name": "stderr",
     "output_type": "stream",
     "text": [
      "D:\\Intepreta\\ChemXGNN\\utils\\pgm_explainer_graph.py:77: UserWarning: To copy construct from a tensor, it is recommended to use sourceTensor.clone().detach() or sourceTensor.clone().detach().requires_grad_(True), rather than torch.tensor(sourceTensor).\n",
      "  dtype=torch.float)\n",
      "D:\\anaconda\\envs\\rdk\\lib\\site-packages\\numpy\\core\\_asarray.py:102: VisibleDeprecationWarning: Creating an ndarray from ragged nested sequences (which is a list-or-tuple of lists-or-tuples-or ndarrays with different lengths or shapes) is deprecated. If you meant to do this, you must specify 'dtype=object' when creating the ndarray.\n",
      "  return array(a, dtype, copy=False, order=order)\n"
     ]
    },
    {
     "data": {
      "image/svg+xml": [
       "<svg baseProfile=\"full\" height=\"650px\" version=\"1.1\" viewBox=\"0 0 650 650\" width=\"650px\" xml:space=\"preserve\" xmlns=\"http://www.w3.org/2000/svg\" xmlns:rdkit=\"http://www.rdkit.org/xml\" xmlns:xlink=\"http://www.w3.org/1999/xlink\">\n",
       "<!-- END OF HEADER -->\n",
       "<rect height=\"650.0\" style=\"opacity:1.0;fill:#FFFFFF;stroke:none\" width=\"650.0\" x=\"0.0\" y=\"0.0\"> </rect>\n",
       "<ellipse cx=\"48.6\" cy=\"320.4\" rx=\"19.1\" ry=\"19.1\" style=\"fill:#CE5F73;fill-rule:evenodd;stroke:#CE5F73;stroke-width:1.0px;stroke-linecap:butt;stroke-linejoin:miter;stroke-opacity:1\"/>\n",
       "<ellipse cx=\"118.9\" cy=\"307.8\" rx=\"19.1\" ry=\"19.1\" style=\"fill:#CE5F73;fill-rule:evenodd;stroke:#CE5F73;stroke-width:1.0px;stroke-linecap:butt;stroke-linejoin:miter;stroke-opacity:1\"/>\n",
       "<ellipse cx=\"165.0\" cy=\"362.5\" rx=\"19.1\" ry=\"19.1\" style=\"fill:#CE5F73;fill-rule:evenodd;stroke:#CE5F73;stroke-width:1.0px;stroke-linecap:butt;stroke-linejoin:miter;stroke-opacity:1\"/>\n",
       "<ellipse cx=\"235.3\" cy=\"349.8\" rx=\"19.1\" ry=\"19.1\" style=\"fill:#CE5F73;fill-rule:evenodd;stroke:#CE5F73;stroke-width:1.0px;stroke-linecap:butt;stroke-linejoin:miter;stroke-opacity:1\"/>\n",
       "<ellipse cx=\"259.6\" cy=\"282.6\" rx=\"19.1\" ry=\"19.1\" style=\"fill:#CE5F73;fill-rule:evenodd;stroke:#CE5F73;stroke-width:1.0px;stroke-linecap:butt;stroke-linejoin:miter;stroke-opacity:1\"/>\n",
       "<ellipse cx=\"329.9\" cy=\"270.0\" rx=\"19.1\" ry=\"19.1\" style=\"fill:#CE5F73;fill-rule:evenodd;stroke:#CE5F73;stroke-width:1.0px;stroke-linecap:butt;stroke-linejoin:miter;stroke-opacity:1\"/>\n",
       "<ellipse cx=\"375.9\" cy=\"324.6\" rx=\"19.1\" ry=\"19.1\" style=\"fill:#CE5F73;fill-rule:evenodd;stroke:#CE5F73;stroke-width:1.0px;stroke-linecap:butt;stroke-linejoin:miter;stroke-opacity:1\"/>\n",
       "<ellipse cx=\"446.3\" cy=\"312.0\" rx=\"19.1\" ry=\"19.1\" style=\"fill:#CE5F73;fill-rule:evenodd;stroke:#CE5F73;stroke-width:1.0px;stroke-linecap:butt;stroke-linejoin:miter;stroke-opacity:1\"/>\n",
       "<ellipse cx=\"540.8\" cy=\"232.2\" rx=\"19.1\" ry=\"19.1\" style=\"fill:#CE5F73;fill-rule:evenodd;stroke:#CE5F73;stroke-width:1.0px;stroke-linecap:butt;stroke-linejoin:miter;stroke-opacity:1\"/>\n",
       "<ellipse cx=\"565.1\" cy=\"165.1\" rx=\"19.1\" ry=\"19.1\" style=\"fill:#CE5F73;fill-rule:evenodd;stroke:#CE5F73;stroke-width:1.0px;stroke-linecap:butt;stroke-linejoin:miter;stroke-opacity:1\"/>\n",
       "<ellipse cx=\"596.0\" cy=\"286.8\" rx=\"23.8\" ry=\"19.1\" style=\"fill:#CE5F73;fill-rule:evenodd;stroke:#CE5F73;stroke-width:1.0px;stroke-linecap:butt;stroke-linejoin:miter;stroke-opacity:1\"/>\n",
       "<ellipse cx=\"562.7\" cy=\"354.0\" rx=\"19.1\" ry=\"19.1\" style=\"fill:#CE5F73;fill-rule:evenodd;stroke:#CE5F73;stroke-width:1.0px;stroke-linecap:butt;stroke-linejoin:miter;stroke-opacity:1\"/>\n",
       "<ellipse cx=\"492.3\" cy=\"366.6\" rx=\"19.1\" ry=\"19.1\" style=\"fill:#CE5F73;fill-rule:evenodd;stroke:#CE5F73;stroke-width:1.0px;stroke-linecap:butt;stroke-linejoin:miter;stroke-opacity:1\"/>\n",
       "<ellipse cx=\"514.2\" cy=\"488.4\" rx=\"19.1\" ry=\"19.1\" style=\"fill:#CE5F73;fill-rule:evenodd;stroke:#CE5F73;stroke-width:1.0px;stroke-linecap:butt;stroke-linejoin:miter;stroke-opacity:1\"/>\n",
       "<ellipse cx=\"584.5\" cy=\"475.8\" rx=\"19.1\" ry=\"19.1\" style=\"fill:#CE5F73;fill-rule:evenodd;stroke:#CE5F73;stroke-width:1.0px;stroke-linecap:butt;stroke-linejoin:miter;stroke-opacity:1\"/>\n",
       "<ellipse cx=\"351.7\" cy=\"391.8\" rx=\"19.1\" ry=\"19.1\" style=\"fill:#CE5F73;fill-rule:evenodd;stroke:#CE5F73;stroke-width:1.0px;stroke-linecap:butt;stroke-linejoin:miter;stroke-opacity:1\"/>\n",
       "<ellipse cx=\"281.4\" cy=\"404.4\" rx=\"19.1\" ry=\"19.1\" style=\"fill:#CE5F73;fill-rule:evenodd;stroke:#CE5F73;stroke-width:1.0px;stroke-linecap:butt;stroke-linejoin:miter;stroke-opacity:1\"/>\n",
       "<ellipse cx=\"259.7\" cy=\"471.7\" rx=\"19.1\" ry=\"19.1\" style=\"fill:#CE5F73;fill-rule:evenodd;stroke:#CE5F73;stroke-width:1.0px;stroke-linecap:butt;stroke-linejoin:miter;stroke-opacity:1\"/>\n",
       "<path class=\"bond-0 atom-0 atom-1\" d=\"M 48.6,320.4 L 118.9,307.8\" style=\"fill:none;fill-rule:evenodd;stroke:#000000;stroke-width:2.0px;stroke-linecap:butt;stroke-linejoin:miter;stroke-opacity:1\"/>\n",
       "<path class=\"bond-1 atom-1 atom-2\" d=\"M 118.9,307.8 L 136.9,329.1\" style=\"fill:none;fill-rule:evenodd;stroke:#000000;stroke-width:2.0px;stroke-linecap:butt;stroke-linejoin:miter;stroke-opacity:1\"/>\n",
       "<path class=\"bond-1 atom-1 atom-2\" d=\"M 136.9,329.1 L 154.8,350.4\" style=\"fill:none;fill-rule:evenodd;stroke:#FF0000;stroke-width:2.0px;stroke-linecap:butt;stroke-linejoin:miter;stroke-opacity:1\"/>\n",
       "<path class=\"bond-2 atom-2 atom-3\" d=\"M 176.1,360.4 L 205.7,355.1\" style=\"fill:none;fill-rule:evenodd;stroke:#FF0000;stroke-width:2.0px;stroke-linecap:butt;stroke-linejoin:miter;stroke-opacity:1\"/>\n",
       "<path class=\"bond-2 atom-2 atom-3\" d=\"M 205.7,355.1 L 235.3,349.8\" style=\"fill:none;fill-rule:evenodd;stroke:#000000;stroke-width:2.0px;stroke-linecap:butt;stroke-linejoin:miter;stroke-opacity:1\"/>\n",
       "<path class=\"bond-3 atom-3 atom-4\" d=\"M 235.3,349.8 L 259.6,282.6\" style=\"fill:none;fill-rule:evenodd;stroke:#000000;stroke-width:2.0px;stroke-linecap:butt;stroke-linejoin:miter;stroke-opacity:1\"/>\n",
       "<path class=\"bond-3 atom-3 atom-4\" d=\"M 252.4,344.6 L 269.4,297.5\" style=\"fill:none;fill-rule:evenodd;stroke:#000000;stroke-width:2.0px;stroke-linecap:butt;stroke-linejoin:miter;stroke-opacity:1\"/>\n",
       "<path class=\"bond-21 atom-20 atom-3\" d=\"M 281.4,404.4 L 235.3,349.8\" style=\"fill:none;fill-rule:evenodd;stroke:#000000;stroke-width:2.0px;stroke-linecap:butt;stroke-linejoin:miter;stroke-opacity:1\"/>\n",
       "<path class=\"bond-4 atom-4 atom-5\" d=\"M 259.6,282.6 L 329.9,270.0\" style=\"fill:none;fill-rule:evenodd;stroke:#000000;stroke-width:2.0px;stroke-linecap:butt;stroke-linejoin:miter;stroke-opacity:1\"/>\n",
       "<path class=\"bond-5 atom-5 atom-6\" d=\"M 329.9,270.0 L 375.9,324.6\" style=\"fill:none;fill-rule:evenodd;stroke:#000000;stroke-width:2.0px;stroke-linecap:butt;stroke-linejoin:miter;stroke-opacity:1\"/>\n",
       "<path class=\"bond-5 atom-5 atom-6\" d=\"M 325.9,287.4 L 358.1,325.6\" style=\"fill:none;fill-rule:evenodd;stroke:#000000;stroke-width:2.0px;stroke-linecap:butt;stroke-linejoin:miter;stroke-opacity:1\"/>\n",
       "<path class=\"bond-6 atom-6 atom-7\" d=\"M 375.9,324.6 L 446.3,312.0\" style=\"fill:none;fill-rule:evenodd;stroke:#000000;stroke-width:2.0px;stroke-linecap:butt;stroke-linejoin:miter;stroke-opacity:1\"/>\n",
       "<path class=\"bond-18 atom-6 atom-19\" d=\"M 375.9,324.6 L 351.7,391.8\" style=\"fill:none;fill-rule:evenodd;stroke:#000000;stroke-width:2.0px;stroke-linecap:butt;stroke-linejoin:miter;stroke-opacity:1\"/>\n",
       "<path class=\"bond-7 atom-7 atom-8\" d=\"M 446.3,312.0 L 470.5,244.8\" style=\"fill:none;fill-rule:evenodd;stroke:#000000;stroke-width:2.0px;stroke-linecap:butt;stroke-linejoin:miter;stroke-opacity:1\"/>\n",
       "<path class=\"bond-22 atom-13 atom-7\" d=\"M 492.3,366.6 L 446.3,312.0\" style=\"fill:none;fill-rule:evenodd;stroke:#000000;stroke-width:2.0px;stroke-linecap:butt;stroke-linejoin:miter;stroke-opacity:1\"/>\n",
       "<path class=\"bond-8 atom-8 atom-9\" d=\"M 470.5,244.8 L 540.8,232.2\" style=\"fill:none;fill-rule:evenodd;stroke:#000000;stroke-width:2.0px;stroke-linecap:butt;stroke-linejoin:miter;stroke-opacity:1\"/>\n",
       "<path class=\"bond-9 atom-9 atom-10\" d=\"M 547.6,234.6 L 557.5,207.2\" style=\"fill:none;fill-rule:evenodd;stroke:#000000;stroke-width:2.0px;stroke-linecap:butt;stroke-linejoin:miter;stroke-opacity:1\"/>\n",
       "<path class=\"bond-9 atom-9 atom-10\" d=\"M 557.5,207.2 L 567.3,179.7\" style=\"fill:none;fill-rule:evenodd;stroke:#FF0000;stroke-width:2.0px;stroke-linecap:butt;stroke-linejoin:miter;stroke-opacity:1\"/>\n",
       "<path class=\"bond-9 atom-9 atom-10\" d=\"M 534.1,229.8 L 544.0,202.3\" style=\"fill:none;fill-rule:evenodd;stroke:#000000;stroke-width:2.0px;stroke-linecap:butt;stroke-linejoin:miter;stroke-opacity:1\"/>\n",
       "<path class=\"bond-9 atom-9 atom-10\" d=\"M 544.0,202.3 L 553.9,174.9\" style=\"fill:none;fill-rule:evenodd;stroke:#FF0000;stroke-width:2.0px;stroke-linecap:butt;stroke-linejoin:miter;stroke-opacity:1\"/>\n",
       "<path class=\"bond-10 atom-9 atom-11\" d=\"M 540.8,232.2 L 559.1,253.9\" style=\"fill:none;fill-rule:evenodd;stroke:#000000;stroke-width:2.0px;stroke-linecap:butt;stroke-linejoin:miter;stroke-opacity:1\"/>\n",
       "<path class=\"bond-10 atom-9 atom-11\" d=\"M 559.1,253.9 L 577.4,275.6\" style=\"fill:none;fill-rule:evenodd;stroke:#0000FF;stroke-width:2.0px;stroke-linecap:butt;stroke-linejoin:miter;stroke-opacity:1\"/>\n",
       "<path class=\"bond-11 atom-11 atom-12\" d=\"M 582.6,298.7 L 572.6,326.3\" style=\"fill:none;fill-rule:evenodd;stroke:#0000FF;stroke-width:2.0px;stroke-linecap:butt;stroke-linejoin:miter;stroke-opacity:1\"/>\n",
       "<path class=\"bond-11 atom-11 atom-12\" d=\"M 572.6,326.3 L 562.7,354.0\" style=\"fill:none;fill-rule:evenodd;stroke:#000000;stroke-width:2.0px;stroke-linecap:butt;stroke-linejoin:miter;stroke-opacity:1\"/>\n",
       "<path class=\"bond-12 atom-12 atom-13\" d=\"M 562.7,354.0 L 492.3,366.6\" style=\"fill:none;fill-rule:evenodd;stroke:#000000;stroke-width:2.0px;stroke-linecap:butt;stroke-linejoin:miter;stroke-opacity:1\"/>\n",
       "<path class=\"bond-12 atom-12 atom-13\" d=\"M 549.6,341.8 L 500.4,350.6\" style=\"fill:none;fill-rule:evenodd;stroke:#000000;stroke-width:2.0px;stroke-linecap:butt;stroke-linejoin:miter;stroke-opacity:1\"/>\n",
       "<path class=\"bond-23 atom-18 atom-12\" d=\"M 608.7,408.6 L 562.7,354.0\" style=\"fill:none;fill-rule:evenodd;stroke:#000000;stroke-width:2.0px;stroke-linecap:butt;stroke-linejoin:miter;stroke-opacity:1\"/>\n",
       "<path class=\"bond-13 atom-13 atom-14\" d=\"M 492.3,366.6 L 468.1,433.8\" style=\"fill:none;fill-rule:evenodd;stroke:#000000;stroke-width:2.0px;stroke-linecap:butt;stroke-linejoin:miter;stroke-opacity:1\"/>\n",
       "<path class=\"bond-14 atom-14 atom-15\" d=\"M 466.8,426.7 L 437.2,432.1\" style=\"fill:none;fill-rule:evenodd;stroke:#000000;stroke-width:2.0px;stroke-linecap:butt;stroke-linejoin:miter;stroke-opacity:1\"/>\n",
       "<path class=\"bond-14 atom-14 atom-15\" d=\"M 437.2,432.1 L 407.6,437.4\" style=\"fill:none;fill-rule:evenodd;stroke:#FF0000;stroke-width:2.0px;stroke-linecap:butt;stroke-linejoin:miter;stroke-opacity:1\"/>\n",
       "<path class=\"bond-14 atom-14 atom-15\" d=\"M 469.4,440.8 L 439.7,446.1\" style=\"fill:none;fill-rule:evenodd;stroke:#000000;stroke-width:2.0px;stroke-linecap:butt;stroke-linejoin:miter;stroke-opacity:1\"/>\n",
       "<path class=\"bond-14 atom-14 atom-15\" d=\"M 439.7,446.1 L 410.1,451.4\" style=\"fill:none;fill-rule:evenodd;stroke:#FF0000;stroke-width:2.0px;stroke-linecap:butt;stroke-linejoin:miter;stroke-opacity:1\"/>\n",
       "<path class=\"bond-15 atom-14 atom-16\" d=\"M 468.1,433.8 L 514.2,488.4\" style=\"fill:none;fill-rule:evenodd;stroke:#000000;stroke-width:2.0px;stroke-linecap:butt;stroke-linejoin:miter;stroke-opacity:1\"/>\n",
       "<path class=\"bond-16 atom-16 atom-17\" d=\"M 514.2,488.4 L 584.5,475.8\" style=\"fill:none;fill-rule:evenodd;stroke:#000000;stroke-width:2.0px;stroke-linecap:butt;stroke-linejoin:miter;stroke-opacity:1\"/>\n",
       "<path class=\"bond-17 atom-17 atom-18\" d=\"M 584.5,475.8 L 608.7,408.6\" style=\"fill:none;fill-rule:evenodd;stroke:#000000;stroke-width:2.0px;stroke-linecap:butt;stroke-linejoin:miter;stroke-opacity:1\"/>\n",
       "<path class=\"bond-19 atom-19 atom-20\" d=\"M 351.7,391.8 L 281.4,404.4\" style=\"fill:none;fill-rule:evenodd;stroke:#000000;stroke-width:2.0px;stroke-linecap:butt;stroke-linejoin:miter;stroke-opacity:1\"/>\n",
       "<path class=\"bond-19 atom-19 atom-20\" d=\"M 338.6,379.6 L 289.4,388.4\" style=\"fill:none;fill-rule:evenodd;stroke:#000000;stroke-width:2.0px;stroke-linecap:butt;stroke-linejoin:miter;stroke-opacity:1\"/>\n",
       "<path class=\"bond-20 atom-20 atom-21\" d=\"M 281.4,404.4 L 271.3,432.3\" style=\"fill:none;fill-rule:evenodd;stroke:#000000;stroke-width:2.0px;stroke-linecap:butt;stroke-linejoin:miter;stroke-opacity:1\"/>\n",
       "<path class=\"bond-20 atom-20 atom-21\" d=\"M 271.3,432.3 L 261.3,460.2\" style=\"fill:none;fill-rule:evenodd;stroke:#00CC00;stroke-width:2.0px;stroke-linecap:butt;stroke-linejoin:miter;stroke-opacity:1\"/>\n",
       "<path class=\"atom-2\" d=\"M 155.7 362.4 Q 155.7 357.6, 158.1 354.9 Q 160.5 352.2, 165.0 352.2 Q 169.5 352.2, 171.9 354.9 Q 174.3 357.6, 174.3 362.4 Q 174.3 367.4, 171.8 370.2 Q 169.4 372.9, 165.0 372.9 Q 160.5 372.9, 158.1 370.2 Q 155.7 367.4, 155.7 362.4 M 165.0 370.6 Q 168.1 370.6, 169.7 368.6 Q 171.4 366.5, 171.4 362.4 Q 171.4 358.5, 169.7 356.5 Q 168.1 354.4, 165.0 354.4 Q 161.9 354.4, 160.2 356.4 Q 158.6 358.4, 158.6 362.4 Q 158.6 366.5, 160.2 368.6 Q 161.9 370.6, 165.0 370.6 \" fill=\"#FF0000\"/>\n",
       "<path class=\"atom-10\" d=\"M 555.8 165.0 Q 555.8 160.2, 558.2 157.5 Q 560.6 154.7, 565.1 154.7 Q 569.6 154.7, 572.0 157.5 Q 574.4 160.2, 574.4 165.0 Q 574.4 169.9, 571.9 172.7 Q 569.5 175.5, 565.1 175.5 Q 560.6 175.5, 558.2 172.7 Q 555.8 170.0, 555.8 165.0 M 565.1 173.2 Q 568.2 173.2, 569.8 171.2 Q 571.5 169.1, 571.5 165.0 Q 571.5 161.1, 569.8 159.1 Q 568.2 157.0, 565.1 157.0 Q 562.0 157.0, 560.3 159.0 Q 558.6 161.0, 558.6 165.0 Q 558.6 169.1, 560.3 171.2 Q 562.0 173.2, 565.1 173.2 \" fill=\"#FF0000\"/>\n",
       "<path class=\"atom-11\" d=\"M 582.4 276.7 L 589.1 287.4 Q 589.7 288.4, 590.8 290.3 Q 591.8 292.3, 591.9 292.4 L 591.9 276.7 L 594.6 276.7 L 594.6 296.9 L 591.8 296.9 L 584.7 285.2 Q 583.9 283.8, 583.0 282.2 Q 582.1 280.7, 581.9 280.2 L 581.9 296.9 L 579.2 296.9 L 579.2 276.7 L 582.4 276.7 \" fill=\"#0000FF\"/>\n",
       "<path class=\"atom-11\" d=\"M 597.0 276.7 L 599.8 276.7 L 599.8 285.3 L 610.1 285.3 L 610.1 276.7 L 612.8 276.7 L 612.8 296.9 L 610.1 296.9 L 610.1 287.5 L 599.8 287.5 L 599.8 296.9 L 597.0 296.9 L 597.0 276.7 \" fill=\"#0000FF\"/>\n",
       "<path class=\"atom-15\" d=\"M 388.5 446.4 Q 388.5 441.6, 390.9 438.9 Q 393.3 436.1, 397.8 436.1 Q 402.3 436.1, 404.7 438.9 Q 407.1 441.6, 407.1 446.4 Q 407.1 451.4, 404.6 454.2 Q 402.2 456.9, 397.8 456.9 Q 393.3 456.9, 390.9 454.2 Q 388.5 451.4, 388.5 446.4 M 397.8 454.6 Q 400.9 454.6, 402.5 452.6 Q 404.2 450.5, 404.2 446.4 Q 404.2 442.5, 402.5 440.5 Q 400.9 438.4, 397.8 438.4 Q 394.7 438.4, 393.0 440.4 Q 391.3 442.4, 391.3 446.4 Q 391.3 450.5, 393.0 452.6 Q 394.7 454.6, 397.8 454.6 \" fill=\"#FF0000\"/>\n",
       "<path class=\"atom-21\" d=\"M 249.3 472.3 Q 249.3 467.3, 251.7 464.6 Q 254.1 462.0, 258.5 462.0 Q 262.7 462.0, 264.9 464.9 L 263.1 466.5 Q 261.4 464.3, 258.5 464.3 Q 255.5 464.3, 253.9 466.4 Q 252.3 468.4, 252.3 472.3 Q 252.3 476.3, 253.9 478.3 Q 255.6 480.4, 258.9 480.4 Q 261.1 480.4, 263.7 479.1 L 264.5 481.2 Q 263.4 481.9, 261.8 482.3 Q 260.2 482.7, 258.5 482.7 Q 254.1 482.7, 251.7 480.0 Q 249.3 477.3, 249.3 472.3 \" fill=\"#00CC00\"/>\n",
       "<path class=\"atom-21\" d=\"M 267.4 460.7 L 270.0 460.7 L 270.0 482.4 L 267.4 482.4 L 267.4 460.7 \" fill=\"#00CC00\"/>\n",
       "<path class=\"note\" d=\"M 50.7 337.3 Q 48.8 337.3, 47.9 336.0 Q 47.0 334.6, 47.0 332.2 Q 47.0 329.7, 47.9 328.4 Q 48.8 327.0, 50.7 327.0 Q 52.6 327.0, 53.5 328.4 Q 54.4 329.7, 54.4 332.2 Q 54.4 334.6, 53.5 336.0 Q 52.6 337.3, 50.7 337.3 M 50.7 336.2 Q 51.8 336.2, 52.4 335.2 Q 53.0 334.2, 53.0 332.2 Q 53.0 330.2, 52.4 329.2 Q 51.8 328.1, 50.7 328.1 Q 49.6 328.1, 49.0 329.2 Q 48.4 330.2, 48.4 332.2 Q 48.4 334.2, 49.0 335.2 Q 49.6 336.2, 50.7 336.2 \" fill=\"#000000\"/>\n",
       "<path class=\"note\" d=\"M 120.5 300.5 L 122.7 300.5 L 122.7 293.0 L 120.2 293.7 L 119.9 292.9 L 123.0 291.5 L 124.0 291.7 L 124.0 300.5 L 126.0 300.5 L 126.0 301.7 L 120.5 301.7 L 120.5 300.5 \" fill=\"#000000\"/>\n",
       "<path class=\"note\" d=\"M 153.5 381.7 Q 153.9 380.7, 154.8 380.2 Q 155.7 379.7, 156.9 379.7 Q 158.4 379.7, 159.3 380.5 Q 160.1 381.3, 160.1 382.8 Q 160.1 384.3, 159.0 385.7 Q 157.9 387.1, 155.6 388.8 L 160.3 388.8 L 160.3 389.9 L 153.5 389.9 L 153.5 388.9 Q 155.4 387.6, 156.5 386.6 Q 157.6 385.6, 158.2 384.7 Q 158.7 383.8, 158.7 382.9 Q 158.7 381.9, 158.2 381.4 Q 157.7 380.8, 156.9 380.8 Q 156.1 380.8, 155.5 381.1 Q 155.0 381.5, 154.6 382.2 L 153.5 381.7 \" fill=\"#000000\"/>\n",
       "<path class=\"note\" d=\"M 229.1 340.5 Q 230.1 340.8, 230.5 341.4 Q 231.0 342.0, 231.0 343.0 Q 231.0 343.9, 230.6 344.6 Q 230.2 345.2, 229.4 345.6 Q 228.6 345.9, 227.6 345.9 Q 226.5 345.9, 225.7 345.6 Q 224.9 345.2, 224.2 344.4 L 225.0 343.6 Q 225.7 344.3, 226.2 344.5 Q 226.7 344.8, 227.6 344.8 Q 228.5 344.8, 229.0 344.3 Q 229.6 343.8, 229.6 343.0 Q 229.6 342.0, 229.0 341.5 Q 228.4 341.1, 227.2 341.1 L 226.5 341.1 L 226.5 340.0 L 227.1 340.0 Q 228.2 340.0, 228.8 339.5 Q 229.4 339.1, 229.4 338.2 Q 229.4 337.5, 228.9 337.1 Q 228.4 336.7, 227.6 336.7 Q 226.7 336.7, 226.2 337.0 Q 225.7 337.3, 225.3 338.1 L 224.3 337.5 Q 224.7 336.7, 225.5 336.1 Q 226.4 335.6, 227.6 335.6 Q 229.1 335.6, 229.9 336.3 Q 230.8 337.0, 230.8 338.2 Q 230.8 339.0, 230.4 339.6 Q 229.9 340.1, 229.1 340.5 \" fill=\"#000000\"/>\n",
       "<path class=\"note\" d=\"M 254.6 275.1 L 255.8 275.1 L 255.8 276.2 L 254.6 276.2 L 254.6 278.5 L 253.2 278.5 L 253.2 276.2 L 248.0 276.2 L 248.0 275.3 L 252.4 268.4 L 254.6 268.4 L 254.6 275.1 M 249.6 275.1 L 253.2 275.1 L 253.2 269.3 L 249.6 275.1 \" fill=\"#000000\"/>\n",
       "<path class=\"note\" d=\"M 334.2 257.5 Q 335.1 257.5, 335.8 257.9 Q 336.5 258.3, 336.9 259.0 Q 337.3 259.7, 337.3 260.6 Q 337.3 261.7, 336.8 262.4 Q 336.3 263.2, 335.5 263.6 Q 334.7 264.0, 333.7 264.0 Q 332.8 264.0, 331.9 263.6 Q 331.1 263.3, 330.5 262.6 L 331.4 261.7 Q 331.8 262.2, 332.5 262.5 Q 333.1 262.8, 333.8 262.8 Q 334.7 262.8, 335.3 262.2 Q 335.9 261.7, 335.9 260.7 Q 335.9 259.6, 335.3 259.1 Q 334.7 258.6, 333.7 258.6 Q 332.8 258.6, 331.8 259.0 L 331.0 258.6 L 331.5 253.7 L 336.7 253.7 L 336.6 254.9 L 332.7 254.9 L 332.4 257.9 Q 333.3 257.5, 334.2 257.5 \" fill=\"#000000\"/>\n",
       "<path class=\"note\" d=\"M 380.4 312.2 Q 381.3 312.2, 382.0 312.6 Q 382.7 313.0, 383.1 313.7 Q 383.5 314.4, 383.5 315.2 Q 383.5 316.2, 383.1 317.0 Q 382.6 317.8, 381.9 318.2 Q 381.1 318.6, 380.1 318.6 Q 378.3 318.6, 377.4 317.4 Q 376.5 316.2, 376.5 313.7 Q 376.5 311.1, 377.6 309.7 Q 378.7 308.3, 380.9 308.3 Q 381.5 308.3, 382.0 308.4 Q 382.6 308.6, 383.1 308.9 L 382.5 309.8 Q 381.8 309.4, 380.9 309.4 Q 379.5 309.4, 378.7 310.3 Q 378.0 311.3, 377.9 313.2 Q 378.4 312.7, 379.1 312.4 Q 379.7 312.2, 380.4 312.2 M 380.1 317.4 Q 380.7 317.4, 381.1 317.2 Q 381.6 316.9, 381.8 316.4 Q 382.1 315.9, 382.1 315.3 Q 382.1 314.4, 381.6 313.8 Q 381.1 313.3, 380.2 313.3 Q 379.6 313.3, 379.0 313.6 Q 378.4 313.8, 377.9 314.3 Q 378.0 315.9, 378.5 316.7 Q 379.0 317.4, 380.1 317.4 \" fill=\"#000000\"/>\n",
       "<path class=\"note\" d=\"M 440.5 299.0 L 435.2 299.0 L 435.2 297.8 L 441.9 297.8 L 441.9 298.8 L 437.9 307.9 L 436.5 307.9 L 440.5 299.0 \" fill=\"#000000\"/>\n",
       "<path class=\"note\" d=\"M 464.4 235.4 Q 465.3 235.8, 465.9 236.4 Q 466.4 237.0, 466.4 238.0 Q 466.4 238.9, 466.0 239.6 Q 465.5 240.2, 464.7 240.6 Q 463.9 240.9, 462.9 240.9 Q 461.2 240.9, 460.2 240.2 Q 459.3 239.4, 459.3 238.0 Q 459.3 237.2, 459.7 236.6 Q 460.1 236.0, 461.0 235.5 Q 460.3 235.1, 460.0 234.6 Q 459.6 234.0, 459.6 233.2 Q 459.6 232.0, 460.5 231.3 Q 461.4 230.6, 462.8 230.6 Q 464.3 230.6, 465.2 231.3 Q 466.0 232.0, 466.0 233.2 Q 466.0 233.9, 465.6 234.5 Q 465.2 235.0, 464.4 235.4 M 462.8 231.6 Q 462.0 231.6, 461.5 232.0 Q 461.1 232.4, 461.1 233.2 Q 461.1 233.7, 461.4 234.0 Q 461.7 234.4, 462.1 234.6 Q 462.6 234.8, 463.5 235.1 Q 464.1 234.7, 464.3 234.2 Q 464.6 233.7, 464.6 233.2 Q 464.6 232.4, 464.1 232.0 Q 463.7 231.6, 462.8 231.6 M 462.9 239.9 Q 463.8 239.9, 464.4 239.4 Q 465.0 238.9, 465.0 238.0 Q 465.0 237.5, 464.7 237.1 Q 464.4 236.8, 463.9 236.6 Q 463.5 236.4, 462.7 236.1 L 462.0 235.9 Q 461.3 236.3, 461.0 236.9 Q 460.7 237.4, 460.7 238.0 Q 460.7 238.9, 461.3 239.4 Q 461.9 239.9, 462.9 239.9 \" fill=\"#000000\"/>\n",
       "<path class=\"note\" d=\"M 533.0 218.0 Q 534.8 218.0, 535.7 219.2 Q 536.7 220.4, 536.7 222.8 Q 536.7 225.5, 535.5 226.9 Q 534.4 228.3, 532.3 228.3 Q 531.6 228.3, 531.1 228.2 Q 530.6 228.0, 530.0 227.7 L 530.6 226.8 Q 531.3 227.2, 532.2 227.2 Q 533.7 227.2, 534.4 226.2 Q 535.1 225.3, 535.2 223.4 Q 534.7 223.9, 534.0 224.1 Q 533.4 224.4, 532.7 224.4 Q 531.8 224.4, 531.1 224.0 Q 530.4 223.6, 530.0 222.9 Q 529.6 222.2, 529.6 221.3 Q 529.6 220.3, 530.1 219.6 Q 530.5 218.8, 531.3 218.4 Q 532.1 218.0, 533.0 218.0 M 531.1 221.3 Q 531.1 222.2, 531.6 222.7 Q 532.1 223.2, 533.0 223.2 Q 533.6 223.2, 534.2 223.0 Q 534.8 222.7, 535.2 222.3 Q 535.2 220.6, 534.6 219.9 Q 534.1 219.1, 533.0 219.1 Q 532.5 219.1, 532.0 219.4 Q 531.6 219.7, 531.3 220.2 Q 531.1 220.7, 531.1 221.3 \" fill=\"#000000\"/>\n",
       "<path class=\"note\" d=\"M 563.5 146.5 L 565.7 146.5 L 565.7 139.0 L 563.3 139.7 L 562.9 138.9 L 566.0 137.5 L 567.0 137.7 L 567.0 146.5 L 569.0 146.5 L 569.0 147.7 L 563.5 147.7 L 563.5 146.5 \" fill=\"#000000\"/>\n",
       "<path class=\"note\" d=\"M 573.6 147.8 Q 571.7 147.8, 570.8 146.4 Q 569.9 145.1, 569.9 142.6 Q 569.9 140.2, 570.8 138.8 Q 571.7 137.5, 573.6 137.5 Q 575.5 137.5, 576.4 138.8 Q 577.3 140.2, 577.3 142.6 Q 577.3 145.1, 576.4 146.4 Q 575.5 147.8, 573.6 147.8 M 573.6 146.7 Q 574.7 146.7, 575.3 145.6 Q 575.9 144.6, 575.9 142.6 Q 575.9 140.6, 575.3 139.6 Q 574.7 138.6, 573.6 138.6 Q 572.5 138.6, 571.9 139.6 Q 571.3 140.6, 571.3 142.6 Q 571.3 144.6, 571.9 145.6 Q 572.5 146.7, 573.6 146.7 \" fill=\"#000000\"/>\n",
       "<path class=\"note\" d=\"M 554.5 294.9 L 556.7 294.9 L 556.7 287.4 L 554.3 288.1 L 553.9 287.3 L 557.0 285.9 L 558.0 286.1 L 558.0 294.9 L 560.0 294.9 L 560.0 296.1 L 554.5 296.1 L 554.5 294.9 \" fill=\"#000000\"/>\n",
       "<path class=\"note\" d=\"M 561.4 294.9 L 563.6 294.9 L 563.6 287.4 L 561.1 288.1 L 560.8 287.3 L 563.9 285.9 L 564.9 286.1 L 564.9 294.9 L 566.9 294.9 L 566.9 296.1 L 561.4 296.1 L 561.4 294.9 \" fill=\"#000000\"/>\n",
       "<path class=\"note\" d=\"M 545.7 348.8 L 547.9 348.8 L 547.9 341.3 L 545.4 342.0 L 545.1 341.2 L 548.2 339.8 L 549.2 340.0 L 549.2 348.8 L 551.2 348.8 L 551.2 350.0 L 545.7 350.0 L 545.7 348.8 \" fill=\"#000000\"/>\n",
       "<path class=\"note\" d=\"M 552.0 341.8 Q 552.3 340.8, 553.2 340.3 Q 554.1 339.8, 555.3 339.8 Q 556.9 339.8, 557.7 340.6 Q 558.6 341.4, 558.6 342.9 Q 558.6 344.4, 557.5 345.8 Q 556.4 347.2, 554.1 348.8 L 558.7 348.8 L 558.7 350.0 L 551.9 350.0 L 551.9 349.0 Q 553.8 347.7, 554.9 346.7 Q 556.1 345.7, 556.6 344.8 Q 557.1 343.9, 557.1 343.0 Q 557.1 342.0, 556.7 341.4 Q 556.2 340.9, 555.3 340.9 Q 554.5 340.9, 554.0 341.2 Q 553.4 341.6, 553.0 342.3 L 552.0 341.8 \" fill=\"#000000\"/>\n",
       "<path class=\"note\" d=\"M 490.8 379.6 L 493.0 379.6 L 493.0 372.1 L 490.5 372.8 L 490.2 372.0 L 493.3 370.6 L 494.3 370.8 L 494.3 379.6 L 496.3 379.6 L 496.3 380.8 L 490.8 380.8 L 490.8 379.6 \" fill=\"#000000\"/>\n",
       "<path class=\"note\" d=\"M 501.8 375.5 Q 502.8 375.7, 503.2 376.4 Q 503.7 377.0, 503.7 378.0 Q 503.7 378.9, 503.3 379.5 Q 502.9 380.2, 502.1 380.6 Q 501.3 380.9, 500.3 380.9 Q 499.2 380.9, 498.4 380.6 Q 497.6 380.2, 496.9 379.4 L 497.7 378.6 Q 498.4 379.3, 498.9 379.5 Q 499.4 379.8, 500.3 379.8 Q 501.2 379.8, 501.7 379.3 Q 502.3 378.8, 502.3 378.0 Q 502.3 377.0, 501.7 376.5 Q 501.1 376.0, 499.9 376.0 L 499.2 376.0 L 499.2 375.0 L 499.8 375.0 Q 500.9 375.0, 501.5 374.5 Q 502.1 374.0, 502.1 373.1 Q 502.1 372.5, 501.6 372.1 Q 501.1 371.7, 500.3 371.7 Q 499.4 371.7, 498.9 372.0 Q 498.4 372.3, 498.0 373.1 L 497.0 372.5 Q 497.4 371.7, 498.2 371.1 Q 499.1 370.6, 500.3 370.6 Q 501.8 370.6, 502.6 371.3 Q 503.5 372.0, 503.5 373.1 Q 503.5 374.0, 503.1 374.5 Q 502.6 375.1, 501.8 375.5 \" fill=\"#000000\"/>\n",
       "<path class=\"note\" d=\"M 450.8 428.6 L 453.0 428.6 L 453.0 421.1 L 450.5 421.8 L 450.2 421.0 L 453.3 419.6 L 454.3 419.8 L 454.3 428.6 L 456.3 428.6 L 456.3 429.8 L 450.8 429.8 L 450.8 428.6 \" fill=\"#000000\"/>\n",
       "<path class=\"note\" d=\"M 463.3 426.3 L 464.5 426.3 L 464.5 427.4 L 463.3 427.4 L 463.3 429.8 L 462.0 429.8 L 462.0 427.4 L 456.7 427.4 L 456.7 426.5 L 461.2 419.6 L 463.3 419.6 L 463.3 426.3 M 458.4 426.3 L 462.0 426.3 L 462.0 420.6 L 458.4 426.3 \" fill=\"#000000\"/>\n",
       "<path class=\"note\" d=\"M 365.0 454.5 L 367.3 454.5 L 367.3 447.0 L 364.8 447.7 L 364.5 446.9 L 367.6 445.5 L 368.6 445.7 L 368.6 454.5 L 370.6 454.5 L 370.6 455.7 L 365.0 455.7 L 365.0 454.5 \" fill=\"#000000\"/>\n",
       "<path class=\"note\" d=\"M 374.9 449.3 Q 375.8 449.3, 376.5 449.7 Q 377.3 450.1, 377.7 450.8 Q 378.1 451.5, 378.1 452.5 Q 378.1 453.5, 377.6 454.3 Q 377.1 455.0, 376.2 455.4 Q 375.4 455.8, 374.5 455.8 Q 373.5 455.8, 372.7 455.4 Q 371.8 455.1, 371.2 454.4 L 372.1 453.6 Q 372.6 454.1, 373.2 454.4 Q 373.9 454.6, 374.5 454.6 Q 375.4 454.6, 376.0 454.1 Q 376.7 453.5, 376.7 452.5 Q 376.7 451.4, 376.0 450.9 Q 375.4 450.4, 374.4 450.4 Q 373.5 450.4, 372.6 450.8 L 371.8 450.4 L 372.3 445.5 L 377.5 445.5 L 377.3 446.7 L 373.4 446.7 L 373.1 449.7 Q 374.0 449.3, 374.9 449.3 \" fill=\"#000000\"/>\n",
       "<path class=\"note\" d=\"M 500.6 503.5 L 502.8 503.5 L 502.8 496.0 L 500.4 496.7 L 500.0 495.9 L 503.1 494.5 L 504.1 494.7 L 504.1 503.5 L 506.1 503.5 L 506.1 504.7 L 500.6 504.7 L 500.6 503.5 \" fill=\"#000000\"/>\n",
       "<path class=\"note\" d=\"M 511.1 498.4 Q 512.0 498.4, 512.7 498.8 Q 513.4 499.1, 513.7 499.8 Q 514.1 500.5, 514.1 501.4 Q 514.1 502.4, 513.7 503.2 Q 513.3 503.9, 512.5 504.4 Q 511.7 504.8, 510.7 504.8 Q 508.9 504.8, 508.0 503.6 Q 507.1 502.4, 507.1 499.9 Q 507.1 497.2, 508.2 495.9 Q 509.4 494.5, 511.5 494.5 Q 512.1 494.5, 512.7 494.6 Q 513.2 494.7, 513.7 495.0 L 513.2 496.0 Q 512.4 495.6, 511.5 495.6 Q 510.1 495.6, 509.4 496.5 Q 508.6 497.4, 508.5 499.3 Q 509.1 498.9, 509.7 498.6 Q 510.4 498.4, 511.1 498.4 M 510.7 503.6 Q 511.3 503.6, 511.7 503.3 Q 512.2 503.1, 512.4 502.6 Q 512.7 502.1, 512.7 501.4 Q 512.7 500.5, 512.2 500.0 Q 511.7 499.5, 510.8 499.5 Q 510.2 499.5, 509.6 499.8 Q 509.0 500.0, 508.5 500.4 Q 508.6 502.1, 509.1 502.9 Q 509.7 503.6, 510.7 503.6 \" fill=\"#000000\"/>\n",
       "<path class=\"note\" d=\"M 583.1 488.8 L 585.4 488.8 L 585.4 481.3 L 582.9 482.0 L 582.6 481.2 L 585.7 479.8 L 586.7 480.0 L 586.7 488.8 L 588.7 488.8 L 588.7 490.0 L 583.1 490.0 L 583.1 488.8 \" fill=\"#000000\"/>\n",
       "<path class=\"note\" d=\"M 594.2 481.0 L 588.9 481.0 L 588.9 479.8 L 595.7 479.8 L 595.7 480.9 L 591.6 490.0 L 590.2 490.0 L 594.2 481.0 \" fill=\"#000000\"/>\n",
       "<path class=\"note\" d=\"M 610.9 410.4 L 613.1 410.4 L 613.1 402.9 L 610.7 403.6 L 610.3 402.8 L 613.4 401.4 L 614.5 401.6 L 614.5 410.4 L 616.4 410.4 L 616.4 411.6 L 610.9 411.6 L 610.9 410.4 \" fill=\"#000000\"/>\n",
       "<path class=\"note\" d=\"M 622.5 406.2 Q 623.4 406.6, 623.9 407.2 Q 624.5 407.8, 624.5 408.8 Q 624.5 409.7, 624.0 410.3 Q 623.6 411.0, 622.8 411.4 Q 622.0 411.7, 621.0 411.7 Q 619.3 411.7, 618.3 411.0 Q 617.3 410.2, 617.3 408.8 Q 617.3 408.0, 617.8 407.4 Q 618.2 406.7, 619.1 406.3 Q 618.4 405.9, 618.1 405.4 Q 617.7 404.8, 617.7 403.9 Q 617.7 402.8, 618.6 402.1 Q 619.4 401.4, 620.9 401.4 Q 622.4 401.4, 623.2 402.1 Q 624.1 402.8, 624.1 403.9 Q 624.1 404.7, 623.7 405.2 Q 623.3 405.8, 622.5 406.2 M 620.9 402.4 Q 620.1 402.4, 619.6 402.8 Q 619.1 403.2, 619.1 403.9 Q 619.1 404.5, 619.4 404.8 Q 619.8 405.2, 620.2 405.4 Q 620.7 405.6, 621.5 405.9 Q 622.1 405.4, 622.4 405.0 Q 622.7 404.5, 622.7 403.9 Q 622.7 403.2, 622.2 402.8 Q 621.7 402.4, 620.9 402.4 M 621.0 410.7 Q 621.9 410.7, 622.5 410.2 Q 623.0 409.6, 623.0 408.8 Q 623.0 408.3, 622.7 407.9 Q 622.4 407.6, 622.0 407.4 Q 621.5 407.2, 620.7 406.9 L 620.1 406.7 Q 619.4 407.1, 619.1 407.6 Q 618.8 408.1, 618.8 408.8 Q 618.8 409.6, 619.4 410.2 Q 620.0 410.7, 621.0 410.7 \" fill=\"#000000\"/>\n",
       "<path class=\"note\" d=\"M 349.9 404.9 L 352.2 404.9 L 352.2 397.3 L 349.7 398.1 L 349.4 397.2 L 352.5 395.8 L 353.5 396.0 L 353.5 404.9 L 355.5 404.9 L 355.5 406.0 L 349.9 406.0 L 349.9 404.9 \" fill=\"#000000\"/>\n",
       "<path class=\"note\" d=\"M 359.7 395.8 Q 361.5 395.8, 362.4 397.0 Q 363.3 398.2, 363.3 400.6 Q 363.3 403.3, 362.2 404.7 Q 361.0 406.1, 358.9 406.1 Q 358.3 406.1, 357.7 406.0 Q 357.2 405.8, 356.7 405.5 L 357.2 404.6 Q 358.0 405.0, 358.9 405.0 Q 360.3 405.0, 361.0 404.1 Q 361.8 403.1, 361.8 401.2 Q 361.3 401.7, 360.7 402.0 Q 360.0 402.2, 359.3 402.2 Q 358.4 402.2, 357.7 401.8 Q 357.0 401.4, 356.7 400.7 Q 356.3 400.0, 356.3 399.1 Q 356.3 398.2, 356.7 397.4 Q 357.1 396.6, 357.9 396.2 Q 358.7 395.8, 359.7 395.8 M 357.7 399.1 Q 357.7 400.0, 358.2 400.5 Q 358.7 401.1, 359.6 401.1 Q 360.2 401.1, 360.8 400.8 Q 361.4 400.6, 361.8 400.1 Q 361.8 398.5, 361.3 397.7 Q 360.7 396.9, 359.7 396.9 Q 359.1 396.9, 358.7 397.2 Q 358.2 397.5, 358.0 398.0 Q 357.7 398.5, 357.7 399.1 \" fill=\"#000000\"/>\n",
       "<path class=\"note\" d=\"M 278.1 410.4 Q 278.5 409.4, 279.4 408.9 Q 280.3 408.4, 281.5 408.4 Q 283.0 408.4, 283.9 409.2 Q 284.8 410.0, 284.8 411.5 Q 284.8 413.0, 283.6 414.4 Q 282.5 415.8, 280.3 417.5 L 284.9 417.5 L 284.9 418.6 L 278.1 418.6 L 278.1 417.6 Q 280.0 416.3, 281.1 415.3 Q 282.2 414.3, 282.8 413.4 Q 283.3 412.5, 283.3 411.6 Q 283.3 410.6, 282.8 410.1 Q 282.4 409.5, 281.5 409.5 Q 280.7 409.5, 280.2 409.8 Q 279.6 410.2, 279.2 410.9 L 278.1 410.4 \" fill=\"#000000\"/>\n",
       "<path class=\"note\" d=\"M 289.5 418.7 Q 287.6 418.7, 286.7 417.3 Q 285.8 416.0, 285.8 413.5 Q 285.8 411.1, 286.7 409.7 Q 287.6 408.4, 289.5 408.4 Q 291.4 408.4, 292.3 409.7 Q 293.2 411.1, 293.2 413.5 Q 293.2 416.0, 292.3 417.3 Q 291.4 418.7, 289.5 418.7 M 289.5 417.6 Q 290.6 417.6, 291.2 416.6 Q 291.8 415.5, 291.8 413.5 Q 291.8 411.5, 291.2 410.5 Q 290.6 409.5, 289.5 409.5 Q 288.4 409.5, 287.8 410.5 Q 287.2 411.5, 287.2 413.5 Q 287.2 415.5, 287.8 416.6 Q 288.4 417.6, 289.5 417.6 \" fill=\"#000000\"/>\n",
       "<path class=\"note\" d=\"M 238.8 490.9 Q 239.2 489.9, 240.1 489.4 Q 241.0 488.9, 242.2 488.9 Q 243.7 488.9, 244.6 489.7 Q 245.4 490.5, 245.4 492.0 Q 245.4 493.5, 244.3 494.9 Q 243.2 496.3, 240.9 498.0 L 245.6 498.0 L 245.6 499.1 L 238.8 499.1 L 238.8 498.1 Q 240.7 496.8, 241.8 495.8 Q 242.9 494.8, 243.5 493.9 Q 244.0 493.0, 244.0 492.1 Q 244.0 491.1, 243.5 490.6 Q 243.0 490.0, 242.2 490.0 Q 241.4 490.0, 240.8 490.3 Q 240.3 490.7, 239.9 491.4 L 238.8 490.9 \" fill=\"#000000\"/>\n",
       "<path class=\"note\" d=\"M 246.9 498.0 L 249.2 498.0 L 249.2 490.4 L 246.7 491.2 L 246.4 490.3 L 249.5 488.9 L 250.5 489.1 L 250.5 498.0 L 252.5 498.0 L 252.5 499.1 L 246.9 499.1 L 246.9 498.0 \" fill=\"#000000\"/>\n",
       "</svg>"
      ],
      "text/plain": [
       "<IPython.core.display.SVG object>"
      ]
     },
     "metadata": {},
     "output_type": "display_data"
    }
   ],
   "source": [
    "draw(gcn,dataset)"
   ]
  },
  {
   "cell_type": "code",
   "execution_count": 76,
   "id": "62f5a268",
   "metadata": {},
   "outputs": [
    {
     "name": "stderr",
     "output_type": "stream",
     "text": [
      "D:\\Intepreta\\ChemXGNN\\utils\\pgm_explainer_graph.py:77: UserWarning: To copy construct from a tensor, it is recommended to use sourceTensor.clone().detach() or sourceTensor.clone().detach().requires_grad_(True), rather than torch.tensor(sourceTensor).\n",
      "  dtype=torch.float)\n",
      "D:\\anaconda\\envs\\rdk\\lib\\site-packages\\numpy\\core\\_asarray.py:102: VisibleDeprecationWarning: Creating an ndarray from ragged nested sequences (which is a list-or-tuple of lists-or-tuples-or ndarrays with different lengths or shapes) is deprecated. If you meant to do this, you must specify 'dtype=object' when creating the ndarray.\n",
      "  return array(a, dtype, copy=False, order=order)\n"
     ]
    },
    {
     "data": {
      "image/svg+xml": [
       "<svg baseProfile=\"full\" height=\"650px\" version=\"1.1\" viewBox=\"0 0 650 650\" width=\"650px\" xml:space=\"preserve\" xmlns=\"http://www.w3.org/2000/svg\" xmlns:rdkit=\"http://www.rdkit.org/xml\" xmlns:xlink=\"http://www.w3.org/1999/xlink\">\n",
       "<!-- END OF HEADER -->\n",
       "<rect height=\"650.0\" style=\"opacity:1.0;fill:#FFFFFF;stroke:none\" width=\"650.0\" x=\"0.0\" y=\"0.0\"> </rect>\n",
       "<ellipse cx=\"54.6\" cy=\"343.0\" rx=\"25.1\" ry=\"25.1\" style=\"fill:#CE5F73;fill-rule:evenodd;stroke:#CE5F73;stroke-width:1.0px;stroke-linecap:butt;stroke-linejoin:miter;stroke-opacity:1\"/>\n",
       "<ellipse cx=\"145.5\" cy=\"318.7\" rx=\"25.1\" ry=\"25.1\" style=\"fill:#CE5F73;fill-rule:evenodd;stroke:#CE5F73;stroke-width:1.0px;stroke-linecap:butt;stroke-linejoin:miter;stroke-opacity:1\"/>\n",
       "<ellipse cx=\"169.9\" cy=\"228.0\" rx=\"25.1\" ry=\"25.1\" style=\"fill:#CE5F73;fill-rule:evenodd;stroke:#CE5F73;stroke-width:1.0px;stroke-linecap:butt;stroke-linejoin:miter;stroke-opacity:1\"/>\n",
       "<ellipse cx=\"212.1\" cy=\"399.9\" rx=\"25.1\" ry=\"39.6\" style=\"fill:#CE5F73;fill-rule:evenodd;stroke:#CE5F73;stroke-width:1.0px;stroke-linecap:butt;stroke-linejoin:miter;stroke-opacity:1\"/>\n",
       "<ellipse cx=\"327.4\" cy=\"270.0\" rx=\"25.1\" ry=\"25.1\" style=\"fill:#CE5F73;fill-rule:evenodd;stroke:#CE5F73;stroke-width:1.0px;stroke-linecap:butt;stroke-linejoin:miter;stroke-opacity:1\"/>\n",
       "<ellipse cx=\"418.3\" cy=\"245.6\" rx=\"25.1\" ry=\"25.1\" style=\"fill:#CE5F73;fill-rule:evenodd;stroke:#CE5F73;stroke-width:1.0px;stroke-linecap:butt;stroke-linejoin:miter;stroke-opacity:1\"/>\n",
       "<ellipse cx=\"484.8\" cy=\"312.2\" rx=\"25.1\" ry=\"25.1\" style=\"fill:#CE5F73;fill-rule:evenodd;stroke:#CE5F73;stroke-width:1.0px;stroke-linecap:butt;stroke-linejoin:miter;stroke-opacity:1\"/>\n",
       "<ellipse cx=\"587.7\" cy=\"288.0\" rx=\"34.3\" ry=\"25.1\" style=\"fill:#CE5F73;fill-rule:evenodd;stroke:#CE5F73;stroke-width:1.0px;stroke-linecap:butt;stroke-linejoin:miter;stroke-opacity:1\"/>\n",
       "<ellipse cx=\"460.5\" cy=\"403.1\" rx=\"25.1\" ry=\"25.1\" style=\"fill:#CE5F73;fill-rule:evenodd;stroke:#CE5F73;stroke-width:1.0px;stroke-linecap:butt;stroke-linejoin:miter;stroke-opacity:1\"/>\n",
       "<ellipse cx=\"369.6\" cy=\"427.4\" rx=\"25.1\" ry=\"25.1\" style=\"fill:#CE5F73;fill-rule:evenodd;stroke:#CE5F73;stroke-width:1.0px;stroke-linecap:butt;stroke-linejoin:miter;stroke-opacity:1\"/>\n",
       "<path class=\"bond-0 atom-0 atom-1\" d=\"M 54.6,343.0 L 145.5,318.7\" style=\"fill:none;fill-rule:evenodd;stroke:#000000;stroke-width:2.0px;stroke-linecap:butt;stroke-linejoin:miter;stroke-opacity:1\"/>\n",
       "<path class=\"bond-1 atom-1 atom-2\" d=\"M 154.6,321.1 L 164.6,283.8\" style=\"fill:none;fill-rule:evenodd;stroke:#000000;stroke-width:2.0px;stroke-linecap:butt;stroke-linejoin:miter;stroke-opacity:1\"/>\n",
       "<path class=\"bond-1 atom-1 atom-2\" d=\"M 164.6,283.8 L 174.6,246.5\" style=\"fill:none;fill-rule:evenodd;stroke:#FF0000;stroke-width:2.0px;stroke-linecap:butt;stroke-linejoin:miter;stroke-opacity:1\"/>\n",
       "<path class=\"bond-1 atom-1 atom-2\" d=\"M 136.5,316.3 L 146.5,278.9\" style=\"fill:none;fill-rule:evenodd;stroke:#000000;stroke-width:2.0px;stroke-linecap:butt;stroke-linejoin:miter;stroke-opacity:1\"/>\n",
       "<path class=\"bond-1 atom-1 atom-2\" d=\"M 146.5,278.9 L 156.5,241.6\" style=\"fill:none;fill-rule:evenodd;stroke:#FF0000;stroke-width:2.0px;stroke-linecap:butt;stroke-linejoin:miter;stroke-opacity:1\"/>\n",
       "<path class=\"bond-2 atom-1 atom-3\" d=\"M 145.5,318.7 L 172.6,345.7\" style=\"fill:none;fill-rule:evenodd;stroke:#000000;stroke-width:2.0px;stroke-linecap:butt;stroke-linejoin:miter;stroke-opacity:1\"/>\n",
       "<path class=\"bond-2 atom-1 atom-3\" d=\"M 172.6,345.7 L 199.6,372.8\" style=\"fill:none;fill-rule:evenodd;stroke:#0000FF;stroke-width:2.0px;stroke-linecap:butt;stroke-linejoin:miter;stroke-opacity:1\"/>\n",
       "<path class=\"bond-3 atom-3 atom-4\" d=\"M 224.6,381.9 L 263.8,371.4\" style=\"fill:none;fill-rule:evenodd;stroke:#0000FF;stroke-width:2.0px;stroke-linecap:butt;stroke-linejoin:miter;stroke-opacity:1\"/>\n",
       "<path class=\"bond-3 atom-3 atom-4\" d=\"M 263.8,371.4 L 303.0,360.9\" style=\"fill:none;fill-rule:evenodd;stroke:#000000;stroke-width:2.0px;stroke-linecap:butt;stroke-linejoin:miter;stroke-opacity:1\"/>\n",
       "<path class=\"bond-4 atom-4 atom-5\" d=\"M 303.0,360.9 L 327.4,270.0\" style=\"fill:none;fill-rule:evenodd;stroke:#000000;stroke-width:2.0px;stroke-linecap:butt;stroke-linejoin:miter;stroke-opacity:1\"/>\n",
       "<path class=\"bond-4 atom-4 atom-5\" d=\"M 324.8,352.1 L 341.9,288.5\" style=\"fill:none;fill-rule:evenodd;stroke:#000000;stroke-width:2.0px;stroke-linecap:butt;stroke-linejoin:miter;stroke-opacity:1\"/>\n",
       "<path class=\"bond-10 atom-10 atom-4\" d=\"M 369.6,427.4 L 303.0,360.9\" style=\"fill:none;fill-rule:evenodd;stroke:#000000;stroke-width:2.0px;stroke-linecap:butt;stroke-linejoin:miter;stroke-opacity:1\"/>\n",
       "<path class=\"bond-5 atom-5 atom-6\" d=\"M 327.4,270.0 L 418.3,245.6\" style=\"fill:none;fill-rule:evenodd;stroke:#000000;stroke-width:2.0px;stroke-linecap:butt;stroke-linejoin:miter;stroke-opacity:1\"/>\n",
       "<path class=\"bond-6 atom-6 atom-7\" d=\"M 418.3,245.6 L 484.8,312.2\" style=\"fill:none;fill-rule:evenodd;stroke:#000000;stroke-width:2.0px;stroke-linecap:butt;stroke-linejoin:miter;stroke-opacity:1\"/>\n",
       "<path class=\"bond-6 atom-6 atom-7\" d=\"M 414.9,268.9 L 461.5,315.5\" style=\"fill:none;fill-rule:evenodd;stroke:#000000;stroke-width:2.0px;stroke-linecap:butt;stroke-linejoin:miter;stroke-opacity:1\"/>\n",
       "<path class=\"bond-7 atom-7 atom-8\" d=\"M 484.8,312.2 L 523.0,301.9\" style=\"fill:none;fill-rule:evenodd;stroke:#000000;stroke-width:2.0px;stroke-linecap:butt;stroke-linejoin:miter;stroke-opacity:1\"/>\n",
       "<path class=\"bond-7 atom-7 atom-8\" d=\"M 523.0,301.9 L 561.1,291.7\" style=\"fill:none;fill-rule:evenodd;stroke:#FF0000;stroke-width:2.0px;stroke-linecap:butt;stroke-linejoin:miter;stroke-opacity:1\"/>\n",
       "<path class=\"bond-8 atom-7 atom-9\" d=\"M 484.8,312.2 L 460.5,403.1\" style=\"fill:none;fill-rule:evenodd;stroke:#000000;stroke-width:2.0px;stroke-linecap:butt;stroke-linejoin:miter;stroke-opacity:1\"/>\n",
       "<path class=\"bond-9 atom-9 atom-10\" d=\"M 460.5,403.1 L 369.6,427.4\" style=\"fill:none;fill-rule:evenodd;stroke:#000000;stroke-width:2.0px;stroke-linecap:butt;stroke-linejoin:miter;stroke-opacity:1\"/>\n",
       "<path class=\"bond-9 atom-9 atom-10\" d=\"M 441.9,388.5 L 378.3,405.6\" style=\"fill:none;fill-rule:evenodd;stroke:#000000;stroke-width:2.0px;stroke-linecap:butt;stroke-linejoin:miter;stroke-opacity:1\"/>\n",
       "<path class=\"atom-2\" d=\"M 157.7 227.9 Q 157.7 221.5, 160.8 217.9 Q 164.0 214.3, 169.9 214.3 Q 175.8 214.3, 179.0 217.9 Q 182.1 221.5, 182.1 227.9 Q 182.1 234.3, 178.9 238.0 Q 175.7 241.7, 169.9 241.7 Q 164.0 241.7, 160.8 238.0 Q 157.7 234.4, 157.7 227.9 M 169.9 238.7 Q 174.0 238.7, 176.2 235.9 Q 178.4 233.2, 178.4 227.9 Q 178.4 222.6, 176.2 220.0 Q 174.0 217.3, 169.9 217.3 Q 165.8 217.3, 163.6 220.0 Q 161.4 222.6, 161.4 227.9 Q 161.4 233.2, 163.6 235.9 Q 165.8 238.7, 169.9 238.7 \" fill=\"#FF0000\"/>\n",
       "<path class=\"atom-3\" d=\"M 206.2 371.9 L 214.9 386.0 Q 215.8 387.4, 217.2 389.9 Q 218.6 392.5, 218.7 392.6 L 218.7 371.9 L 222.2 371.9 L 222.2 398.6 L 218.6 398.6 L 209.2 383.1 Q 208.1 381.3, 206.9 379.2 Q 205.8 377.2, 205.5 376.5 L 205.5 398.6 L 202.0 398.6 L 202.0 371.9 L 206.2 371.9 \" fill=\"#0000FF\"/>\n",
       "<path class=\"atom-3\" d=\"M 201.7 401.2 L 205.3 401.2 L 205.3 412.6 L 218.9 412.6 L 218.9 401.2 L 222.5 401.2 L 222.5 427.9 L 218.9 427.9 L 218.9 415.6 L 205.3 415.6 L 205.3 427.9 L 201.7 427.9 L 201.7 401.2 \" fill=\"#0000FF\"/>\n",
       "<path class=\"atom-8\" d=\"M 563.5 287.9 Q 563.5 281.5, 566.6 277.9 Q 569.8 274.3, 575.7 274.3 Q 581.6 274.3, 584.8 277.9 Q 588.0 281.5, 588.0 287.9 Q 588.0 294.4, 584.8 298.0 Q 581.6 301.7, 575.7 301.7 Q 569.8 301.7, 566.6 298.0 Q 563.5 294.4, 563.5 287.9 M 575.7 298.7 Q 579.8 298.7, 582.0 296.0 Q 584.2 293.2, 584.2 287.9 Q 584.2 282.6, 582.0 280.0 Q 579.8 277.3, 575.7 277.3 Q 571.7 277.3, 569.4 280.0 Q 567.3 282.6, 567.3 287.9 Q 567.3 293.3, 569.4 296.0 Q 571.7 298.7, 575.7 298.7 \" fill=\"#FF0000\"/>\n",
       "<path class=\"atom-8\" d=\"M 591.2 274.6 L 594.8 274.6 L 594.8 286.0 L 608.4 286.0 L 608.4 274.6 L 612.0 274.6 L 612.0 301.3 L 608.4 301.3 L 608.4 289.0 L 594.8 289.0 L 594.8 301.3 L 591.2 301.3 L 591.2 274.6 \" fill=\"#FF0000\"/>\n",
       "<path class=\"note\" d=\"M 58.7 365.1 Q 56.3 365.1, 55.0 363.3 Q 53.8 361.5, 53.8 358.3 Q 53.8 355.0, 55.0 353.2 Q 56.2 351.5, 58.7 351.5 Q 61.2 351.5, 62.4 353.2 Q 63.6 355.0, 63.6 358.3 Q 63.6 361.5, 62.4 363.3 Q 61.1 365.1, 58.7 365.1 M 58.7 363.6 Q 60.2 363.6, 60.9 362.2 Q 61.7 360.9, 61.7 358.3 Q 61.7 355.6, 60.9 354.3 Q 60.2 353.0, 58.7 353.0 Q 57.3 353.0, 56.5 354.3 Q 55.7 355.6, 55.7 358.3 Q 55.7 360.9, 56.5 362.2 Q 57.3 363.6, 58.7 363.6 \" fill=\"#000000\"/>\n",
       "<path class=\"note\" d=\"M 131.2 312.8 L 134.1 312.8 L 134.1 302.8 L 130.9 303.8 L 130.4 302.7 L 134.5 300.9 L 135.9 301.1 L 135.9 312.8 L 138.5 312.8 L 138.5 314.3 L 131.2 314.3 L 131.2 312.8 \" fill=\"#000000\"/>\n",
       "<path class=\"note\" d=\"M 173.6 193.4 Q 174.1 192.2, 175.2 191.5 Q 176.4 190.7, 178.0 190.7 Q 180.0 190.7, 181.2 191.8 Q 182.3 192.9, 182.3 194.9 Q 182.3 196.8, 180.8 198.7 Q 179.4 200.5, 176.4 202.7 L 182.5 202.7 L 182.5 204.2 L 173.5 204.2 L 173.5 203.0 Q 176.0 201.2, 177.5 199.9 Q 179.0 198.6, 179.7 197.4 Q 180.4 196.2, 180.4 195.0 Q 180.4 193.7, 179.8 193.0 Q 179.1 192.2, 178.0 192.2 Q 176.9 192.2, 176.2 192.7 Q 175.5 193.1, 175.0 194.1 L 173.6 193.4 \" fill=\"#000000\"/>\n",
       "<path class=\"note\" d=\"M 222.1 354.7 Q 223.4 355.0, 224.1 355.9 Q 224.7 356.7, 224.7 358.0 Q 224.7 359.1, 224.1 360.0 Q 223.6 360.9, 222.5 361.4 Q 221.5 361.9, 220.1 361.9 Q 218.7 361.9, 217.6 361.4 Q 216.6 360.9, 215.7 359.8 L 216.8 358.8 Q 217.6 359.7, 218.3 360.0 Q 219.0 360.4, 220.1 360.4 Q 221.3 360.4, 222.1 359.7 Q 222.8 359.1, 222.8 358.0 Q 222.8 356.6, 222.0 356.0 Q 221.3 355.4, 219.7 355.4 L 218.7 355.4 L 218.7 354.1 L 219.5 354.1 Q 221.0 354.0, 221.8 353.4 Q 222.5 352.8, 222.5 351.6 Q 222.5 350.7, 221.9 350.2 Q 221.3 349.7, 220.2 349.7 Q 219.0 349.7, 218.4 350.1 Q 217.7 350.5, 217.1 351.5 L 215.8 350.8 Q 216.3 349.7, 217.4 348.9 Q 218.6 348.2, 220.2 348.2 Q 222.1 348.2, 223.3 349.1 Q 224.4 350.0, 224.4 351.6 Q 224.4 352.7, 223.8 353.4 Q 223.2 354.2, 222.1 354.7 \" fill=\"#000000\"/>\n",
       "<path class=\"note\" d=\"M 295.4 351.9 L 297.0 351.9 L 297.0 353.4 L 295.4 353.4 L 295.4 356.4 L 293.7 356.4 L 293.7 353.4 L 286.8 353.4 L 286.8 352.2 L 292.6 343.1 L 295.4 343.1 L 295.4 351.9 M 289.0 351.9 L 293.7 351.9 L 293.7 344.3 L 289.0 351.9 \" fill=\"#000000\"/>\n",
       "<path class=\"note\" d=\"M 316.6 257.2 Q 317.8 257.2, 318.7 257.7 Q 319.7 258.2, 320.2 259.1 Q 320.8 260.1, 320.8 261.3 Q 320.8 262.7, 320.1 263.7 Q 319.4 264.7, 318.3 265.2 Q 317.3 265.7, 316.0 265.7 Q 314.8 265.7, 313.7 265.2 Q 312.5 264.8, 311.8 263.9 L 312.9 262.8 Q 313.5 263.4, 314.4 263.8 Q 315.2 264.2, 316.1 264.2 Q 317.3 264.2, 318.1 263.4 Q 318.9 262.7, 318.9 261.4 Q 318.9 260.0, 318.1 259.3 Q 317.3 258.6, 316.0 258.6 Q 314.8 258.6, 313.5 259.1 L 312.5 258.6 L 313.1 252.2 L 319.9 252.2 L 319.8 253.7 L 314.6 253.7 L 314.2 257.7 Q 315.4 257.2, 316.6 257.2 \" fill=\"#000000\"/>\n",
       "<path class=\"note\" d=\"M 422.9 228.9 Q 424.1 228.9, 425.0 229.4 Q 425.9 229.9, 426.4 230.8 Q 426.9 231.7, 426.9 232.9 Q 426.9 234.2, 426.4 235.2 Q 425.8 236.2, 424.8 236.8 Q 423.8 237.4, 422.5 237.4 Q 420.1 237.4, 418.9 235.8 Q 417.7 234.1, 417.7 230.9 Q 417.7 227.4, 419.2 225.6 Q 420.7 223.7, 423.5 223.7 Q 424.3 223.7, 425.0 223.9 Q 425.7 224.1, 426.4 224.5 L 425.7 225.8 Q 424.7 225.2, 423.5 225.2 Q 421.6 225.2, 420.7 226.5 Q 419.7 227.7, 419.6 230.2 Q 420.3 229.5, 421.1 229.2 Q 422.0 228.9, 422.9 228.9 M 422.5 235.8 Q 423.2 235.8, 423.8 235.4 Q 424.4 235.1, 424.7 234.4 Q 425.1 233.7, 425.1 232.9 Q 425.1 231.7, 424.4 231.1 Q 423.7 230.4, 422.6 230.4 Q 421.8 230.4, 421.0 230.7 Q 420.2 231.0, 419.6 231.6 Q 419.7 233.8, 420.4 234.8 Q 421.1 235.8, 422.5 235.8 \" fill=\"#000000\"/>\n",
       "<path class=\"note\" d=\"M 491.4 291.9 L 484.5 291.9 L 484.5 290.3 L 493.3 290.3 L 493.3 291.7 L 487.9 303.7 L 486.1 303.7 L 491.4 291.9 \" fill=\"#000000\"/>\n",
       "<path class=\"note\" d=\"M 608.1 279.4 Q 609.3 279.9, 610.0 280.7 Q 610.7 281.5, 610.7 282.8 Q 610.7 283.9, 610.1 284.8 Q 609.6 285.6, 608.5 286.1 Q 607.5 286.6, 606.1 286.6 Q 603.9 286.6, 602.6 285.6 Q 601.3 284.6, 601.3 282.8 Q 601.3 281.7, 601.9 280.9 Q 602.4 280.0, 603.6 279.4 Q 602.7 278.9, 602.3 278.2 Q 601.8 277.5, 601.8 276.4 Q 601.8 274.8, 602.9 273.9 Q 604.1 272.9, 606.0 272.9 Q 608.0 272.9, 609.1 273.9 Q 610.2 274.8, 610.2 276.4 Q 610.2 277.3, 609.7 278.1 Q 609.2 278.8, 608.1 279.4 M 606.0 274.4 Q 604.9 274.4, 604.3 274.9 Q 603.7 275.4, 603.7 276.4 Q 603.7 277.0, 604.1 277.5 Q 604.5 278.0, 605.1 278.2 Q 605.7 278.5, 606.9 278.9 Q 607.7 278.3, 608.0 277.7 Q 608.4 277.1, 608.4 276.4 Q 608.4 275.4, 607.7 274.9 Q 607.1 274.4, 606.0 274.4 M 606.1 285.2 Q 607.3 285.2, 608.1 284.5 Q 608.8 283.9, 608.8 282.8 Q 608.8 282.0, 608.5 281.6 Q 608.1 281.1, 607.5 280.9 Q 606.9 280.6, 605.8 280.3 L 605.0 280.0 Q 604.0 280.5, 603.6 281.2 Q 603.2 281.9, 603.2 282.8 Q 603.2 283.9, 604.0 284.5 Q 604.8 285.2, 606.1 285.2 \" fill=\"#000000\"/>\n",
       "<path class=\"note\" d=\"M 471.4 407.4 Q 473.8 407.4, 475.0 409.0 Q 476.2 410.6, 476.2 413.8 Q 476.2 417.4, 474.7 419.2 Q 473.2 421.0, 470.4 421.0 Q 469.5 421.0, 468.8 420.9 Q 468.1 420.7, 467.5 420.3 L 468.2 419.0 Q 469.2 419.5, 470.4 419.5 Q 472.2 419.5, 473.2 418.3 Q 474.2 417.1, 474.3 414.6 Q 473.6 415.2, 472.7 415.6 Q 471.9 415.9, 471.0 415.9 Q 469.8 415.9, 468.9 415.4 Q 467.9 414.9, 467.4 414.0 Q 466.9 413.0, 466.9 411.9 Q 466.9 410.6, 467.5 409.6 Q 468.1 408.5, 469.1 408.0 Q 470.1 407.4, 471.4 407.4 M 468.8 411.8 Q 468.8 413.0, 469.5 413.7 Q 470.1 414.4, 471.3 414.4 Q 472.1 414.4, 472.9 414.1 Q 473.7 413.7, 474.3 413.2 Q 474.2 411.0, 473.5 410.0 Q 472.8 409.0, 471.4 409.0 Q 470.7 409.0, 470.1 409.3 Q 469.5 409.7, 469.1 410.4 Q 468.8 411.0, 468.8 411.8 \" fill=\"#000000\"/>\n",
       "<path class=\"note\" d=\"M 352.7 447.8 L 355.7 447.8 L 355.7 437.9 L 352.4 438.8 L 352.0 437.7 L 356.1 435.9 L 357.4 436.1 L 357.4 447.8 L 360.0 447.8 L 360.0 449.3 L 352.7 449.3 L 352.7 447.8 \" fill=\"#000000\"/>\n",
       "<path class=\"note\" d=\"M 366.1 449.5 Q 363.6 449.5, 362.4 447.7 Q 361.2 445.9, 361.2 442.6 Q 361.2 439.4, 362.4 437.6 Q 363.6 435.8, 366.1 435.8 Q 368.5 435.8, 369.7 437.6 Q 370.9 439.4, 370.9 442.6 Q 370.9 445.9, 369.7 447.7 Q 368.5 449.5, 366.1 449.5 M 366.1 448.0 Q 367.5 448.0, 368.3 446.6 Q 369.1 445.3, 369.1 442.6 Q 369.1 440.0, 368.3 438.7 Q 367.5 437.3, 366.1 437.3 Q 364.6 437.3, 363.8 438.7 Q 363.1 440.0, 363.1 442.6 Q 363.1 445.3, 363.8 446.6 Q 364.6 448.0, 366.1 448.0 \" fill=\"#000000\"/>\n",
       "</svg>"
      ],
      "text/plain": [
       "<IPython.core.display.SVG object>"
      ]
     },
     "metadata": {},
     "output_type": "display_data"
    }
   ],
   "source": [
    "draw(gat,dataset)"
   ]
  },
  {
   "cell_type": "code",
   "execution_count": 77,
   "id": "ed3a5712",
   "metadata": {},
   "outputs": [
    {
     "data": {
      "image/svg+xml": [
       "<svg baseProfile=\"full\" height=\"650px\" version=\"1.1\" viewBox=\"0 0 650 650\" width=\"650px\" xml:space=\"preserve\" xmlns=\"http://www.w3.org/2000/svg\" xmlns:rdkit=\"http://www.rdkit.org/xml\" xmlns:xlink=\"http://www.w3.org/1999/xlink\">\n",
       "<!-- END OF HEADER -->\n",
       "<rect height=\"650.0\" style=\"opacity:1.0;fill:#FFFFFF;stroke:none\" width=\"650.0\" x=\"0.0\" y=\"0.0\"> </rect>\n",
       "<ellipse cx=\"55.1\" cy=\"343.4\" rx=\"25.5\" ry=\"25.5\" style=\"fill:#CE5F73;fill-rule:evenodd;stroke:#CE5F73;stroke-width:1.0px;stroke-linecap:butt;stroke-linejoin:miter;stroke-opacity:1\"/>\n",
       "<ellipse cx=\"147.6\" cy=\"318.6\" rx=\"25.5\" ry=\"25.5\" style=\"fill:#CE5F73;fill-rule:evenodd;stroke:#CE5F73;stroke-width:1.0px;stroke-linecap:butt;stroke-linejoin:miter;stroke-opacity:1\"/>\n",
       "<ellipse cx=\"172.4\" cy=\"226.3\" rx=\"25.5\" ry=\"25.5\" style=\"fill:#CE5F73;fill-rule:evenodd;stroke:#CE5F73;stroke-width:1.0px;stroke-linecap:butt;stroke-linejoin:miter;stroke-opacity:1\"/>\n",
       "<ellipse cx=\"215.3\" cy=\"401.2\" rx=\"25.5\" ry=\"40.3\" style=\"fill:#CE5F73;fill-rule:evenodd;stroke:#CE5F73;stroke-width:1.0px;stroke-linecap:butt;stroke-linejoin:miter;stroke-opacity:1\"/>\n",
       "<ellipse cx=\"307.9\" cy=\"361.5\" rx=\"25.5\" ry=\"25.5\" style=\"fill:#CE5F73;fill-rule:evenodd;stroke:#CE5F73;stroke-width:1.0px;stroke-linecap:butt;stroke-linejoin:miter;stroke-opacity:1\"/>\n",
       "<ellipse cx=\"332.6\" cy=\"269.0\" rx=\"25.5\" ry=\"25.5\" style=\"fill:#CE5F73;fill-rule:evenodd;stroke:#CE5F73;stroke-width:1.0px;stroke-linecap:butt;stroke-linejoin:miter;stroke-opacity:1\"/>\n",
       "<ellipse cx=\"425.2\" cy=\"244.2\" rx=\"25.5\" ry=\"25.5\" style=\"fill:#CE5F73;fill-rule:evenodd;stroke:#CE5F73;stroke-width:1.0px;stroke-linecap:butt;stroke-linejoin:miter;stroke-opacity:1\"/>\n",
       "<ellipse cx=\"492.9\" cy=\"311.9\" rx=\"25.5\" ry=\"25.5\" style=\"fill:#CE5F73;fill-rule:evenodd;stroke:#CE5F73;stroke-width:1.0px;stroke-linecap:butt;stroke-linejoin:miter;stroke-opacity:1\"/>\n",
       "<ellipse cx=\"468.1\" cy=\"404.5\" rx=\"25.5\" ry=\"25.5\" style=\"fill:#CE5F73;fill-rule:evenodd;stroke:#CE5F73;stroke-width:1.0px;stroke-linecap:butt;stroke-linejoin:miter;stroke-opacity:1\"/>\n",
       "<ellipse cx=\"375.6\" cy=\"429.2\" rx=\"25.5\" ry=\"25.5\" style=\"fill:#CE5F73;fill-rule:evenodd;stroke:#CE5F73;stroke-width:1.0px;stroke-linecap:butt;stroke-linejoin:miter;stroke-opacity:1\"/>\n",
       "<path class=\"bond-0 atom-0 atom-1\" d=\"M 55.1,343.4 L 147.6,318.6\" style=\"fill:none;fill-rule:evenodd;stroke:#000000;stroke-width:2.0px;stroke-linecap:butt;stroke-linejoin:miter;stroke-opacity:1\"/>\n",
       "<path class=\"bond-1 atom-1 atom-2\" d=\"M 156.9,321.1 L 167.0,283.1\" style=\"fill:none;fill-rule:evenodd;stroke:#000000;stroke-width:2.0px;stroke-linecap:butt;stroke-linejoin:miter;stroke-opacity:1\"/>\n",
       "<path class=\"bond-1 atom-1 atom-2\" d=\"M 167.0,283.1 L 177.2,245.1\" style=\"fill:none;fill-rule:evenodd;stroke:#FF0000;stroke-width:2.0px;stroke-linecap:butt;stroke-linejoin:miter;stroke-opacity:1\"/>\n",
       "<path class=\"bond-1 atom-1 atom-2\" d=\"M 138.4,316.1 L 148.5,278.1\" style=\"fill:none;fill-rule:evenodd;stroke:#000000;stroke-width:2.0px;stroke-linecap:butt;stroke-linejoin:miter;stroke-opacity:1\"/>\n",
       "<path class=\"bond-1 atom-1 atom-2\" d=\"M 148.5,278.1 L 158.7,240.1\" style=\"fill:none;fill-rule:evenodd;stroke:#FF0000;stroke-width:2.0px;stroke-linecap:butt;stroke-linejoin:miter;stroke-opacity:1\"/>\n",
       "<path class=\"bond-2 atom-1 atom-3\" d=\"M 147.6,318.6 L 175.1,346.1\" style=\"fill:none;fill-rule:evenodd;stroke:#000000;stroke-width:2.0px;stroke-linecap:butt;stroke-linejoin:miter;stroke-opacity:1\"/>\n",
       "<path class=\"bond-2 atom-1 atom-3\" d=\"M 175.1,346.1 L 202.7,373.6\" style=\"fill:none;fill-rule:evenodd;stroke:#0000FF;stroke-width:2.0px;stroke-linecap:butt;stroke-linejoin:miter;stroke-opacity:1\"/>\n",
       "<path class=\"bond-3 atom-3 atom-4\" d=\"M 228.0,382.9 L 267.9,372.2\" style=\"fill:none;fill-rule:evenodd;stroke:#0000FF;stroke-width:2.0px;stroke-linecap:butt;stroke-linejoin:miter;stroke-opacity:1\"/>\n",
       "<path class=\"bond-3 atom-3 atom-4\" d=\"M 267.9,372.2 L 307.9,361.5\" style=\"fill:none;fill-rule:evenodd;stroke:#000000;stroke-width:2.0px;stroke-linecap:butt;stroke-linejoin:miter;stroke-opacity:1\"/>\n",
       "<path class=\"bond-4 atom-4 atom-5\" d=\"M 307.9,361.5 L 332.6,269.0\" style=\"fill:none;fill-rule:evenodd;stroke:#000000;stroke-width:2.0px;stroke-linecap:butt;stroke-linejoin:miter;stroke-opacity:1\"/>\n",
       "<path class=\"bond-4 atom-4 atom-5\" d=\"M 330.1,352.6 L 347.4,287.8\" style=\"fill:none;fill-rule:evenodd;stroke:#000000;stroke-width:2.0px;stroke-linecap:butt;stroke-linejoin:miter;stroke-opacity:1\"/>\n",
       "<path class=\"bond-10 atom-10 atom-4\" d=\"M 375.6,429.2 L 307.9,361.5\" style=\"fill:none;fill-rule:evenodd;stroke:#000000;stroke-width:2.0px;stroke-linecap:butt;stroke-linejoin:miter;stroke-opacity:1\"/>\n",
       "<path class=\"bond-5 atom-5 atom-6\" d=\"M 332.6,269.0 L 425.2,244.2\" style=\"fill:none;fill-rule:evenodd;stroke:#000000;stroke-width:2.0px;stroke-linecap:butt;stroke-linejoin:miter;stroke-opacity:1\"/>\n",
       "<path class=\"bond-6 atom-6 atom-7\" d=\"M 425.2,244.2 L 492.9,311.9\" style=\"fill:none;fill-rule:evenodd;stroke:#000000;stroke-width:2.0px;stroke-linecap:butt;stroke-linejoin:miter;stroke-opacity:1\"/>\n",
       "<path class=\"bond-6 atom-6 atom-7\" d=\"M 421.8,267.9 L 469.2,315.3\" style=\"fill:none;fill-rule:evenodd;stroke:#000000;stroke-width:2.0px;stroke-linecap:butt;stroke-linejoin:miter;stroke-opacity:1\"/>\n",
       "<path class=\"bond-7 atom-7 atom-8\" d=\"M 492.9,311.9 L 531.7,301.5\" style=\"fill:none;fill-rule:evenodd;stroke:#000000;stroke-width:2.0px;stroke-linecap:butt;stroke-linejoin:miter;stroke-opacity:1\"/>\n",
       "<path class=\"bond-7 atom-7 atom-8\" d=\"M 531.7,301.5 L 570.6,291.1\" style=\"fill:none;fill-rule:evenodd;stroke:#FF0000;stroke-width:2.0px;stroke-linecap:butt;stroke-linejoin:miter;stroke-opacity:1\"/>\n",
       "<path class=\"bond-8 atom-7 atom-9\" d=\"M 492.9,311.9 L 468.1,404.5\" style=\"fill:none;fill-rule:evenodd;stroke:#000000;stroke-width:2.0px;stroke-linecap:butt;stroke-linejoin:miter;stroke-opacity:1\"/>\n",
       "<path class=\"bond-9 atom-9 atom-10\" d=\"M 468.1,404.5 L 375.6,429.2\" style=\"fill:none;fill-rule:evenodd;stroke:#000000;stroke-width:2.0px;stroke-linecap:butt;stroke-linejoin:miter;stroke-opacity:1\"/>\n",
       "<path class=\"bond-9 atom-9 atom-10\" d=\"M 449.3,389.7 L 384.5,407.0\" style=\"fill:none;fill-rule:evenodd;stroke:#000000;stroke-width:2.0px;stroke-linecap:butt;stroke-linejoin:miter;stroke-opacity:1\"/>\n",
       "<path class=\"atom-2\" d=\"M 159.9 226.1 Q 159.9 219.6, 163.2 216.0 Q 166.4 212.3, 172.4 212.3 Q 178.4 212.3, 181.6 216.0 Q 184.8 219.6, 184.8 226.1 Q 184.8 232.7, 181.6 236.5 Q 178.3 240.2, 172.4 240.2 Q 166.4 240.2, 163.2 236.5 Q 159.9 232.8, 159.9 226.1 M 172.4 237.1 Q 176.5 237.1, 178.8 234.4 Q 181.0 231.6, 181.0 226.1 Q 181.0 220.8, 178.8 218.1 Q 176.5 215.4, 172.4 215.4 Q 168.3 215.4, 166.0 218.1 Q 163.8 220.8, 163.8 226.1 Q 163.8 231.6, 166.0 234.4 Q 168.3 237.1, 172.4 237.1 \" fill=\"#FF0000\"/>\n",
       "<path class=\"atom-3\" d=\"M 209.3 372.7 L 218.2 387.1 Q 219.1 388.5, 220.5 391.1 Q 221.9 393.7, 222.0 393.8 L 222.0 372.7 L 225.6 372.7 L 225.6 399.9 L 221.9 399.9 L 212.4 384.2 Q 211.3 382.3, 210.1 380.2 Q 208.9 378.1, 208.6 377.5 L 208.6 399.9 L 205.0 399.9 L 205.0 372.7 L 209.3 372.7 \" fill=\"#0000FF\"/>\n",
       "<path class=\"atom-3\" d=\"M 204.7 402.6 L 208.4 402.6 L 208.4 414.1 L 222.3 414.1 L 222.3 402.6 L 225.9 402.6 L 225.9 429.7 L 222.3 429.7 L 222.3 417.2 L 208.4 417.2 L 208.4 429.7 L 204.7 429.7 L 204.7 402.6 \" fill=\"#0000FF\"/>\n",
       "<path class=\"atom-8\" d=\"M 573.0 287.2 Q 573.0 280.7, 576.2 277.1 Q 579.4 273.4, 585.4 273.4 Q 591.4 273.4, 594.6 277.1 Q 597.9 280.7, 597.9 287.2 Q 597.9 293.8, 594.6 297.6 Q 591.4 301.3, 585.4 301.3 Q 579.4 301.3, 576.2 297.6 Q 573.0 293.8, 573.0 287.2 M 585.4 298.2 Q 589.5 298.2, 591.8 295.5 Q 594.0 292.7, 594.0 287.2 Q 594.0 281.9, 591.8 279.2 Q 589.5 276.5, 585.4 276.5 Q 581.3 276.5, 579.0 279.2 Q 576.8 281.9, 576.8 287.2 Q 576.8 292.7, 579.0 295.5 Q 581.3 298.2, 585.4 298.2 \" fill=\"#FF0000\"/>\n",
       "<path class=\"atom-8\" d=\"M 601.1 273.7 L 604.8 273.7 L 604.8 285.3 L 618.7 285.3 L 618.7 273.7 L 622.3 273.7 L 622.3 300.9 L 618.7 300.9 L 618.7 288.3 L 604.8 288.3 L 604.8 300.9 L 601.1 300.9 L 601.1 273.7 \" fill=\"#FF0000\"/>\n",
       "<path class=\"note\" d=\"M 59.2 365.8 Q 56.7 365.8, 55.5 364.0 Q 54.3 362.1, 54.3 358.8 Q 54.3 355.6, 55.5 353.7 Q 56.7 351.9, 59.2 351.9 Q 61.7 351.9, 63.0 353.7 Q 64.2 355.6, 64.2 358.8 Q 64.2 362.1, 62.9 364.0 Q 61.7 365.8, 59.2 365.8 M 59.2 364.3 Q 60.7 364.3, 61.5 362.9 Q 62.3 361.5, 62.3 358.8 Q 62.3 356.2, 61.5 354.8 Q 60.7 353.5, 59.2 353.5 Q 57.8 353.5, 57.0 354.8 Q 56.2 356.2, 56.2 358.8 Q 56.2 361.5, 57.0 362.9 Q 57.8 364.3, 59.2 364.3 \" fill=\"#000000\"/>\n",
       "<path class=\"note\" d=\"M 133.0 312.6 L 135.9 312.6 L 135.9 302.4 L 132.7 303.5 L 132.2 302.3 L 136.4 300.5 L 137.7 300.7 L 137.7 312.6 L 140.4 312.6 L 140.4 314.1 L 133.0 314.1 L 133.0 312.6 \" fill=\"#000000\"/>\n",
       "<path class=\"note\" d=\"M 176.1 191.1 Q 176.6 189.8, 177.8 189.1 Q 179.0 188.4, 180.7 188.4 Q 182.7 188.4, 183.9 189.5 Q 185.0 190.6, 185.0 192.6 Q 185.0 194.6, 183.5 196.4 Q 182.0 198.3, 179.0 200.5 L 185.2 200.5 L 185.2 202.1 L 176.1 202.1 L 176.1 200.8 Q 178.6 199.0, 180.1 197.6 Q 181.6 196.3, 182.4 195.1 Q 183.1 193.9, 183.1 192.6 Q 183.1 191.3, 182.4 190.6 Q 181.8 189.9, 180.7 189.9 Q 179.6 189.9, 178.8 190.3 Q 178.1 190.8, 177.6 191.7 L 176.1 191.1 \" fill=\"#000000\"/>\n",
       "<path class=\"note\" d=\"M 225.6 355.2 Q 226.9 355.6, 227.5 356.4 Q 228.2 357.3, 228.2 358.6 Q 228.2 359.8, 227.6 360.7 Q 227.0 361.5, 226.0 362.0 Q 224.9 362.5, 223.5 362.5 Q 222.1 362.5, 221.0 362.0 Q 219.9 361.5, 219.0 360.5 L 220.1 359.4 Q 221.0 360.3, 221.7 360.6 Q 222.4 361.0, 223.5 361.0 Q 224.7 361.0, 225.5 360.3 Q 226.2 359.7, 226.2 358.6 Q 226.2 357.2, 225.5 356.6 Q 224.7 356.0, 223.0 356.0 L 222.0 356.0 L 222.0 354.6 L 222.9 354.6 Q 224.4 354.6, 225.2 353.9 Q 226.0 353.3, 226.0 352.1 Q 226.0 351.2, 225.3 350.7 Q 224.7 350.1, 223.5 350.1 Q 222.4 350.1, 221.7 350.5 Q 221.0 350.9, 220.5 352.0 L 219.2 351.2 Q 219.6 350.1, 220.8 349.4 Q 221.9 348.6, 223.5 348.6 Q 225.5 348.6, 226.7 349.5 Q 227.9 350.5, 227.9 352.1 Q 227.9 353.2, 227.3 354.0 Q 226.7 354.7, 225.6 355.2 \" fill=\"#000000\"/>\n",
       "<path class=\"note\" d=\"M 300.2 352.4 L 301.8 352.4 L 301.8 353.9 L 300.2 353.9 L 300.2 357.0 L 298.4 357.0 L 298.4 353.9 L 291.3 353.9 L 291.3 352.7 L 297.3 343.4 L 300.2 343.4 L 300.2 352.4 M 293.6 352.4 L 298.4 352.4 L 298.4 344.7 L 293.6 352.4 \" fill=\"#000000\"/>\n",
       "<path class=\"note\" d=\"M 321.7 256.0 Q 322.9 256.0, 323.9 256.5 Q 324.8 257.0, 325.4 258.0 Q 325.9 258.9, 325.9 260.2 Q 325.9 261.6, 325.3 262.6 Q 324.6 263.6, 323.5 264.1 Q 322.4 264.6, 321.1 264.6 Q 319.9 264.6, 318.7 264.2 Q 317.6 263.7, 316.8 262.8 L 317.9 261.7 Q 318.6 262.3, 319.4 262.7 Q 320.3 263.1, 321.2 263.1 Q 322.4 263.1, 323.2 262.3 Q 324.0 261.6, 324.0 260.2 Q 324.0 258.8, 323.2 258.1 Q 322.4 257.4, 321.0 257.4 Q 319.9 257.4, 318.5 258.0 L 317.5 257.5 L 318.1 250.9 L 325.1 250.9 L 324.9 252.5 L 319.7 252.5 L 319.3 256.5 Q 320.5 256.0, 321.7 256.0 \" fill=\"#000000\"/>\n",
       "<path class=\"note\" d=\"M 429.9 227.2 Q 431.1 227.2, 432.0 227.7 Q 433.0 228.2, 433.5 229.1 Q 434.0 230.1, 434.0 231.3 Q 434.0 232.6, 433.4 233.6 Q 432.8 234.6, 431.8 235.2 Q 430.8 235.8, 429.4 235.8 Q 427.0 235.8, 425.8 234.2 Q 424.6 232.5, 424.6 229.3 Q 424.6 225.7, 426.1 223.8 Q 427.6 221.9, 430.5 221.9 Q 431.3 221.9, 432.0 222.1 Q 432.8 222.3, 433.5 222.7 L 432.7 224.0 Q 431.7 223.5, 430.5 223.5 Q 428.6 223.5, 427.6 224.7 Q 426.6 225.9, 426.5 228.5 Q 427.2 227.8, 428.1 227.5 Q 429.0 227.2, 429.9 227.2 M 429.5 234.2 Q 430.2 234.2, 430.8 233.8 Q 431.4 233.5, 431.7 232.8 Q 432.1 232.1, 432.1 231.3 Q 432.1 230.1, 431.4 229.4 Q 430.7 228.7, 429.6 228.7 Q 428.7 228.7, 427.9 229.1 Q 427.1 229.4, 426.5 230.0 Q 426.6 232.2, 427.3 233.2 Q 428.0 234.2, 429.5 234.2 \" fill=\"#000000\"/>\n",
       "<path class=\"note\" d=\"M 499.6 291.3 L 492.5 291.3 L 492.5 289.7 L 501.5 289.7 L 501.5 291.1 L 496.0 303.3 L 494.2 303.3 L 499.6 291.3 \" fill=\"#000000\"/>\n",
       "<path class=\"note\" d=\"M 618.4 278.6 Q 619.6 279.1, 620.3 279.9 Q 621.0 280.7, 621.0 282.0 Q 621.0 283.2, 620.4 284.1 Q 619.9 285.0, 618.8 285.4 Q 617.7 285.9, 616.3 285.9 Q 614.1 285.9, 612.8 284.9 Q 611.5 283.8, 611.5 282.0 Q 611.5 280.9, 612.0 280.1 Q 612.6 279.2, 613.8 278.6 Q 612.9 278.1, 612.4 277.4 Q 612.0 276.6, 612.0 275.5 Q 612.0 273.9, 613.1 273.0 Q 614.3 272.0, 616.3 272.0 Q 618.2 272.0, 619.4 273.0 Q 620.5 273.9, 620.5 275.5 Q 620.5 276.5, 620.0 277.2 Q 619.5 278.0, 618.4 278.6 M 616.3 273.5 Q 615.1 273.5, 614.5 274.0 Q 613.9 274.5, 613.9 275.5 Q 613.9 276.2, 614.3 276.7 Q 614.7 277.1, 615.3 277.4 Q 615.9 277.7, 617.1 278.1 Q 617.9 277.5, 618.3 276.9 Q 618.6 276.3, 618.6 275.5 Q 618.6 274.5, 618.0 274.0 Q 617.4 273.5, 616.3 273.5 M 616.3 284.5 Q 617.6 284.5, 618.4 283.8 Q 619.1 283.1, 619.1 282.0 Q 619.1 281.3, 618.7 280.8 Q 618.3 280.4, 617.7 280.1 Q 617.1 279.8, 616.0 279.5 L 615.2 279.2 Q 614.2 279.8, 613.8 280.4 Q 613.4 281.1, 613.4 282.0 Q 613.4 283.1, 614.2 283.8 Q 615.0 284.5, 616.3 284.5 \" fill=\"#000000\"/>\n",
       "<path class=\"note\" d=\"M 479.2 408.9 Q 481.7 408.9, 482.9 410.5 Q 484.1 412.2, 484.1 415.4 Q 484.1 419.0, 482.6 420.9 Q 481.1 422.8, 478.2 422.8 Q 477.4 422.8, 476.6 422.6 Q 475.9 422.4, 475.2 422.0 L 476.0 420.7 Q 477.0 421.2, 478.2 421.2 Q 480.1 421.2, 481.1 420.0 Q 482.0 418.7, 482.2 416.2 Q 481.5 416.8, 480.6 417.2 Q 479.7 417.5, 478.8 417.5 Q 477.6 417.5, 476.7 417.0 Q 475.7 416.5, 475.2 415.5 Q 474.7 414.6, 474.7 413.4 Q 474.7 412.1, 475.3 411.1 Q 475.9 410.0, 476.9 409.5 Q 477.9 408.9, 479.2 408.9 M 476.6 413.4 Q 476.6 414.6, 477.3 415.3 Q 477.9 416.0, 479.1 416.0 Q 480.0 416.0, 480.8 415.6 Q 481.6 415.3, 482.2 414.7 Q 482.1 412.5, 481.4 411.5 Q 480.7 410.5, 479.2 410.5 Q 478.5 410.5, 477.9 410.8 Q 477.3 411.2, 476.9 411.9 Q 476.6 412.6, 476.6 413.4 \" fill=\"#000000\"/>\n",
       "<path class=\"note\" d=\"M 358.5 450.0 L 361.4 450.0 L 361.4 439.9 L 358.2 440.9 L 357.7 439.7 L 361.9 437.9 L 363.2 438.1 L 363.2 450.0 L 365.9 450.0 L 365.9 451.5 L 358.5 451.5 L 358.5 450.0 \" fill=\"#000000\"/>\n",
       "<path class=\"note\" d=\"M 372.0 451.7 Q 369.5 451.7, 368.3 449.8 Q 367.1 448.0, 367.1 444.7 Q 367.1 441.4, 368.3 439.6 Q 369.5 437.8, 372.0 437.8 Q 374.5 437.8, 375.8 439.6 Q 377.0 441.4, 377.0 444.7 Q 377.0 448.0, 375.8 449.8 Q 374.5 451.7, 372.0 451.7 M 372.0 450.1 Q 373.5 450.1, 374.3 448.8 Q 375.1 447.4, 375.1 444.7 Q 375.1 442.1, 374.3 440.7 Q 373.5 439.3, 372.0 439.3 Q 370.6 439.3, 369.8 440.7 Q 369.0 442.1, 369.0 444.7 Q 369.0 447.4, 369.8 448.8 Q 370.6 450.1, 372.0 450.1 \" fill=\"#000000\"/>\n",
       "</svg>"
      ],
      "text/plain": [
       "<IPython.core.display.SVG object>"
      ]
     },
     "metadata": {},
     "output_type": "display_data"
    }
   ],
   "source": [
    "draw(graphsage,dataset)"
   ]
  },
  {
   "cell_type": "markdown",
   "id": "d26c1acf",
   "metadata": {},
   "source": [
    "## SubgraphX "
   ]
  },
  {
   "cell_type": "code",
   "execution_count": 78,
   "id": "c6d606dd",
   "metadata": {},
   "outputs": [
    {
     "name": "stdout",
     "output_type": "stream",
     "text": [
      "use CPU\n"
     ]
    }
   ],
   "source": [
    "from utils.mcts import MCTS, reward_func\n",
    "from utils.configures_shap import mcts_args, reward_args\n",
    "from utils.shapley import GnnNets_GC2value_func\n",
    "from scipy.sparse import coo_matrix\n",
    "def find_closest_node_result(results, max_nodes):\n",
    "    results = sorted(results, key=lambda x: x.P, reverse=True)\n",
    "    results = sorted(results, key=lambda x: len(x.coalition))\n",
    "    result_node = results[0]\n",
    "    for result_idx in range(len(results)):\n",
    "        x = results[result_idx]\n",
    "        if len(x.coalition) <= max_nodes and x.P > result_node.P:\n",
    "            result_node = x\n",
    "    return result_node"
   ]
  },
  {
   "cell_type": "code",
   "execution_count": 79,
   "id": "caf6ef8f",
   "metadata": {},
   "outputs": [],
   "source": [
    "def draw(model,datasets):\n",
    "    model.eval()\n",
    "    smiles, bg, label, masks = dataset[0]\n",
    "    n_feats = bg.ndata['hv']\n",
    "    pred = model.forward(bg, n_feats)\n",
    "    value_func = GnnNets_GC2value_func(model)\n",
    "    mol = Chem.MolFromSmiles(smiles[0])\n",
    "    adj_arr = Chem.GetAdjacencyMatrix(mol)\n",
    "    coo_A = coo_matrix(adj_arr)\n",
    "    b = [coo_A.row.tolist(), coo_A.col.tolist()]\n",
    "    edges_index = torch.tensor(b)\n",
    "    payoff_func = reward_func(reward_args, value_func)\n",
    "    mcts_state_map = MCTS(dataset[0], edges_index,\n",
    "                          score_func=payoff_func,\n",
    "                          n_rollout=mcts_args.rollout,\n",
    "                          min_atoms=mcts_args.min_atoms,\n",
    "                          c_puct=mcts_args.c_puct,\n",
    "                          expand_atoms=mcts_args.expand_atoms\n",
    "                          )\n",
    "    results = mcts_state_map.mcts(verbose=True)\n",
    "    graph_node_x = find_closest_node_result(results, max_nodes=50)\n",
    "    masked_node_list = [node for node in list(range(graph_node_x.ori_graph.ndata['hv'].shape[0]))\n",
    "                        if node not in graph_node_x.coalition]\n",
    "    atoms = np.arange(n_feats.shape[0]).tolist()\n",
    "    nodes = []\n",
    "    for n in atoms:\n",
    "        if n in masked_node_list:\n",
    "            nodes.append(0)\n",
    "        else:\n",
    "            nodes.append(1)\n",
    "    m = Chem.MolFromSmiles(smiles)\n",
    "    rdDepictor.Compute2DCoords(m)\n",
    "    drawer = rdMolDraw2D.MolDraw2DSVG(650,650)\n",
    "    drawer.SetFontSize(1200)\n",
    "    op = drawer.drawOptions().addAtomIndices=True\n",
    "    mol = rdMolDraw2D.PrepareMolForDrawing(m)\n",
    "    c=nodes\n",
    "    important_index = []\n",
    "    for i, value in enumerate(c):\n",
    "        if value == 1:\n",
    "            important_index.append(i)\n",
    "    colors = [(51,34,136),(17,119,51),(68,170,153),(136,204,238),(221,204,119),(204,102,119),(170,68,153),(206,95,115)]\n",
    "    for i,x in enumerate(colors):\n",
    "        colors[i] = tuple(y/255 for y in x)\n",
    "    atom_cols={}\n",
    "    for bd in important_index:\n",
    "        atom_cols[bd] = colors[i%9]\n",
    "    drawer.DrawMolecule(m,highlightAtoms= important_index,highlightBonds=None,highlightAtomColors=atom_cols,\n",
    "                        highlightAtomRadii={i: .4 for i in important_index}\n",
    "                               )\n",
    "    drawer.drawOptions().useBWAtomPalette()\n",
    "    drawer.drawOptions().padding = .2\n",
    "    drawer.FinishDrawing()\n",
    "    svg = drawer.GetDrawingText()\n",
    "    svg = svg.replace('svg:','')\n",
    "    display(SVG(svg))"
   ]
  },
  {
   "cell_type": "code",
   "execution_count": 80,
   "id": "a8bf7ce8",
   "metadata": {
    "scrolled": false
   },
   "outputs": [
    {
     "name": "stdout",
     "output_type": "stream",
     "text": [
      "The nodes in graph is 11\n"
     ]
    },
    {
     "name": "stderr",
     "output_type": "stream",
     "text": [
      "D:\\anaconda\\envs\\rdk\\lib\\site-packages\\torch_geometric\\deprecation.py:13: UserWarning: 'data.DataLoader' is deprecated, use 'loader.DataLoader' instead\n",
      "  warnings.warn(out)\n"
     ]
    },
    {
     "name": "stdout",
     "output_type": "stream",
     "text": [
      "At the 0 rollout, 42 states that have been explored.\n",
      "At the 1 rollout, 52 states that have been explored.\n",
      "At the 2 rollout, 69 states that have been explored.\n",
      "At the 3 rollout, 80 states that have been explored.\n",
      "At the 4 rollout, 83 states that have been explored.\n"
     ]
    },
    {
     "data": {
      "image/svg+xml": [
       "<svg baseProfile=\"full\" height=\"650px\" version=\"1.1\" viewBox=\"0 0 650 650\" width=\"650px\" xml:space=\"preserve\" xmlns=\"http://www.w3.org/2000/svg\" xmlns:rdkit=\"http://www.rdkit.org/xml\" xmlns:xlink=\"http://www.w3.org/1999/xlink\">\n",
       "<!-- END OF HEADER -->\n",
       "<rect height=\"650.0\" style=\"opacity:1.0;fill:#FFFFFF;stroke:none\" width=\"650.0\" x=\"0.0\" y=\"0.0\"> </rect>\n",
       "<ellipse cx=\"55.1\" cy=\"343.4\" rx=\"25.5\" ry=\"25.5\" style=\"fill:#CE5F73;fill-rule:evenodd;stroke:#CE5F73;stroke-width:1.0px;stroke-linecap:butt;stroke-linejoin:miter;stroke-opacity:1\"/>\n",
       "<ellipse cx=\"172.4\" cy=\"226.3\" rx=\"25.5\" ry=\"25.5\" style=\"fill:#CE5F73;fill-rule:evenodd;stroke:#CE5F73;stroke-width:1.0px;stroke-linecap:butt;stroke-linejoin:miter;stroke-opacity:1\"/>\n",
       "<ellipse cx=\"215.3\" cy=\"401.2\" rx=\"25.5\" ry=\"40.3\" style=\"fill:#CE5F73;fill-rule:evenodd;stroke:#CE5F73;stroke-width:1.0px;stroke-linecap:butt;stroke-linejoin:miter;stroke-opacity:1\"/>\n",
       "<ellipse cx=\"332.6\" cy=\"269.0\" rx=\"25.5\" ry=\"25.5\" style=\"fill:#CE5F73;fill-rule:evenodd;stroke:#CE5F73;stroke-width:1.0px;stroke-linecap:butt;stroke-linejoin:miter;stroke-opacity:1\"/>\n",
       "<ellipse cx=\"425.2\" cy=\"244.2\" rx=\"25.5\" ry=\"25.5\" style=\"fill:#CE5F73;fill-rule:evenodd;stroke:#CE5F73;stroke-width:1.0px;stroke-linecap:butt;stroke-linejoin:miter;stroke-opacity:1\"/>\n",
       "<ellipse cx=\"468.1\" cy=\"404.5\" rx=\"25.5\" ry=\"25.5\" style=\"fill:#CE5F73;fill-rule:evenodd;stroke:#CE5F73;stroke-width:1.0px;stroke-linecap:butt;stroke-linejoin:miter;stroke-opacity:1\"/>\n",
       "<ellipse cx=\"375.6\" cy=\"429.2\" rx=\"25.5\" ry=\"25.5\" style=\"fill:#CE5F73;fill-rule:evenodd;stroke:#CE5F73;stroke-width:1.0px;stroke-linecap:butt;stroke-linejoin:miter;stroke-opacity:1\"/>\n",
       "<path class=\"bond-0 atom-0 atom-1\" d=\"M 55.1,343.4 L 147.6,318.6\" style=\"fill:none;fill-rule:evenodd;stroke:#000000;stroke-width:2.0px;stroke-linecap:butt;stroke-linejoin:miter;stroke-opacity:1\"/>\n",
       "<path class=\"bond-1 atom-1 atom-2\" d=\"M 156.9,321.1 L 167.0,283.1\" style=\"fill:none;fill-rule:evenodd;stroke:#000000;stroke-width:2.0px;stroke-linecap:butt;stroke-linejoin:miter;stroke-opacity:1\"/>\n",
       "<path class=\"bond-1 atom-1 atom-2\" d=\"M 167.0,283.1 L 177.2,245.1\" style=\"fill:none;fill-rule:evenodd;stroke:#FF0000;stroke-width:2.0px;stroke-linecap:butt;stroke-linejoin:miter;stroke-opacity:1\"/>\n",
       "<path class=\"bond-1 atom-1 atom-2\" d=\"M 138.4,316.1 L 148.5,278.1\" style=\"fill:none;fill-rule:evenodd;stroke:#000000;stroke-width:2.0px;stroke-linecap:butt;stroke-linejoin:miter;stroke-opacity:1\"/>\n",
       "<path class=\"bond-1 atom-1 atom-2\" d=\"M 148.5,278.1 L 158.7,240.1\" style=\"fill:none;fill-rule:evenodd;stroke:#FF0000;stroke-width:2.0px;stroke-linecap:butt;stroke-linejoin:miter;stroke-opacity:1\"/>\n",
       "<path class=\"bond-2 atom-1 atom-3\" d=\"M 147.6,318.6 L 175.1,346.1\" style=\"fill:none;fill-rule:evenodd;stroke:#000000;stroke-width:2.0px;stroke-linecap:butt;stroke-linejoin:miter;stroke-opacity:1\"/>\n",
       "<path class=\"bond-2 atom-1 atom-3\" d=\"M 175.1,346.1 L 202.7,373.6\" style=\"fill:none;fill-rule:evenodd;stroke:#0000FF;stroke-width:2.0px;stroke-linecap:butt;stroke-linejoin:miter;stroke-opacity:1\"/>\n",
       "<path class=\"bond-3 atom-3 atom-4\" d=\"M 228.0,382.9 L 267.9,372.2\" style=\"fill:none;fill-rule:evenodd;stroke:#0000FF;stroke-width:2.0px;stroke-linecap:butt;stroke-linejoin:miter;stroke-opacity:1\"/>\n",
       "<path class=\"bond-3 atom-3 atom-4\" d=\"M 267.9,372.2 L 307.9,361.5\" style=\"fill:none;fill-rule:evenodd;stroke:#000000;stroke-width:2.0px;stroke-linecap:butt;stroke-linejoin:miter;stroke-opacity:1\"/>\n",
       "<path class=\"bond-4 atom-4 atom-5\" d=\"M 307.9,361.5 L 332.6,269.0\" style=\"fill:none;fill-rule:evenodd;stroke:#000000;stroke-width:2.0px;stroke-linecap:butt;stroke-linejoin:miter;stroke-opacity:1\"/>\n",
       "<path class=\"bond-4 atom-4 atom-5\" d=\"M 330.1,352.6 L 347.4,287.8\" style=\"fill:none;fill-rule:evenodd;stroke:#000000;stroke-width:2.0px;stroke-linecap:butt;stroke-linejoin:miter;stroke-opacity:1\"/>\n",
       "<path class=\"bond-10 atom-10 atom-4\" d=\"M 375.6,429.2 L 307.9,361.5\" style=\"fill:none;fill-rule:evenodd;stroke:#000000;stroke-width:2.0px;stroke-linecap:butt;stroke-linejoin:miter;stroke-opacity:1\"/>\n",
       "<path class=\"bond-5 atom-5 atom-6\" d=\"M 332.6,269.0 L 425.2,244.2\" style=\"fill:none;fill-rule:evenodd;stroke:#000000;stroke-width:2.0px;stroke-linecap:butt;stroke-linejoin:miter;stroke-opacity:1\"/>\n",
       "<path class=\"bond-6 atom-6 atom-7\" d=\"M 425.2,244.2 L 492.9,311.9\" style=\"fill:none;fill-rule:evenodd;stroke:#000000;stroke-width:2.0px;stroke-linecap:butt;stroke-linejoin:miter;stroke-opacity:1\"/>\n",
       "<path class=\"bond-6 atom-6 atom-7\" d=\"M 421.8,267.9 L 469.2,315.3\" style=\"fill:none;fill-rule:evenodd;stroke:#000000;stroke-width:2.0px;stroke-linecap:butt;stroke-linejoin:miter;stroke-opacity:1\"/>\n",
       "<path class=\"bond-7 atom-7 atom-8\" d=\"M 492.9,311.9 L 531.7,301.5\" style=\"fill:none;fill-rule:evenodd;stroke:#000000;stroke-width:2.0px;stroke-linecap:butt;stroke-linejoin:miter;stroke-opacity:1\"/>\n",
       "<path class=\"bond-7 atom-7 atom-8\" d=\"M 531.7,301.5 L 570.6,291.1\" style=\"fill:none;fill-rule:evenodd;stroke:#FF0000;stroke-width:2.0px;stroke-linecap:butt;stroke-linejoin:miter;stroke-opacity:1\"/>\n",
       "<path class=\"bond-8 atom-7 atom-9\" d=\"M 492.9,311.9 L 468.1,404.5\" style=\"fill:none;fill-rule:evenodd;stroke:#000000;stroke-width:2.0px;stroke-linecap:butt;stroke-linejoin:miter;stroke-opacity:1\"/>\n",
       "<path class=\"bond-9 atom-9 atom-10\" d=\"M 468.1,404.5 L 375.6,429.2\" style=\"fill:none;fill-rule:evenodd;stroke:#000000;stroke-width:2.0px;stroke-linecap:butt;stroke-linejoin:miter;stroke-opacity:1\"/>\n",
       "<path class=\"bond-9 atom-9 atom-10\" d=\"M 449.3,389.7 L 384.5,407.0\" style=\"fill:none;fill-rule:evenodd;stroke:#000000;stroke-width:2.0px;stroke-linecap:butt;stroke-linejoin:miter;stroke-opacity:1\"/>\n",
       "<path class=\"atom-2\" d=\"M 159.9 226.1 Q 159.9 219.6, 163.2 216.0 Q 166.4 212.3, 172.4 212.3 Q 178.4 212.3, 181.6 216.0 Q 184.8 219.6, 184.8 226.1 Q 184.8 232.7, 181.6 236.5 Q 178.3 240.2, 172.4 240.2 Q 166.4 240.2, 163.2 236.5 Q 159.9 232.8, 159.9 226.1 M 172.4 237.1 Q 176.5 237.1, 178.8 234.4 Q 181.0 231.6, 181.0 226.1 Q 181.0 220.8, 178.8 218.1 Q 176.5 215.4, 172.4 215.4 Q 168.3 215.4, 166.0 218.1 Q 163.8 220.8, 163.8 226.1 Q 163.8 231.6, 166.0 234.4 Q 168.3 237.1, 172.4 237.1 \" fill=\"#FF0000\"/>\n",
       "<path class=\"atom-3\" d=\"M 209.3 372.7 L 218.2 387.1 Q 219.1 388.5, 220.5 391.1 Q 221.9 393.7, 222.0 393.8 L 222.0 372.7 L 225.6 372.7 L 225.6 399.9 L 221.9 399.9 L 212.4 384.2 Q 211.3 382.3, 210.1 380.2 Q 208.9 378.1, 208.6 377.5 L 208.6 399.9 L 205.0 399.9 L 205.0 372.7 L 209.3 372.7 \" fill=\"#0000FF\"/>\n",
       "<path class=\"atom-3\" d=\"M 204.7 402.6 L 208.4 402.6 L 208.4 414.1 L 222.3 414.1 L 222.3 402.6 L 225.9 402.6 L 225.9 429.7 L 222.3 429.7 L 222.3 417.2 L 208.4 417.2 L 208.4 429.7 L 204.7 429.7 L 204.7 402.6 \" fill=\"#0000FF\"/>\n",
       "<path class=\"atom-8\" d=\"M 573.0 287.2 Q 573.0 280.7, 576.2 277.1 Q 579.4 273.4, 585.4 273.4 Q 591.4 273.4, 594.6 277.1 Q 597.9 280.7, 597.9 287.2 Q 597.9 293.8, 594.6 297.6 Q 591.4 301.3, 585.4 301.3 Q 579.4 301.3, 576.2 297.6 Q 573.0 293.8, 573.0 287.2 M 585.4 298.2 Q 589.5 298.2, 591.8 295.5 Q 594.0 292.7, 594.0 287.2 Q 594.0 281.9, 591.8 279.2 Q 589.5 276.5, 585.4 276.5 Q 581.3 276.5, 579.0 279.2 Q 576.8 281.9, 576.8 287.2 Q 576.8 292.7, 579.0 295.5 Q 581.3 298.2, 585.4 298.2 \" fill=\"#FF0000\"/>\n",
       "<path class=\"atom-8\" d=\"M 601.1 273.7 L 604.8 273.7 L 604.8 285.3 L 618.7 285.3 L 618.7 273.7 L 622.3 273.7 L 622.3 300.9 L 618.7 300.9 L 618.7 288.3 L 604.8 288.3 L 604.8 300.9 L 601.1 300.9 L 601.1 273.7 \" fill=\"#FF0000\"/>\n",
       "<path class=\"note\" d=\"M 59.2 365.8 Q 56.7 365.8, 55.5 364.0 Q 54.3 362.1, 54.3 358.8 Q 54.3 355.6, 55.5 353.7 Q 56.7 351.9, 59.2 351.9 Q 61.7 351.9, 63.0 353.7 Q 64.2 355.6, 64.2 358.8 Q 64.2 362.1, 62.9 364.0 Q 61.7 365.8, 59.2 365.8 M 59.2 364.3 Q 60.7 364.3, 61.5 362.9 Q 62.3 361.5, 62.3 358.8 Q 62.3 356.2, 61.5 354.8 Q 60.7 353.5, 59.2 353.5 Q 57.8 353.5, 57.0 354.8 Q 56.2 356.2, 56.2 358.8 Q 56.2 361.5, 57.0 362.9 Q 57.8 364.3, 59.2 364.3 \" fill=\"#000000\"/>\n",
       "<path class=\"note\" d=\"M 133.0 312.6 L 135.9 312.6 L 135.9 302.4 L 132.7 303.5 L 132.2 302.3 L 136.4 300.5 L 137.7 300.7 L 137.7 312.6 L 140.4 312.6 L 140.4 314.1 L 133.0 314.1 L 133.0 312.6 \" fill=\"#000000\"/>\n",
       "<path class=\"note\" d=\"M 176.1 191.1 Q 176.6 189.8, 177.8 189.1 Q 179.0 188.4, 180.7 188.4 Q 182.7 188.4, 183.9 189.5 Q 185.0 190.6, 185.0 192.6 Q 185.0 194.6, 183.5 196.4 Q 182.0 198.3, 179.0 200.5 L 185.2 200.5 L 185.2 202.1 L 176.1 202.1 L 176.1 200.8 Q 178.6 199.0, 180.1 197.6 Q 181.6 196.3, 182.4 195.1 Q 183.1 193.9, 183.1 192.6 Q 183.1 191.3, 182.4 190.6 Q 181.8 189.9, 180.7 189.9 Q 179.6 189.9, 178.8 190.3 Q 178.1 190.8, 177.6 191.7 L 176.1 191.1 \" fill=\"#000000\"/>\n",
       "<path class=\"note\" d=\"M 225.6 355.2 Q 226.9 355.6, 227.5 356.4 Q 228.2 357.3, 228.2 358.6 Q 228.2 359.8, 227.6 360.7 Q 227.0 361.5, 226.0 362.0 Q 224.9 362.5, 223.5 362.5 Q 222.1 362.5, 221.0 362.0 Q 219.9 361.5, 219.0 360.5 L 220.1 359.4 Q 221.0 360.3, 221.7 360.6 Q 222.4 361.0, 223.5 361.0 Q 224.7 361.0, 225.5 360.3 Q 226.2 359.7, 226.2 358.6 Q 226.2 357.2, 225.5 356.6 Q 224.7 356.0, 223.0 356.0 L 222.0 356.0 L 222.0 354.6 L 222.9 354.6 Q 224.4 354.6, 225.2 353.9 Q 226.0 353.3, 226.0 352.1 Q 226.0 351.2, 225.3 350.7 Q 224.7 350.1, 223.5 350.1 Q 222.4 350.1, 221.7 350.5 Q 221.0 350.9, 220.5 352.0 L 219.2 351.2 Q 219.6 350.1, 220.8 349.4 Q 221.9 348.6, 223.5 348.6 Q 225.5 348.6, 226.7 349.5 Q 227.9 350.5, 227.9 352.1 Q 227.9 353.2, 227.3 354.0 Q 226.7 354.7, 225.6 355.2 \" fill=\"#000000\"/>\n",
       "<path class=\"note\" d=\"M 300.2 352.4 L 301.8 352.4 L 301.8 353.9 L 300.2 353.9 L 300.2 357.0 L 298.4 357.0 L 298.4 353.9 L 291.3 353.9 L 291.3 352.7 L 297.3 343.4 L 300.2 343.4 L 300.2 352.4 M 293.6 352.4 L 298.4 352.4 L 298.4 344.7 L 293.6 352.4 \" fill=\"#000000\"/>\n",
       "<path class=\"note\" d=\"M 321.7 256.0 Q 322.9 256.0, 323.9 256.5 Q 324.8 257.0, 325.4 258.0 Q 325.9 258.9, 325.9 260.2 Q 325.9 261.6, 325.3 262.6 Q 324.6 263.6, 323.5 264.1 Q 322.4 264.6, 321.1 264.6 Q 319.9 264.6, 318.7 264.2 Q 317.6 263.7, 316.8 262.8 L 317.9 261.7 Q 318.6 262.3, 319.4 262.7 Q 320.3 263.1, 321.2 263.1 Q 322.4 263.1, 323.2 262.3 Q 324.0 261.6, 324.0 260.2 Q 324.0 258.8, 323.2 258.1 Q 322.4 257.4, 321.0 257.4 Q 319.9 257.4, 318.5 258.0 L 317.5 257.5 L 318.1 250.9 L 325.1 250.9 L 324.9 252.5 L 319.7 252.5 L 319.3 256.5 Q 320.5 256.0, 321.7 256.0 \" fill=\"#000000\"/>\n",
       "<path class=\"note\" d=\"M 429.9 227.2 Q 431.1 227.2, 432.0 227.7 Q 433.0 228.2, 433.5 229.1 Q 434.0 230.1, 434.0 231.3 Q 434.0 232.6, 433.4 233.6 Q 432.8 234.6, 431.8 235.2 Q 430.8 235.8, 429.4 235.8 Q 427.0 235.8, 425.8 234.2 Q 424.6 232.5, 424.6 229.3 Q 424.6 225.7, 426.1 223.8 Q 427.6 221.9, 430.5 221.9 Q 431.3 221.9, 432.0 222.1 Q 432.8 222.3, 433.5 222.7 L 432.7 224.0 Q 431.7 223.5, 430.5 223.5 Q 428.6 223.5, 427.6 224.7 Q 426.6 225.9, 426.5 228.5 Q 427.2 227.8, 428.1 227.5 Q 429.0 227.2, 429.9 227.2 M 429.5 234.2 Q 430.2 234.2, 430.8 233.8 Q 431.4 233.5, 431.7 232.8 Q 432.1 232.1, 432.1 231.3 Q 432.1 230.1, 431.4 229.4 Q 430.7 228.7, 429.6 228.7 Q 428.7 228.7, 427.9 229.1 Q 427.1 229.4, 426.5 230.0 Q 426.6 232.2, 427.3 233.2 Q 428.0 234.2, 429.5 234.2 \" fill=\"#000000\"/>\n",
       "<path class=\"note\" d=\"M 499.6 291.3 L 492.5 291.3 L 492.5 289.7 L 501.5 289.7 L 501.5 291.1 L 496.0 303.3 L 494.2 303.3 L 499.6 291.3 \" fill=\"#000000\"/>\n",
       "<path class=\"note\" d=\"M 618.4 278.6 Q 619.6 279.1, 620.3 279.9 Q 621.0 280.7, 621.0 282.0 Q 621.0 283.2, 620.4 284.1 Q 619.9 285.0, 618.8 285.4 Q 617.7 285.9, 616.3 285.9 Q 614.1 285.9, 612.8 284.9 Q 611.5 283.8, 611.5 282.0 Q 611.5 280.9, 612.0 280.1 Q 612.6 279.2, 613.8 278.6 Q 612.9 278.1, 612.4 277.4 Q 612.0 276.6, 612.0 275.5 Q 612.0 273.9, 613.1 273.0 Q 614.3 272.0, 616.3 272.0 Q 618.2 272.0, 619.4 273.0 Q 620.5 273.9, 620.5 275.5 Q 620.5 276.5, 620.0 277.2 Q 619.5 278.0, 618.4 278.6 M 616.3 273.5 Q 615.1 273.5, 614.5 274.0 Q 613.9 274.5, 613.9 275.5 Q 613.9 276.2, 614.3 276.7 Q 614.7 277.1, 615.3 277.4 Q 615.9 277.7, 617.1 278.1 Q 617.9 277.5, 618.3 276.9 Q 618.6 276.3, 618.6 275.5 Q 618.6 274.5, 618.0 274.0 Q 617.4 273.5, 616.3 273.5 M 616.3 284.5 Q 617.6 284.5, 618.4 283.8 Q 619.1 283.1, 619.1 282.0 Q 619.1 281.3, 618.7 280.8 Q 618.3 280.4, 617.7 280.1 Q 617.1 279.8, 616.0 279.5 L 615.2 279.2 Q 614.2 279.8, 613.8 280.4 Q 613.4 281.1, 613.4 282.0 Q 613.4 283.1, 614.2 283.8 Q 615.0 284.5, 616.3 284.5 \" fill=\"#000000\"/>\n",
       "<path class=\"note\" d=\"M 479.2 408.9 Q 481.7 408.9, 482.9 410.5 Q 484.1 412.2, 484.1 415.4 Q 484.1 419.0, 482.6 420.9 Q 481.1 422.8, 478.2 422.8 Q 477.4 422.8, 476.6 422.6 Q 475.9 422.4, 475.2 422.0 L 476.0 420.7 Q 477.0 421.2, 478.2 421.2 Q 480.1 421.2, 481.1 420.0 Q 482.0 418.7, 482.2 416.2 Q 481.5 416.8, 480.6 417.2 Q 479.7 417.5, 478.8 417.5 Q 477.6 417.5, 476.7 417.0 Q 475.7 416.5, 475.2 415.5 Q 474.7 414.6, 474.7 413.4 Q 474.7 412.1, 475.3 411.1 Q 475.9 410.0, 476.9 409.5 Q 477.9 408.9, 479.2 408.9 M 476.6 413.4 Q 476.6 414.6, 477.3 415.3 Q 477.9 416.0, 479.1 416.0 Q 480.0 416.0, 480.8 415.6 Q 481.6 415.3, 482.2 414.7 Q 482.1 412.5, 481.4 411.5 Q 480.7 410.5, 479.2 410.5 Q 478.5 410.5, 477.9 410.8 Q 477.3 411.2, 476.9 411.9 Q 476.6 412.6, 476.6 413.4 \" fill=\"#000000\"/>\n",
       "<path class=\"note\" d=\"M 358.5 450.0 L 361.4 450.0 L 361.4 439.9 L 358.2 440.9 L 357.7 439.7 L 361.9 437.9 L 363.2 438.1 L 363.2 450.0 L 365.9 450.0 L 365.9 451.5 L 358.5 451.5 L 358.5 450.0 \" fill=\"#000000\"/>\n",
       "<path class=\"note\" d=\"M 372.0 451.7 Q 369.5 451.7, 368.3 449.8 Q 367.1 448.0, 367.1 444.7 Q 367.1 441.4, 368.3 439.6 Q 369.5 437.8, 372.0 437.8 Q 374.5 437.8, 375.8 439.6 Q 377.0 441.4, 377.0 444.7 Q 377.0 448.0, 375.8 449.8 Q 374.5 451.7, 372.0 451.7 M 372.0 450.1 Q 373.5 450.1, 374.3 448.8 Q 375.1 447.4, 375.1 444.7 Q 375.1 442.1, 374.3 440.7 Q 373.5 439.3, 372.0 439.3 Q 370.6 439.3, 369.8 440.7 Q 369.0 442.1, 369.0 444.7 Q 369.0 447.4, 369.8 448.8 Q 370.6 450.1, 372.0 450.1 \" fill=\"#000000\"/>\n",
       "</svg>"
      ],
      "text/plain": [
       "<IPython.core.display.SVG object>"
      ]
     },
     "metadata": {},
     "output_type": "display_data"
    }
   ],
   "source": [
    "draw(gcn,dataset)"
   ]
  },
  {
   "cell_type": "code",
   "execution_count": 17,
   "id": "a9223ac6",
   "metadata": {
    "scrolled": false
   },
   "outputs": [
    {
     "name": "stdout",
     "output_type": "stream",
     "text": [
      "The nodes in graph is 22\n",
      "At the 0 rollout, 181 states that have been explored.\n",
      "At the 1 rollout, 317 states that have been explored.\n",
      "At the 2 rollout, 430 states that have been explored.\n",
      "At the 3 rollout, 578 states that have been explored.\n",
      "At the 4 rollout, 702 states that have been explored.\n"
     ]
    },
    {
     "data": {
      "image/svg+xml": [
       "<svg baseProfile=\"full\" height=\"650px\" version=\"1.1\" viewBox=\"0 0 650 650\" width=\"650px\" xml:space=\"preserve\" xmlns=\"http://www.w3.org/2000/svg\" xmlns:rdkit=\"http://www.rdkit.org/xml\" xmlns:xlink=\"http://www.w3.org/1999/xlink\">\n",
       "<!-- END OF HEADER -->\n",
       "<rect height=\"650.0\" style=\"opacity:1.0;fill:#FFFFFF;stroke:none\" width=\"650.0\" x=\"0.0\" y=\"0.0\"> </rect>\n",
       "<ellipse cx=\"102.2\" cy=\"307.2\" rx=\"19.7\" ry=\"19.7\" style=\"fill:#CE5F73;fill-rule:evenodd;stroke:#CE5F73;stroke-width:1.0px;stroke-linecap:butt;stroke-linejoin:miter;stroke-opacity:1\"/>\n",
       "<ellipse cx=\"149.8\" cy=\"363.8\" rx=\"19.7\" ry=\"19.7\" style=\"fill:#CE5F73;fill-rule:evenodd;stroke:#CE5F73;stroke-width:1.0px;stroke-linecap:butt;stroke-linejoin:miter;stroke-opacity:1\"/>\n",
       "<ellipse cx=\"222.5\" cy=\"350.6\" rx=\"19.7\" ry=\"19.7\" style=\"fill:#CE5F73;fill-rule:evenodd;stroke:#CE5F73;stroke-width:1.0px;stroke-linecap:butt;stroke-linejoin:miter;stroke-opacity:1\"/>\n",
       "<ellipse cx=\"247.5\" cy=\"281.2\" rx=\"19.7\" ry=\"19.7\" style=\"fill:#CE5F73;fill-rule:evenodd;stroke:#CE5F73;stroke-width:1.0px;stroke-linecap:butt;stroke-linejoin:miter;stroke-opacity:1\"/>\n",
       "<ellipse cx=\"320.2\" cy=\"268.2\" rx=\"19.7\" ry=\"19.7\" style=\"fill:#CE5F73;fill-rule:evenodd;stroke:#CE5F73;stroke-width:1.0px;stroke-linecap:butt;stroke-linejoin:miter;stroke-opacity:1\"/>\n",
       "<ellipse cx=\"538.2\" cy=\"229.1\" rx=\"19.7\" ry=\"19.7\" style=\"fill:#CE5F73;fill-rule:evenodd;stroke:#CE5F73;stroke-width:1.0px;stroke-linecap:butt;stroke-linejoin:miter;stroke-opacity:1\"/>\n",
       "<ellipse cx=\"595.2\" cy=\"285.5\" rx=\"24.6\" ry=\"19.7\" style=\"fill:#CE5F73;fill-rule:evenodd;stroke:#CE5F73;stroke-width:1.0px;stroke-linecap:butt;stroke-linejoin:miter;stroke-opacity:1\"/>\n",
       "<ellipse cx=\"510.6\" cy=\"493.8\" rx=\"19.7\" ry=\"19.7\" style=\"fill:#CE5F73;fill-rule:evenodd;stroke:#CE5F73;stroke-width:1.0px;stroke-linecap:butt;stroke-linejoin:miter;stroke-opacity:1\"/>\n",
       "<ellipse cx=\"583.3\" cy=\"480.8\" rx=\"19.7\" ry=\"19.7\" style=\"fill:#CE5F73;fill-rule:evenodd;stroke:#CE5F73;stroke-width:1.0px;stroke-linecap:butt;stroke-linejoin:miter;stroke-opacity:1\"/>\n",
       "<ellipse cx=\"342.7\" cy=\"394.0\" rx=\"19.7\" ry=\"19.7\" style=\"fill:#CE5F73;fill-rule:evenodd;stroke:#CE5F73;stroke-width:1.0px;stroke-linecap:butt;stroke-linejoin:miter;stroke-opacity:1\"/>\n",
       "<ellipse cx=\"270.1\" cy=\"407.0\" rx=\"19.7\" ry=\"19.7\" style=\"fill:#CE5F73;fill-rule:evenodd;stroke:#CE5F73;stroke-width:1.0px;stroke-linecap:butt;stroke-linejoin:miter;stroke-opacity:1\"/>\n",
       "<ellipse cx=\"247.7\" cy=\"476.6\" rx=\"19.7\" ry=\"19.7\" style=\"fill:#CE5F73;fill-rule:evenodd;stroke:#CE5F73;stroke-width:1.0px;stroke-linecap:butt;stroke-linejoin:miter;stroke-opacity:1\"/>\n",
       "<path class=\"bond-0 atom-0 atom-1\" d=\"M 29.5,320.2 L 102.2,307.2\" style=\"fill:none;fill-rule:evenodd;stroke:#000000;stroke-width:2.0px;stroke-linecap:butt;stroke-linejoin:miter;stroke-opacity:1\"/>\n",
       "<path class=\"bond-1 atom-1 atom-2\" d=\"M 102.2,307.2 L 120.8,329.2\" style=\"fill:none;fill-rule:evenodd;stroke:#000000;stroke-width:2.0px;stroke-linecap:butt;stroke-linejoin:miter;stroke-opacity:1\"/>\n",
       "<path class=\"bond-1 atom-1 atom-2\" d=\"M 120.8,329.2 L 139.3,351.2\" style=\"fill:none;fill-rule:evenodd;stroke:#FF0000;stroke-width:2.0px;stroke-linecap:butt;stroke-linejoin:miter;stroke-opacity:1\"/>\n",
       "<path class=\"bond-2 atom-2 atom-3\" d=\"M 161.3,361.6 L 191.9,356.1\" style=\"fill:none;fill-rule:evenodd;stroke:#FF0000;stroke-width:2.0px;stroke-linecap:butt;stroke-linejoin:miter;stroke-opacity:1\"/>\n",
       "<path class=\"bond-2 atom-2 atom-3\" d=\"M 191.9,356.1 L 222.5,350.6\" style=\"fill:none;fill-rule:evenodd;stroke:#000000;stroke-width:2.0px;stroke-linecap:butt;stroke-linejoin:miter;stroke-opacity:1\"/>\n",
       "<path class=\"bond-3 atom-3 atom-4\" d=\"M 222.5,350.6 L 247.5,281.2\" style=\"fill:none;fill-rule:evenodd;stroke:#000000;stroke-width:2.0px;stroke-linecap:butt;stroke-linejoin:miter;stroke-opacity:1\"/>\n",
       "<path class=\"bond-3 atom-3 atom-4\" d=\"M 240.1,345.2 L 257.7,296.6\" style=\"fill:none;fill-rule:evenodd;stroke:#000000;stroke-width:2.0px;stroke-linecap:butt;stroke-linejoin:miter;stroke-opacity:1\"/>\n",
       "<path class=\"bond-21 atom-20 atom-3\" d=\"M 270.1,407.0 L 222.5,350.6\" style=\"fill:none;fill-rule:evenodd;stroke:#000000;stroke-width:2.0px;stroke-linecap:butt;stroke-linejoin:miter;stroke-opacity:1\"/>\n",
       "<path class=\"bond-4 atom-4 atom-5\" d=\"M 247.5,281.2 L 320.2,268.2\" style=\"fill:none;fill-rule:evenodd;stroke:#000000;stroke-width:2.0px;stroke-linecap:butt;stroke-linejoin:miter;stroke-opacity:1\"/>\n",
       "<path class=\"bond-5 atom-5 atom-6\" d=\"M 320.2,268.2 L 367.8,324.6\" style=\"fill:none;fill-rule:evenodd;stroke:#000000;stroke-width:2.0px;stroke-linecap:butt;stroke-linejoin:miter;stroke-opacity:1\"/>\n",
       "<path class=\"bond-5 atom-5 atom-6\" d=\"M 316.1,286.1 L 349.4,325.6\" style=\"fill:none;fill-rule:evenodd;stroke:#000000;stroke-width:2.0px;stroke-linecap:butt;stroke-linejoin:miter;stroke-opacity:1\"/>\n",
       "<path class=\"bond-6 atom-6 atom-7\" d=\"M 367.8,324.6 L 440.5,311.5\" style=\"fill:none;fill-rule:evenodd;stroke:#000000;stroke-width:2.0px;stroke-linecap:butt;stroke-linejoin:miter;stroke-opacity:1\"/>\n",
       "<path class=\"bond-18 atom-6 atom-19\" d=\"M 367.8,324.6 L 342.7,394.0\" style=\"fill:none;fill-rule:evenodd;stroke:#000000;stroke-width:2.0px;stroke-linecap:butt;stroke-linejoin:miter;stroke-opacity:1\"/>\n",
       "<path class=\"bond-7 atom-7 atom-8\" d=\"M 440.5,311.5 L 465.5,242.1\" style=\"fill:none;fill-rule:evenodd;stroke:#000000;stroke-width:2.0px;stroke-linecap:butt;stroke-linejoin:miter;stroke-opacity:1\"/>\n",
       "<path class=\"bond-22 atom-13 atom-7\" d=\"M 488.1,368.0 L 440.5,311.5\" style=\"fill:none;fill-rule:evenodd;stroke:#000000;stroke-width:2.0px;stroke-linecap:butt;stroke-linejoin:miter;stroke-opacity:1\"/>\n",
       "<path class=\"bond-8 atom-8 atom-9\" d=\"M 465.5,242.1 L 538.2,229.1\" style=\"fill:none;fill-rule:evenodd;stroke:#000000;stroke-width:2.0px;stroke-linecap:butt;stroke-linejoin:miter;stroke-opacity:1\"/>\n",
       "<path class=\"bond-9 atom-9 atom-10\" d=\"M 545.1,231.6 L 555.4,203.2\" style=\"fill:none;fill-rule:evenodd;stroke:#000000;stroke-width:2.0px;stroke-linecap:butt;stroke-linejoin:miter;stroke-opacity:1\"/>\n",
       "<path class=\"bond-9 atom-9 atom-10\" d=\"M 555.4,203.2 L 565.6,174.9\" style=\"fill:none;fill-rule:evenodd;stroke:#FF0000;stroke-width:2.0px;stroke-linecap:butt;stroke-linejoin:miter;stroke-opacity:1\"/>\n",
       "<path class=\"bond-9 atom-9 atom-10\" d=\"M 531.2,226.6 L 541.5,198.2\" style=\"fill:none;fill-rule:evenodd;stroke:#000000;stroke-width:2.0px;stroke-linecap:butt;stroke-linejoin:miter;stroke-opacity:1\"/>\n",
       "<path class=\"bond-9 atom-9 atom-10\" d=\"M 541.5,198.2 L 551.7,169.9\" style=\"fill:none;fill-rule:evenodd;stroke:#FF0000;stroke-width:2.0px;stroke-linecap:butt;stroke-linejoin:miter;stroke-opacity:1\"/>\n",
       "<path class=\"bond-10 atom-9 atom-11\" d=\"M 538.2,229.1 L 557.1,251.5\" style=\"fill:none;fill-rule:evenodd;stroke:#000000;stroke-width:2.0px;stroke-linecap:butt;stroke-linejoin:miter;stroke-opacity:1\"/>\n",
       "<path class=\"bond-10 atom-9 atom-11\" d=\"M 557.1,251.5 L 576.0,273.9\" style=\"fill:none;fill-rule:evenodd;stroke:#0000FF;stroke-width:2.0px;stroke-linecap:butt;stroke-linejoin:miter;stroke-opacity:1\"/>\n",
       "<path class=\"bond-11 atom-11 atom-12\" d=\"M 581.4,297.8 L 571.0,326.4\" style=\"fill:none;fill-rule:evenodd;stroke:#0000FF;stroke-width:2.0px;stroke-linecap:butt;stroke-linejoin:miter;stroke-opacity:1\"/>\n",
       "<path class=\"bond-11 atom-11 atom-12\" d=\"M 571.0,326.4 L 560.7,354.9\" style=\"fill:none;fill-rule:evenodd;stroke:#000000;stroke-width:2.0px;stroke-linecap:butt;stroke-linejoin:miter;stroke-opacity:1\"/>\n",
       "<path class=\"bond-12 atom-12 atom-13\" d=\"M 560.7,354.9 L 488.1,368.0\" style=\"fill:none;fill-rule:evenodd;stroke:#000000;stroke-width:2.0px;stroke-linecap:butt;stroke-linejoin:miter;stroke-opacity:1\"/>\n",
       "<path class=\"bond-12 atom-12 atom-13\" d=\"M 547.2,342.4 L 496.4,351.5\" style=\"fill:none;fill-rule:evenodd;stroke:#000000;stroke-width:2.0px;stroke-linecap:butt;stroke-linejoin:miter;stroke-opacity:1\"/>\n",
       "<path class=\"bond-23 atom-18 atom-12\" d=\"M 608.3,411.4 L 560.7,354.9\" style=\"fill:none;fill-rule:evenodd;stroke:#000000;stroke-width:2.0px;stroke-linecap:butt;stroke-linejoin:miter;stroke-opacity:1\"/>\n",
       "<path class=\"bond-13 atom-13 atom-14\" d=\"M 488.1,368.0 L 463.0,437.4\" style=\"fill:none;fill-rule:evenodd;stroke:#000000;stroke-width:2.0px;stroke-linecap:butt;stroke-linejoin:miter;stroke-opacity:1\"/>\n",
       "<path class=\"bond-14 atom-14 atom-15\" d=\"M 461.7,430.1 L 431.1,435.6\" style=\"fill:none;fill-rule:evenodd;stroke:#000000;stroke-width:2.0px;stroke-linecap:butt;stroke-linejoin:miter;stroke-opacity:1\"/>\n",
       "<path class=\"bond-14 atom-14 atom-15\" d=\"M 431.1,435.6 L 400.5,441.1\" style=\"fill:none;fill-rule:evenodd;stroke:#FF0000;stroke-width:2.0px;stroke-linecap:butt;stroke-linejoin:miter;stroke-opacity:1\"/>\n",
       "<path class=\"bond-14 atom-14 atom-15\" d=\"M 464.3,444.7 L 433.7,450.2\" style=\"fill:none;fill-rule:evenodd;stroke:#000000;stroke-width:2.0px;stroke-linecap:butt;stroke-linejoin:miter;stroke-opacity:1\"/>\n",
       "<path class=\"bond-14 atom-14 atom-15\" d=\"M 433.7,450.2 L 403.1,455.6\" style=\"fill:none;fill-rule:evenodd;stroke:#FF0000;stroke-width:2.0px;stroke-linecap:butt;stroke-linejoin:miter;stroke-opacity:1\"/>\n",
       "<path class=\"bond-15 atom-14 atom-16\" d=\"M 463.0,437.4 L 510.6,493.8\" style=\"fill:none;fill-rule:evenodd;stroke:#000000;stroke-width:2.0px;stroke-linecap:butt;stroke-linejoin:miter;stroke-opacity:1\"/>\n",
       "<path class=\"bond-16 atom-16 atom-17\" d=\"M 510.6,493.8 L 583.3,480.8\" style=\"fill:none;fill-rule:evenodd;stroke:#000000;stroke-width:2.0px;stroke-linecap:butt;stroke-linejoin:miter;stroke-opacity:1\"/>\n",
       "<path class=\"bond-17 atom-17 atom-18\" d=\"M 583.3,480.8 L 608.3,411.4\" style=\"fill:none;fill-rule:evenodd;stroke:#000000;stroke-width:2.0px;stroke-linecap:butt;stroke-linejoin:miter;stroke-opacity:1\"/>\n",
       "<path class=\"bond-19 atom-19 atom-20\" d=\"M 342.7,394.0 L 270.1,407.0\" style=\"fill:none;fill-rule:evenodd;stroke:#000000;stroke-width:2.0px;stroke-linecap:butt;stroke-linejoin:miter;stroke-opacity:1\"/>\n",
       "<path class=\"bond-19 atom-19 atom-20\" d=\"M 329.2,381.4 L 278.4,390.5\" style=\"fill:none;fill-rule:evenodd;stroke:#000000;stroke-width:2.0px;stroke-linecap:butt;stroke-linejoin:miter;stroke-opacity:1\"/>\n",
       "<path class=\"bond-20 atom-20 atom-21\" d=\"M 270.1,407.0 L 259.7,435.9\" style=\"fill:none;fill-rule:evenodd;stroke:#000000;stroke-width:2.0px;stroke-linecap:butt;stroke-linejoin:miter;stroke-opacity:1\"/>\n",
       "<path class=\"bond-20 atom-20 atom-21\" d=\"M 259.7,435.9 L 249.3,464.7\" style=\"fill:none;fill-rule:evenodd;stroke:#00CC00;stroke-width:2.0px;stroke-linecap:butt;stroke-linejoin:miter;stroke-opacity:1\"/>\n",
       "<path class=\"atom-2\" d=\"M 140.2 363.7 Q 140.2 358.7, 142.7 355.9 Q 145.2 353.1, 149.8 353.1 Q 154.5 353.1, 156.9 355.9 Q 159.4 358.7, 159.4 363.7 Q 159.4 368.8, 156.9 371.7 Q 154.4 374.5, 149.8 374.5 Q 145.2 374.5, 142.7 371.7 Q 140.2 368.8, 140.2 363.7 M 149.8 372.2 Q 153.0 372.2, 154.7 370.0 Q 156.5 367.9, 156.5 363.7 Q 156.5 359.6, 154.7 357.5 Q 153.0 355.4, 149.8 355.4 Q 146.6 355.4, 144.9 357.5 Q 143.2 359.6, 143.2 363.7 Q 143.2 367.9, 144.9 370.0 Q 146.6 372.2, 149.8 372.2 \" fill=\"#FF0000\"/>\n",
       "<path class=\"atom-10\" d=\"M 553.6 159.7 Q 553.6 154.7, 556.1 151.9 Q 558.6 149.1, 563.2 149.1 Q 567.9 149.1, 570.3 151.9 Q 572.8 154.7, 572.8 159.7 Q 572.8 164.8, 570.3 167.7 Q 567.8 170.5, 563.2 170.5 Q 558.6 170.5, 556.1 167.7 Q 553.6 164.8, 553.6 159.7 M 563.2 168.2 Q 566.4 168.2, 568.1 166.1 Q 569.9 163.9, 569.9 159.7 Q 569.9 155.6, 568.1 153.5 Q 566.4 151.4, 563.2 151.4 Q 560.0 151.4, 558.3 153.5 Q 556.6 155.6, 556.6 159.7 Q 556.6 163.9, 558.3 166.1 Q 560.0 168.2, 563.2 168.2 \" fill=\"#FF0000\"/>\n",
       "<path class=\"atom-11\" d=\"M 581.2 275.0 L 588.0 286.1 Q 588.7 287.2, 589.8 289.2 Q 590.9 291.2, 590.9 291.3 L 590.9 275.0 L 593.7 275.0 L 593.7 296.0 L 590.9 296.0 L 583.5 283.8 Q 582.6 282.4, 581.7 280.8 Q 580.8 279.2, 580.6 278.7 L 580.6 296.0 L 577.9 296.0 L 577.9 275.0 L 581.2 275.0 \" fill=\"#0000FF\"/>\n",
       "<path class=\"atom-11\" d=\"M 596.2 275.0 L 599.1 275.0 L 599.1 283.9 L 609.8 283.9 L 609.8 275.0 L 612.6 275.0 L 612.6 296.0 L 609.8 296.0 L 609.8 286.3 L 599.1 286.3 L 599.1 296.0 L 596.2 296.0 L 596.2 275.0 \" fill=\"#0000FF\"/>\n",
       "<path class=\"atom-15\" d=\"M 380.8 450.5 Q 380.8 445.5, 383.2 442.7 Q 385.7 439.9, 390.4 439.9 Q 395.0 439.9, 397.5 442.7 Q 400.0 445.5, 400.0 450.5 Q 400.0 455.6, 397.4 458.5 Q 394.9 461.3, 390.4 461.3 Q 385.8 461.3, 383.2 458.5 Q 380.8 455.6, 380.8 450.5 M 390.4 459.0 Q 393.5 459.0, 395.3 456.8 Q 397.0 454.7, 397.0 450.5 Q 397.0 446.4, 395.3 444.3 Q 393.5 442.2, 390.4 442.2 Q 387.2 442.2, 385.4 444.3 Q 383.7 446.3, 383.7 450.5 Q 383.7 454.7, 385.4 456.8 Q 387.2 459.0, 390.4 459.0 \" fill=\"#FF0000\"/>\n",
       "<path class=\"atom-21\" d=\"M 237.0 477.2 Q 237.0 472.0, 239.4 469.3 Q 241.8 466.5, 246.5 466.5 Q 250.8 466.5, 253.1 469.6 L 251.1 471.2 Q 249.5 469.0, 246.5 469.0 Q 243.3 469.0, 241.6 471.1 Q 240.0 473.2, 240.0 477.2 Q 240.0 481.3, 241.7 483.5 Q 243.4 485.6, 246.8 485.6 Q 249.1 485.6, 251.8 484.2 L 252.6 486.4 Q 251.5 487.1, 249.9 487.5 Q 248.2 487.9, 246.4 487.9 Q 241.8 487.9, 239.4 485.2 Q 237.0 482.4, 237.0 477.2 \" fill=\"#00CC00\"/>\n",
       "<path class=\"atom-21\" d=\"M 255.6 465.3 L 258.4 465.3 L 258.4 487.7 L 255.6 487.7 L 255.6 465.3 \" fill=\"#00CC00\"/>\n",
       "<path class=\"note\" d=\"M 31.7 337.8 Q 29.8 337.8, 28.8 336.3 Q 27.9 334.9, 27.9 332.4 Q 27.9 329.9, 28.8 328.5 Q 29.8 327.1, 31.7 327.1 Q 33.6 327.1, 34.6 328.5 Q 35.5 329.9, 35.5 332.4 Q 35.5 334.9, 34.6 336.3 Q 33.6 337.8, 31.7 337.8 M 31.7 336.6 Q 32.9 336.6, 33.5 335.5 Q 34.1 334.5, 34.1 332.4 Q 34.1 330.3, 33.5 329.3 Q 32.9 328.2, 31.7 328.2 Q 30.6 328.2, 30.0 329.3 Q 29.4 330.3, 29.4 332.4 Q 29.4 334.5, 30.0 335.5 Q 30.6 336.6, 31.7 336.6 \" fill=\"#000000\"/>\n",
       "<path class=\"note\" d=\"M 103.8 299.7 L 106.1 299.7 L 106.1 291.9 L 103.6 292.7 L 103.2 291.8 L 106.4 290.4 L 107.5 290.6 L 107.5 299.7 L 109.5 299.7 L 109.5 300.9 L 103.8 300.9 L 103.8 299.7 \" fill=\"#000000\"/>\n",
       "<path class=\"note\" d=\"M 138.0 383.6 Q 138.4 382.6, 139.3 382.1 Q 140.2 381.5, 141.5 381.5 Q 143.0 381.5, 143.9 382.4 Q 144.8 383.2, 144.8 384.7 Q 144.8 386.3, 143.7 387.7 Q 142.5 389.2, 140.2 390.9 L 145.0 390.9 L 145.0 392.1 L 137.9 392.1 L 137.9 391.1 Q 139.9 389.7, 141.0 388.7 Q 142.2 387.6, 142.8 386.7 Q 143.3 385.8, 143.3 384.8 Q 143.3 383.8, 142.8 383.2 Q 142.3 382.7, 141.5 382.7 Q 140.6 382.7, 140.1 383.0 Q 139.5 383.4, 139.1 384.1 L 138.0 383.6 \" fill=\"#000000\"/>\n",
       "<path class=\"note\" d=\"M 216.0 341.0 Q 217.1 341.3, 217.6 341.9 Q 218.1 342.6, 218.1 343.6 Q 218.1 344.5, 217.6 345.2 Q 217.2 345.9, 216.4 346.3 Q 215.5 346.6, 214.5 346.6 Q 213.4 346.6, 212.5 346.3 Q 211.7 345.9, 211.0 345.1 L 211.9 344.2 Q 212.5 344.9, 213.1 345.2 Q 213.6 345.5, 214.5 345.5 Q 215.4 345.5, 216.0 345.0 Q 216.6 344.4, 216.6 343.6 Q 216.6 342.6, 216.0 342.1 Q 215.4 341.6, 214.1 341.6 L 213.3 341.6 L 213.3 340.5 L 214.0 340.5 Q 215.1 340.5, 215.8 340.0 Q 216.4 339.5, 216.4 338.6 Q 216.4 337.9, 215.9 337.5 Q 215.4 337.1, 214.5 337.1 Q 213.6 337.1, 213.1 337.4 Q 212.6 337.7, 212.1 338.5 L 211.1 338.0 Q 211.5 337.1, 212.4 336.5 Q 213.3 335.9, 214.5 335.9 Q 216.0 335.9, 216.9 336.6 Q 217.8 337.4, 217.8 338.6 Q 217.8 339.4, 217.4 340.0 Q 216.9 340.6, 216.0 341.0 \" fill=\"#000000\"/>\n",
       "<path class=\"note\" d=\"M 242.4 273.4 L 243.6 273.4 L 243.6 274.6 L 242.4 274.6 L 242.4 277.0 L 241.0 277.0 L 241.0 274.6 L 235.6 274.6 L 235.6 273.7 L 240.2 266.5 L 242.4 266.5 L 242.4 273.4 M 237.3 273.4 L 241.0 273.4 L 241.0 267.5 L 237.3 273.4 \" fill=\"#000000\"/>\n",
       "<path class=\"note\" d=\"M 324.6 255.3 Q 325.5 255.3, 326.3 255.7 Q 327.0 256.0, 327.5 256.8 Q 327.9 257.5, 327.9 258.5 Q 327.9 259.6, 327.4 260.4 Q 326.9 261.1, 326.0 261.5 Q 325.1 261.9, 324.2 261.9 Q 323.2 261.9, 322.3 261.6 Q 321.4 261.2, 320.8 260.5 L 321.7 259.6 Q 322.2 260.2, 322.9 260.4 Q 323.5 260.7, 324.2 260.7 Q 325.1 260.7, 325.8 260.2 Q 326.4 259.6, 326.4 258.5 Q 326.4 257.4, 325.8 256.9 Q 325.1 256.4, 324.1 256.4 Q 323.2 256.4, 322.2 256.8 L 321.4 256.4 L 321.9 251.4 L 327.3 251.4 L 327.1 252.5 L 323.1 252.5 L 322.8 255.6 Q 323.7 255.3, 324.6 255.3 \" fill=\"#000000\"/>\n",
       "<path class=\"note\" d=\"M 372.4 311.8 Q 373.4 311.8, 374.1 312.2 Q 374.8 312.6, 375.2 313.3 Q 375.6 314.0, 375.6 314.9 Q 375.6 315.9, 375.1 316.7 Q 374.7 317.5, 373.9 318.0 Q 373.1 318.4, 372.1 318.4 Q 370.2 318.4, 369.3 317.1 Q 368.4 315.9, 368.4 313.4 Q 368.4 310.6, 369.5 309.2 Q 370.7 307.7, 372.9 307.7 Q 373.6 307.7, 374.1 307.9 Q 374.7 308.0, 375.2 308.3 L 374.6 309.3 Q 373.8 308.9, 372.9 308.9 Q 371.4 308.9, 370.7 309.8 Q 369.9 310.8, 369.8 312.8 Q 370.4 312.3, 371.0 312.0 Q 371.7 311.8, 372.4 311.8 M 372.1 317.2 Q 372.7 317.2, 373.1 316.9 Q 373.6 316.6, 373.9 316.1 Q 374.1 315.6, 374.1 314.9 Q 374.1 314.0, 373.6 313.5 Q 373.1 312.9, 372.2 312.9 Q 371.5 312.9, 370.9 313.2 Q 370.3 313.5, 369.8 313.9 Q 369.9 315.6, 370.4 316.4 Q 371.0 317.2, 372.1 317.2 \" fill=\"#000000\"/>\n",
       "<path class=\"note\" d=\"M 434.5 298.1 L 429.1 298.1 L 429.1 296.9 L 436.0 296.9 L 436.0 298.0 L 431.8 307.4 L 430.4 307.4 L 434.5 298.1 \" fill=\"#000000\"/>\n",
       "<path class=\"note\" d=\"M 459.2 232.5 Q 460.2 232.9, 460.7 233.5 Q 461.3 234.1, 461.3 235.1 Q 461.3 236.0, 460.8 236.7 Q 460.4 237.4, 459.5 237.8 Q 458.7 238.1, 457.6 238.1 Q 455.9 238.1, 454.9 237.3 Q 453.9 236.5, 453.9 235.1 Q 453.9 234.3, 454.3 233.6 Q 454.8 233.0, 455.7 232.5 Q 455.0 232.1, 454.6 231.6 Q 454.3 231.0, 454.3 230.1 Q 454.3 228.9, 455.2 228.1 Q 456.1 227.4, 457.6 227.4 Q 459.1 227.4, 460.0 228.1 Q 460.9 228.9, 460.9 230.1 Q 460.9 230.9, 460.5 231.4 Q 460.0 232.0, 459.2 232.5 M 457.6 228.5 Q 456.7 228.5, 456.2 228.9 Q 455.8 229.4, 455.8 230.1 Q 455.8 230.6, 456.1 231.0 Q 456.4 231.4, 456.9 231.6 Q 457.3 231.8, 458.2 232.1 Q 458.9 231.6, 459.1 231.2 Q 459.4 230.7, 459.4 230.1 Q 459.4 229.4, 458.9 228.9 Q 458.5 228.5, 457.6 228.5 M 457.6 237.0 Q 458.6 237.0, 459.2 236.5 Q 459.8 236.0, 459.8 235.1 Q 459.8 234.5, 459.5 234.2 Q 459.2 233.8, 458.7 233.6 Q 458.2 233.4, 457.4 233.2 L 456.8 232.9 Q 456.0 233.4, 455.7 233.9 Q 455.4 234.4, 455.4 235.1 Q 455.4 236.0, 456.0 236.5 Q 456.6 237.0, 457.6 237.0 \" fill=\"#000000\"/>\n",
       "<path class=\"note\" d=\"M 530.1 214.4 Q 532.0 214.4, 532.9 215.7 Q 533.9 216.9, 533.9 219.4 Q 533.9 222.2, 532.7 223.7 Q 531.6 225.1, 529.3 225.1 Q 528.7 225.1, 528.1 224.9 Q 527.6 224.8, 527.0 224.5 L 527.6 223.5 Q 528.4 223.9, 529.3 223.9 Q 530.8 223.9, 531.5 223.0 Q 532.3 222.0, 532.4 220.0 Q 531.8 220.5, 531.2 220.8 Q 530.5 221.0, 529.8 221.0 Q 528.9 221.0, 528.1 220.6 Q 527.4 220.2, 527.0 219.5 Q 526.6 218.8, 526.6 217.9 Q 526.6 216.9, 527.1 216.1 Q 527.5 215.3, 528.3 214.8 Q 529.1 214.4, 530.1 214.4 M 528.1 217.9 Q 528.1 218.8, 528.6 219.3 Q 529.1 219.9, 530.0 219.9 Q 530.7 219.9, 531.3 219.6 Q 531.9 219.3, 532.4 218.9 Q 532.3 217.2, 531.8 216.4 Q 531.2 215.6, 530.1 215.6 Q 529.6 215.6, 529.1 215.9 Q 528.6 216.2, 528.4 216.7 Q 528.1 217.2, 528.1 217.9 \" fill=\"#000000\"/>\n",
       "<path class=\"note\" d=\"M 561.6 140.6 L 563.9 140.6 L 563.9 132.8 L 561.3 133.6 L 561.0 132.7 L 564.2 131.3 L 565.3 131.5 L 565.3 140.6 L 567.3 140.6 L 567.3 141.8 L 561.6 141.8 L 561.6 140.6 \" fill=\"#000000\"/>\n",
       "<path class=\"note\" d=\"M 572.0 141.9 Q 570.1 141.9, 569.2 140.5 Q 568.2 139.1, 568.2 136.5 Q 568.2 134.0, 569.2 132.6 Q 570.1 131.2, 572.0 131.2 Q 574.0 131.2, 574.9 132.6 Q 575.9 134.0, 575.9 136.5 Q 575.9 139.1, 574.9 140.5 Q 574.0 141.9, 572.0 141.9 M 572.0 140.7 Q 573.2 140.7, 573.8 139.7 Q 574.4 138.6, 574.4 136.5 Q 574.4 134.5, 573.8 133.4 Q 573.2 132.4, 572.0 132.4 Q 570.9 132.4, 570.3 133.4 Q 569.7 134.5, 569.7 136.5 Q 569.7 138.6, 570.3 139.7 Q 570.9 140.7, 572.0 140.7 \" fill=\"#000000\"/>\n",
       "<path class=\"note\" d=\"M 552.3 293.9 L 554.6 293.9 L 554.6 286.1 L 552.1 286.9 L 551.7 286.0 L 554.9 284.6 L 556.0 284.8 L 556.0 293.9 L 558.0 293.9 L 558.0 295.1 L 552.3 295.1 L 552.3 293.9 \" fill=\"#000000\"/>\n",
       "<path class=\"note\" d=\"M 559.4 293.9 L 561.7 293.9 L 561.7 286.1 L 559.2 286.9 L 558.8 286.0 L 562.0 284.6 L 563.1 284.8 L 563.1 293.9 L 565.1 293.9 L 565.1 295.1 L 559.4 295.1 L 559.4 293.9 \" fill=\"#000000\"/>\n",
       "<path class=\"note\" d=\"M 543.2 349.6 L 545.5 349.6 L 545.5 341.8 L 542.9 342.6 L 542.6 341.7 L 545.8 340.3 L 546.9 340.5 L 546.9 349.6 L 548.9 349.6 L 548.9 350.8 L 543.2 350.8 L 543.2 349.6 \" fill=\"#000000\"/>\n",
       "<path class=\"note\" d=\"M 549.7 342.3 Q 550.1 341.4, 551.0 340.8 Q 551.9 340.3, 553.2 340.3 Q 554.7 340.3, 555.6 341.1 Q 556.5 342.0, 556.5 343.5 Q 556.5 345.0, 555.4 346.5 Q 554.2 347.9, 551.9 349.6 L 556.7 349.6 L 556.7 350.8 L 549.6 350.8 L 549.6 349.8 Q 551.6 348.4, 552.7 347.4 Q 553.9 346.4, 554.5 345.4 Q 555.0 344.5, 555.0 343.6 Q 555.0 342.6, 554.5 342.0 Q 554.0 341.4, 553.2 341.4 Q 552.3 341.4, 551.8 341.8 Q 551.2 342.1, 550.8 342.9 L 549.7 342.3 \" fill=\"#000000\"/>\n",
       "<path class=\"note\" d=\"M 486.5 381.5 L 488.7 381.5 L 488.7 373.7 L 486.2 374.4 L 485.9 373.6 L 489.1 372.1 L 490.1 372.3 L 490.1 381.5 L 492.2 381.5 L 492.2 382.6 L 486.5 382.6 L 486.5 381.5 \" fill=\"#000000\"/>\n",
       "<path class=\"note\" d=\"M 497.8 377.1 Q 498.8 377.4, 499.3 378.1 Q 499.8 378.8, 499.8 379.8 Q 499.8 380.7, 499.4 381.4 Q 498.9 382.0, 498.1 382.4 Q 497.3 382.8, 496.3 382.8 Q 495.1 382.8, 494.3 382.4 Q 493.5 382.0, 492.8 381.2 L 493.6 380.4 Q 494.3 381.1, 494.8 381.3 Q 495.4 381.6, 496.3 381.6 Q 497.2 381.6, 497.8 381.1 Q 498.4 380.6, 498.4 379.8 Q 498.4 378.7, 497.8 378.2 Q 497.2 377.7, 495.9 377.7 L 495.1 377.7 L 495.1 376.7 L 495.8 376.7 Q 496.9 376.7, 497.5 376.2 Q 498.1 375.7, 498.1 374.8 Q 498.1 374.1, 497.6 373.7 Q 497.1 373.3, 496.3 373.3 Q 495.4 373.3, 494.9 373.6 Q 494.3 373.9, 493.9 374.7 L 492.9 374.1 Q 493.3 373.2, 494.1 372.7 Q 495.0 372.1, 496.3 372.1 Q 497.8 372.1, 498.7 372.8 Q 499.6 373.5, 499.6 374.8 Q 499.6 375.6, 499.2 376.2 Q 498.7 376.8, 497.8 377.1 \" fill=\"#000000\"/>\n",
       "<path class=\"note\" d=\"M 445.1 432.1 L 447.4 432.1 L 447.4 424.3 L 444.9 425.0 L 444.5 424.2 L 447.7 422.7 L 448.8 422.9 L 448.8 432.1 L 450.8 432.1 L 450.8 433.3 L 445.1 433.3 L 445.1 432.1 \" fill=\"#000000\"/>\n",
       "<path class=\"note\" d=\"M 458.1 429.7 L 459.3 429.7 L 459.3 430.8 L 458.1 430.8 L 458.1 433.3 L 456.7 433.3 L 456.7 430.8 L 451.3 430.8 L 451.3 429.9 L 455.9 422.8 L 458.1 422.8 L 458.1 429.7 M 453.0 429.7 L 456.7 429.7 L 456.7 423.7 L 453.0 429.7 \" fill=\"#000000\"/>\n",
       "<path class=\"note\" d=\"M 356.5 458.8 L 358.8 458.8 L 358.8 451.0 L 356.3 451.8 L 356.0 450.9 L 359.2 449.5 L 360.2 449.7 L 360.2 458.8 L 362.3 458.8 L 362.3 460.0 L 356.5 460.0 L 356.5 458.8 \" fill=\"#000000\"/>\n",
       "<path class=\"note\" d=\"M 366.7 453.5 Q 367.7 453.5, 368.4 453.9 Q 369.2 454.3, 369.6 455.0 Q 370.0 455.7, 370.0 456.7 Q 370.0 457.8, 369.5 458.6 Q 369.0 459.3, 368.1 459.7 Q 367.3 460.1, 366.3 460.1 Q 365.3 460.1, 364.4 459.8 Q 363.5 459.4, 362.9 458.7 L 363.8 457.8 Q 364.3 458.4, 365.0 458.7 Q 365.6 458.9, 366.3 458.9 Q 367.3 458.9, 367.9 458.4 Q 368.5 457.8, 368.5 456.7 Q 368.5 455.6, 367.9 455.1 Q 367.3 454.6, 366.2 454.6 Q 365.3 454.6, 364.3 455.0 L 363.5 454.6 L 364.0 449.6 L 369.4 449.6 L 369.2 450.7 L 365.2 450.7 L 364.9 453.8 Q 365.8 453.5, 366.7 453.5 \" fill=\"#000000\"/>\n",
       "<path class=\"note\" d=\"M 496.6 509.5 L 498.9 509.5 L 498.9 501.7 L 496.4 502.5 L 496.0 501.6 L 499.2 500.2 L 500.3 500.3 L 500.3 509.5 L 502.3 509.5 L 502.3 510.7 L 496.6 510.7 L 496.6 509.5 \" fill=\"#000000\"/>\n",
       "<path class=\"note\" d=\"M 507.4 504.1 Q 508.3 504.1, 509.1 504.5 Q 509.8 504.9, 510.2 505.7 Q 510.6 506.4, 510.6 507.3 Q 510.6 508.3, 510.1 509.1 Q 509.7 509.9, 508.9 510.3 Q 508.1 510.8, 507.1 510.8 Q 505.2 510.8, 504.3 509.5 Q 503.3 508.3, 503.3 505.8 Q 503.3 503.0, 504.5 501.5 Q 505.6 500.1, 507.9 500.1 Q 508.5 500.1, 509.1 500.3 Q 509.6 500.4, 510.2 500.7 L 509.6 501.7 Q 508.8 501.3, 507.9 501.3 Q 506.4 501.3, 505.7 502.2 Q 504.9 503.2, 504.8 505.2 Q 505.4 504.7, 506.0 504.4 Q 506.7 504.1, 507.4 504.1 M 507.1 509.6 Q 507.6 509.6, 508.1 509.3 Q 508.6 509.0, 508.8 508.5 Q 509.1 508.0, 509.1 507.3 Q 509.1 506.4, 508.6 505.9 Q 508.1 505.3, 507.2 505.3 Q 506.5 505.3, 505.9 505.6 Q 505.3 505.8, 504.8 506.3 Q 504.9 508.0, 505.4 508.8 Q 506.0 509.6, 507.1 509.6 \" fill=\"#000000\"/>\n",
       "<path class=\"note\" d=\"M 581.9 494.3 L 584.2 494.3 L 584.2 486.5 L 581.7 487.2 L 581.3 486.4 L 584.5 484.9 L 585.6 485.1 L 585.6 494.3 L 587.6 494.3 L 587.6 495.5 L 581.9 495.5 L 581.9 494.3 \" fill=\"#000000\"/>\n",
       "<path class=\"note\" d=\"M 593.4 486.2 L 587.9 486.2 L 587.9 485.0 L 594.8 485.0 L 594.8 486.0 L 590.6 495.5 L 589.2 495.5 L 593.4 486.2 \" fill=\"#000000\"/>\n",
       "<path class=\"note\" d=\"M 610.6 413.3 L 612.9 413.3 L 612.9 405.5 L 610.3 406.3 L 610.0 405.4 L 613.2 404.0 L 614.3 404.1 L 614.3 413.3 L 616.3 413.3 L 616.3 414.5 L 610.6 414.5 L 610.6 413.3 \" fill=\"#000000\"/>\n",
       "<path class=\"note\" d=\"M 622.6 408.9 Q 623.5 409.3, 624.1 410.0 Q 624.6 410.6, 624.6 411.6 Q 624.6 412.5, 624.1 413.2 Q 623.7 413.9, 622.9 414.2 Q 622.0 414.6, 621.0 414.6 Q 619.2 414.6, 618.2 413.8 Q 617.2 413.0, 617.2 411.6 Q 617.2 410.7, 617.7 410.1 Q 618.1 409.5, 619.0 409.0 Q 618.3 408.6, 618.0 408.0 Q 617.6 407.5, 617.6 406.6 Q 617.6 405.3, 618.5 404.6 Q 619.4 403.9, 620.9 403.9 Q 622.4 403.9, 623.3 404.6 Q 624.2 405.3, 624.2 406.6 Q 624.2 407.3, 623.8 407.9 Q 623.4 408.5, 622.6 408.9 M 620.9 405.0 Q 620.0 405.0, 619.6 405.4 Q 619.1 405.8, 619.1 406.6 Q 619.1 407.1, 619.4 407.5 Q 619.7 407.8, 620.2 408.0 Q 620.7 408.3, 621.6 408.6 Q 622.2 408.1, 622.5 407.6 Q 622.7 407.2, 622.7 406.6 Q 622.7 405.8, 622.3 405.4 Q 621.8 405.0, 620.9 405.0 M 621.0 413.5 Q 621.9 413.5, 622.5 413.0 Q 623.1 412.5, 623.1 411.6 Q 623.1 411.0, 622.8 410.7 Q 622.5 410.3, 622.0 410.1 Q 621.6 409.9, 620.7 409.6 L 620.1 409.4 Q 619.3 409.9, 619.0 410.4 Q 618.7 410.9, 618.7 411.6 Q 618.7 412.5, 619.3 413.0 Q 619.9 413.5, 621.0 413.5 \" fill=\"#000000\"/>\n",
       "<path class=\"note\" d=\"M 340.9 407.5 L 343.2 407.5 L 343.2 399.7 L 340.7 400.5 L 340.3 399.6 L 343.6 398.2 L 344.6 398.4 L 344.6 407.5 L 346.7 407.5 L 346.7 408.7 L 340.9 408.7 L 340.9 407.5 \" fill=\"#000000\"/>\n",
       "<path class=\"note\" d=\"M 351.0 398.1 Q 352.8 398.1, 353.8 399.4 Q 354.7 400.6, 354.7 403.2 Q 354.7 405.9, 353.5 407.4 Q 352.4 408.8, 350.2 408.8 Q 349.5 408.8, 349.0 408.7 Q 348.4 408.5, 347.9 408.2 L 348.5 407.2 Q 349.2 407.6, 350.2 407.6 Q 351.6 407.6, 352.4 406.7 Q 353.1 405.7, 353.2 403.8 Q 352.7 404.3, 352.0 404.5 Q 351.3 404.8, 350.6 404.8 Q 349.7 404.8, 349.0 404.4 Q 348.3 404.0, 347.9 403.2 Q 347.5 402.5, 347.5 401.6 Q 347.5 400.6, 347.9 399.8 Q 348.4 399.0, 349.2 398.6 Q 350.0 398.1, 351.0 398.1 M 348.9 401.6 Q 348.9 402.5, 349.5 403.1 Q 350.0 403.6, 350.9 403.6 Q 351.5 403.6, 352.1 403.3 Q 352.8 403.1, 353.2 402.6 Q 353.2 400.9, 352.6 400.1 Q 352.1 399.3, 351.0 399.3 Q 350.4 399.3, 349.9 399.6 Q 349.5 399.9, 349.2 400.4 Q 348.9 401.0, 348.9 401.6 \" fill=\"#000000\"/>\n",
       "<path class=\"note\" d=\"M 266.7 413.2 Q 267.1 412.3, 268.0 411.7 Q 268.9 411.1, 270.2 411.1 Q 271.8 411.1, 272.7 412.0 Q 273.6 412.9, 273.6 414.4 Q 273.6 415.9, 272.4 417.4 Q 271.3 418.8, 268.9 420.5 L 273.7 420.5 L 273.7 421.7 L 266.7 421.7 L 266.7 420.7 Q 268.7 419.3, 269.8 418.3 Q 271.0 417.3, 271.5 416.3 Q 272.1 415.4, 272.1 414.5 Q 272.1 413.4, 271.6 412.9 Q 271.1 412.3, 270.2 412.3 Q 269.4 412.3, 268.8 412.7 Q 268.3 413.0, 267.9 413.8 L 266.7 413.2 \" fill=\"#000000\"/>\n",
       "<path class=\"note\" d=\"M 278.5 421.8 Q 276.6 421.8, 275.6 420.4 Q 274.6 419.0, 274.6 416.5 Q 274.6 414.0, 275.6 412.5 Q 276.5 411.1, 278.5 411.1 Q 280.4 411.1, 281.4 412.5 Q 282.3 414.0, 282.3 416.5 Q 282.3 419.0, 281.3 420.4 Q 280.4 421.8, 278.5 421.8 M 278.5 420.7 Q 279.6 420.7, 280.2 419.6 Q 280.8 418.5, 280.8 416.5 Q 280.8 414.4, 280.2 413.4 Q 279.6 412.3, 278.5 412.3 Q 277.4 412.3, 276.7 413.4 Q 276.1 414.4, 276.1 416.5 Q 276.1 418.5, 276.7 419.6 Q 277.4 420.7, 278.5 420.7 \" fill=\"#000000\"/>\n",
       "<path class=\"note\" d=\"M 226.1 496.4 Q 226.5 495.4, 227.4 494.9 Q 228.3 494.3, 229.6 494.3 Q 231.2 494.3, 232.1 495.2 Q 233.0 496.0, 233.0 497.6 Q 233.0 499.1, 231.8 500.6 Q 230.7 502.0, 228.3 503.7 L 233.1 503.7 L 233.1 504.9 L 226.1 504.9 L 226.1 503.9 Q 228.0 502.5, 229.2 501.5 Q 230.4 500.5, 230.9 499.5 Q 231.5 498.6, 231.5 497.6 Q 231.5 496.6, 231.0 496.1 Q 230.5 495.5, 229.6 495.5 Q 228.8 495.5, 228.2 495.8 Q 227.6 496.2, 227.2 496.9 L 226.1 496.4 \" fill=\"#000000\"/>\n",
       "<path class=\"note\" d=\"M 234.5 503.7 L 236.8 503.7 L 236.8 495.9 L 234.3 496.7 L 233.9 495.8 L 237.1 494.4 L 238.2 494.6 L 238.2 503.7 L 240.2 503.7 L 240.2 504.9 L 234.5 504.9 L 234.5 503.7 \" fill=\"#000000\"/>\n",
       "</svg>"
      ],
      "text/plain": [
       "<IPython.core.display.SVG object>"
      ]
     },
     "metadata": {},
     "output_type": "display_data"
    }
   ],
   "source": [
    "draw(graphsage,dataset)"
   ]
  },
  {
   "cell_type": "code",
   "execution_count": 81,
   "id": "9c4910e0",
   "metadata": {},
   "outputs": [
    {
     "name": "stdout",
     "output_type": "stream",
     "text": [
      "The nodes in graph is 11\n",
      "At the 0 rollout, 42 states that have been explored.\n",
      "At the 1 rollout, 42 states that have been explored.\n",
      "At the 2 rollout, 42 states that have been explored.\n",
      "At the 3 rollout, 42 states that have been explored.\n",
      "At the 4 rollout, 42 states that have been explored.\n"
     ]
    },
    {
     "data": {
      "image/svg+xml": [
       "<svg baseProfile=\"full\" height=\"650px\" version=\"1.1\" viewBox=\"0 0 650 650\" width=\"650px\" xml:space=\"preserve\" xmlns=\"http://www.w3.org/2000/svg\" xmlns:rdkit=\"http://www.rdkit.org/xml\" xmlns:xlink=\"http://www.w3.org/1999/xlink\">\n",
       "<!-- END OF HEADER -->\n",
       "<rect height=\"650.0\" style=\"opacity:1.0;fill:#FFFFFF;stroke:none\" width=\"650.0\" x=\"0.0\" y=\"0.0\"> </rect>\n",
       "<ellipse cx=\"197.5\" cy=\"404.8\" rx=\"26.8\" ry=\"42.1\" style=\"fill:#CE5F73;fill-rule:evenodd;stroke:#CE5F73;stroke-width:1.0px;stroke-linecap:butt;stroke-linejoin:miter;stroke-opacity:1\"/>\n",
       "<ellipse cx=\"294.5\" cy=\"363.3\" rx=\"26.8\" ry=\"26.8\" style=\"fill:#CE5F73;fill-rule:evenodd;stroke:#CE5F73;stroke-width:1.0px;stroke-linecap:butt;stroke-linejoin:miter;stroke-opacity:1\"/>\n",
       "<ellipse cx=\"320.5\" cy=\"266.3\" rx=\"26.8\" ry=\"26.8\" style=\"fill:#CE5F73;fill-rule:evenodd;stroke:#CE5F73;stroke-width:1.0px;stroke-linecap:butt;stroke-linejoin:miter;stroke-opacity:1\"/>\n",
       "<ellipse cx=\"488.4\" cy=\"311.3\" rx=\"26.8\" ry=\"26.8\" style=\"fill:#CE5F73;fill-rule:evenodd;stroke:#CE5F73;stroke-width:1.0px;stroke-linecap:butt;stroke-linejoin:miter;stroke-opacity:1\"/>\n",
       "<ellipse cx=\"365.5\" cy=\"434.3\" rx=\"26.8\" ry=\"26.8\" style=\"fill:#CE5F73;fill-rule:evenodd;stroke:#CE5F73;stroke-width:1.0px;stroke-linecap:butt;stroke-linejoin:miter;stroke-opacity:1\"/>\n",
       "<path class=\"bond-0 atom-0 atom-1\" d=\"M 29.5,344.2 L 126.5,318.3\" style=\"fill:none;fill-rule:evenodd;stroke:#000000;stroke-width:2.0px;stroke-linecap:butt;stroke-linejoin:miter;stroke-opacity:1\"/>\n",
       "<path class=\"bond-1 atom-1 atom-2\" d=\"M 136.2,320.9 L 146.9,281.0\" style=\"fill:none;fill-rule:evenodd;stroke:#000000;stroke-width:2.0px;stroke-linecap:butt;stroke-linejoin:miter;stroke-opacity:1\"/>\n",
       "<path class=\"bond-1 atom-1 atom-2\" d=\"M 146.9,281.0 L 157.6,241.2\" style=\"fill:none;fill-rule:evenodd;stroke:#FF0000;stroke-width:2.0px;stroke-linecap:butt;stroke-linejoin:miter;stroke-opacity:1\"/>\n",
       "<path class=\"bond-1 atom-1 atom-2\" d=\"M 116.8,315.7 L 127.5,275.8\" style=\"fill:none;fill-rule:evenodd;stroke:#000000;stroke-width:2.0px;stroke-linecap:butt;stroke-linejoin:miter;stroke-opacity:1\"/>\n",
       "<path class=\"bond-1 atom-1 atom-2\" d=\"M 127.5,275.8 L 138.2,236.0\" style=\"fill:none;fill-rule:evenodd;stroke:#FF0000;stroke-width:2.0px;stroke-linecap:butt;stroke-linejoin:miter;stroke-opacity:1\"/>\n",
       "<path class=\"bond-2 atom-1 atom-3\" d=\"M 126.5,318.3 L 155.4,347.1\" style=\"fill:none;fill-rule:evenodd;stroke:#000000;stroke-width:2.0px;stroke-linecap:butt;stroke-linejoin:miter;stroke-opacity:1\"/>\n",
       "<path class=\"bond-2 atom-1 atom-3\" d=\"M 155.4,347.1 L 184.3,376.0\" style=\"fill:none;fill-rule:evenodd;stroke:#0000FF;stroke-width:2.0px;stroke-linecap:butt;stroke-linejoin:miter;stroke-opacity:1\"/>\n",
       "<path class=\"bond-3 atom-3 atom-4\" d=\"M 210.8,385.7 L 252.6,374.5\" style=\"fill:none;fill-rule:evenodd;stroke:#0000FF;stroke-width:2.0px;stroke-linecap:butt;stroke-linejoin:miter;stroke-opacity:1\"/>\n",
       "<path class=\"bond-3 atom-3 atom-4\" d=\"M 252.6,374.5 L 294.5,363.3\" style=\"fill:none;fill-rule:evenodd;stroke:#000000;stroke-width:2.0px;stroke-linecap:butt;stroke-linejoin:miter;stroke-opacity:1\"/>\n",
       "<path class=\"bond-4 atom-4 atom-5\" d=\"M 294.5,363.3 L 320.5,266.3\" style=\"fill:none;fill-rule:evenodd;stroke:#000000;stroke-width:2.0px;stroke-linecap:butt;stroke-linejoin:miter;stroke-opacity:1\"/>\n",
       "<path class=\"bond-4 atom-4 atom-5\" d=\"M 317.8,353.9 L 336.0,286.0\" style=\"fill:none;fill-rule:evenodd;stroke:#000000;stroke-width:2.0px;stroke-linecap:butt;stroke-linejoin:miter;stroke-opacity:1\"/>\n",
       "<path class=\"bond-10 atom-10 atom-4\" d=\"M 365.5,434.3 L 294.5,363.3\" style=\"fill:none;fill-rule:evenodd;stroke:#000000;stroke-width:2.0px;stroke-linecap:butt;stroke-linejoin:miter;stroke-opacity:1\"/>\n",
       "<path class=\"bond-5 atom-5 atom-6\" d=\"M 320.5,266.3 L 417.4,240.3\" style=\"fill:none;fill-rule:evenodd;stroke:#000000;stroke-width:2.0px;stroke-linecap:butt;stroke-linejoin:miter;stroke-opacity:1\"/>\n",
       "<path class=\"bond-6 atom-6 atom-7\" d=\"M 417.4,240.3 L 488.4,311.3\" style=\"fill:none;fill-rule:evenodd;stroke:#000000;stroke-width:2.0px;stroke-linecap:butt;stroke-linejoin:miter;stroke-opacity:1\"/>\n",
       "<path class=\"bond-6 atom-6 atom-7\" d=\"M 413.9,265.2 L 463.6,314.9\" style=\"fill:none;fill-rule:evenodd;stroke:#000000;stroke-width:2.0px;stroke-linecap:butt;stroke-linejoin:miter;stroke-opacity:1\"/>\n",
       "<path class=\"bond-7 atom-7 atom-8\" d=\"M 488.4,311.3 L 529.2,300.4\" style=\"fill:none;fill-rule:evenodd;stroke:#000000;stroke-width:2.0px;stroke-linecap:butt;stroke-linejoin:miter;stroke-opacity:1\"/>\n",
       "<path class=\"bond-7 atom-7 atom-8\" d=\"M 529.2,300.4 L 569.9,289.5\" style=\"fill:none;fill-rule:evenodd;stroke:#FF0000;stroke-width:2.0px;stroke-linecap:butt;stroke-linejoin:miter;stroke-opacity:1\"/>\n",
       "<path class=\"bond-8 atom-7 atom-9\" d=\"M 488.4,311.3 L 462.4,408.3\" style=\"fill:none;fill-rule:evenodd;stroke:#000000;stroke-width:2.0px;stroke-linecap:butt;stroke-linejoin:miter;stroke-opacity:1\"/>\n",
       "<path class=\"bond-9 atom-9 atom-10\" d=\"M 462.4,408.3 L 365.5,434.3\" style=\"fill:none;fill-rule:evenodd;stroke:#000000;stroke-width:2.0px;stroke-linecap:butt;stroke-linejoin:miter;stroke-opacity:1\"/>\n",
       "<path class=\"bond-9 atom-9 atom-10\" d=\"M 442.7,392.8 L 374.8,411.0\" style=\"fill:none;fill-rule:evenodd;stroke:#000000;stroke-width:2.0px;stroke-linecap:butt;stroke-linejoin:miter;stroke-opacity:1\"/>\n",
       "<path class=\"atom-2\" d=\"M 139.5 221.4 Q 139.5 214.6, 142.9 210.8 Q 146.2 207.0, 152.5 207.0 Q 158.8 207.0, 162.1 210.8 Q 165.5 214.6, 165.5 221.4 Q 165.5 228.3, 162.1 232.2 Q 158.7 236.1, 152.5 236.1 Q 146.3 236.1, 142.9 232.2 Q 139.5 228.3, 139.5 221.4 M 152.5 232.9 Q 156.8 232.9, 159.1 230.0 Q 161.5 227.1, 161.5 221.4 Q 161.5 215.8, 159.1 213.0 Q 156.8 210.2, 152.5 210.2 Q 148.2 210.2, 145.8 213.0 Q 143.5 215.8, 143.5 221.4 Q 143.5 227.1, 145.8 230.0 Q 148.2 232.9, 152.5 232.9 \" fill=\"#FF0000\"/>\n",
       "<path class=\"atom-3\" d=\"M 191.2 375.1 L 200.5 390.1 Q 201.4 391.6, 202.9 394.3 Q 204.4 396.9, 204.5 397.1 L 204.5 375.1 L 208.2 375.1 L 208.2 403.4 L 204.4 403.4 L 194.4 387.0 Q 193.2 385.1, 192.0 382.9 Q 190.8 380.7, 190.4 380.0 L 190.4 403.4 L 186.8 403.4 L 186.8 375.1 L 191.2 375.1 \" fill=\"#0000FF\"/>\n",
       "<path class=\"atom-3\" d=\"M 186.4 406.2 L 190.3 406.2 L 190.3 418.3 L 204.7 418.3 L 204.7 406.2 L 208.6 406.2 L 208.6 434.6 L 204.7 434.6 L 204.7 421.5 L 190.3 421.5 L 190.3 434.6 L 186.4 434.6 L 186.4 406.2 \" fill=\"#0000FF\"/>\n",
       "<path class=\"atom-8\" d=\"M 572.4 285.4 Q 572.4 278.6, 575.8 274.8 Q 579.1 271.0, 585.4 271.0 Q 591.7 271.0, 595.0 274.8 Q 598.4 278.6, 598.4 285.4 Q 598.4 292.3, 595.0 296.2 Q 591.6 300.1, 585.4 300.1 Q 579.2 300.1, 575.8 296.2 Q 572.4 292.3, 572.4 285.4 M 585.4 296.9 Q 589.7 296.9, 592.0 294.0 Q 594.4 291.1, 594.4 285.4 Q 594.4 279.8, 592.0 277.0 Q 589.7 274.2, 585.4 274.2 Q 581.1 274.2, 578.7 277.0 Q 576.4 279.8, 576.4 285.4 Q 576.4 291.1, 578.7 294.0 Q 581.1 296.9, 585.4 296.9 \" fill=\"#FF0000\"/>\n",
       "<path class=\"atom-8\" d=\"M 601.8 271.3 L 605.6 271.3 L 605.6 283.4 L 620.1 283.4 L 620.1 271.3 L 624.0 271.3 L 624.0 299.6 L 620.1 299.6 L 620.1 286.6 L 605.6 286.6 L 605.6 299.6 L 601.8 299.6 L 601.8 271.3 \" fill=\"#FF0000\"/>\n",
       "<path class=\"note\" d=\"M 33.9 367.7 Q 31.3 367.7, 30.0 365.8 Q 28.7 363.9, 28.7 360.5 Q 28.7 357.1, 30.0 355.2 Q 31.3 353.3, 33.9 353.3 Q 36.5 353.3, 37.8 355.2 Q 39.1 357.1, 39.1 360.5 Q 39.1 363.9, 37.8 365.8 Q 36.5 367.7, 33.9 367.7 M 33.9 366.1 Q 35.4 366.1, 36.2 364.7 Q 37.1 363.3, 37.1 360.5 Q 37.1 357.7, 36.2 356.3 Q 35.4 354.9, 33.9 354.9 Q 32.4 354.9, 31.5 356.3 Q 30.7 357.7, 30.7 360.5 Q 30.7 363.3, 31.5 364.7 Q 32.4 366.1, 33.9 366.1 \" fill=\"#000000\"/>\n",
       "<path class=\"note\" d=\"M 111.2 312.0 L 114.3 312.0 L 114.3 301.4 L 110.9 302.4 L 110.4 301.3 L 114.8 299.3 L 116.2 299.6 L 116.2 312.0 L 119.0 312.0 L 119.0 313.6 L 111.2 313.6 L 111.2 312.0 \" fill=\"#000000\"/>\n",
       "<path class=\"note\" d=\"M 156.4 184.6 Q 157.0 183.3, 158.2 182.6 Q 159.4 181.8, 161.2 181.8 Q 163.3 181.8, 164.5 183.0 Q 165.7 184.1, 165.7 186.2 Q 165.7 188.3, 164.1 190.2 Q 162.6 192.2, 159.4 194.5 L 165.9 194.5 L 165.9 196.1 L 156.4 196.1 L 156.4 194.8 Q 159.0 192.9, 160.6 191.5 Q 162.2 190.1, 162.9 188.8 Q 163.7 187.6, 163.7 186.3 Q 163.7 184.9, 163.0 184.2 Q 162.3 183.4, 161.2 183.4 Q 160.0 183.4, 159.3 183.9 Q 158.5 184.3, 158.0 185.3 L 156.4 184.6 \" fill=\"#000000\"/>\n",
       "<path class=\"note\" d=\"M 208.2 356.6 Q 209.6 357.0, 210.3 357.9 Q 210.9 358.8, 210.9 360.2 Q 210.9 361.4, 210.3 362.4 Q 209.7 363.3, 208.6 363.8 Q 207.5 364.3, 206.1 364.3 Q 204.6 364.3, 203.4 363.8 Q 202.3 363.2, 201.4 362.2 L 202.6 361.0 Q 203.4 362.0, 204.2 362.3 Q 204.9 362.7, 206.1 362.7 Q 207.4 362.7, 208.2 362.0 Q 208.9 361.3, 208.9 360.2 Q 208.9 358.8, 208.1 358.1 Q 207.3 357.5, 205.6 357.5 L 204.6 357.5 L 204.6 356.0 L 205.5 356.0 Q 207.0 356.0, 207.8 355.3 Q 208.6 354.7, 208.6 353.4 Q 208.6 352.5, 208.0 351.9 Q 207.3 351.4, 206.1 351.4 Q 204.9 351.4, 204.2 351.8 Q 203.5 352.2, 202.9 353.3 L 201.5 352.5 Q 202.0 351.4, 203.2 350.6 Q 204.4 349.8, 206.1 349.8 Q 208.2 349.8, 209.4 350.8 Q 210.6 351.7, 210.6 353.4 Q 210.6 354.5, 210.0 355.4 Q 209.4 356.2, 208.2 356.6 \" fill=\"#000000\"/>\n",
       "<path class=\"note\" d=\"M 286.4 353.7 L 288.1 353.7 L 288.1 355.3 L 286.4 355.3 L 286.4 358.5 L 284.5 358.5 L 284.5 355.3 L 277.2 355.3 L 277.2 354.0 L 283.4 344.4 L 286.4 344.4 L 286.4 353.7 M 279.5 353.7 L 284.5 353.7 L 284.5 345.6 L 279.5 353.7 \" fill=\"#000000\"/>\n",
       "<path class=\"note\" d=\"M 309.0 252.7 Q 310.2 252.7, 311.2 253.2 Q 312.3 253.7, 312.8 254.7 Q 313.4 255.7, 313.4 257.1 Q 313.4 258.5, 312.7 259.6 Q 312.0 260.6, 310.8 261.2 Q 309.7 261.7, 308.4 261.7 Q 307.1 261.7, 305.9 261.2 Q 304.7 260.7, 303.8 259.8 L 305.0 258.6 Q 305.7 259.3, 306.6 259.7 Q 307.5 260.1, 308.4 260.1 Q 309.7 260.1, 310.5 259.3 Q 311.4 258.5, 311.4 257.1 Q 311.4 255.6, 310.5 254.9 Q 309.7 254.2, 308.3 254.2 Q 307.1 254.2, 305.7 254.7 L 304.6 254.2 L 305.3 247.4 L 312.5 247.4 L 312.3 249.0 L 306.9 249.0 L 306.5 253.2 Q 307.7 252.7, 309.0 252.7 \" fill=\"#000000\"/>\n",
       "<path class=\"note\" d=\"M 422.4 222.5 Q 423.6 222.5, 424.6 223.0 Q 425.6 223.6, 426.1 224.5 Q 426.7 225.5, 426.7 226.8 Q 426.7 228.1, 426.1 229.2 Q 425.5 230.3, 424.4 230.9 Q 423.3 231.5, 421.9 231.5 Q 419.4 231.5, 418.1 229.8 Q 416.9 228.1, 416.9 224.7 Q 416.9 220.9, 418.4 219.0 Q 420.0 217.0, 423.0 217.0 Q 423.9 217.0, 424.6 217.2 Q 425.4 217.4, 426.1 217.8 L 425.3 219.2 Q 424.3 218.6, 423.0 218.6 Q 421.0 218.6, 420.0 219.9 Q 419.0 221.2, 418.9 223.8 Q 419.6 223.2, 420.5 222.8 Q 421.4 222.5, 422.4 222.5 M 421.9 229.8 Q 422.7 229.8, 423.3 229.4 Q 424.0 229.0, 424.3 228.3 Q 424.7 227.6, 424.7 226.8 Q 424.7 225.5, 424.0 224.8 Q 423.3 224.1, 422.0 224.1 Q 421.2 224.1, 420.3 224.4 Q 419.5 224.8, 418.9 225.4 Q 419.0 227.7, 419.7 228.8 Q 420.4 229.8, 421.9 229.8 \" fill=\"#000000\"/>\n",
       "<path class=\"note\" d=\"M 495.5 289.7 L 488.1 289.7 L 488.1 288.1 L 497.5 288.1 L 497.5 289.5 L 491.7 302.2 L 489.8 302.2 L 495.5 289.7 \" fill=\"#000000\"/>\n",
       "<path class=\"note\" d=\"M 620.0 276.3 Q 621.3 276.9, 622.0 277.7 Q 622.7 278.5, 622.7 279.9 Q 622.7 281.1, 622.1 282.1 Q 621.5 283.0, 620.4 283.5 Q 619.3 284.0, 617.8 284.0 Q 615.5 284.0, 614.1 282.9 Q 612.7 281.8, 612.7 279.9 Q 612.7 278.8, 613.3 277.9 Q 613.9 277.0, 615.2 276.4 Q 614.3 275.9, 613.8 275.1 Q 613.3 274.3, 613.3 273.1 Q 613.3 271.5, 614.5 270.5 Q 615.7 269.5, 617.7 269.5 Q 619.8 269.5, 621.0 270.5 Q 622.2 271.5, 622.2 273.1 Q 622.2 274.2, 621.6 274.9 Q 621.1 275.7, 620.0 276.3 M 617.7 271.0 Q 616.6 271.0, 615.9 271.6 Q 615.3 272.1, 615.3 273.1 Q 615.3 273.9, 615.7 274.4 Q 616.1 274.8, 616.8 275.1 Q 617.4 275.4, 618.6 275.8 Q 619.5 275.2, 619.8 274.6 Q 620.2 273.9, 620.2 273.1 Q 620.2 272.1, 619.6 271.6 Q 618.9 271.0, 617.7 271.0 M 617.8 282.5 Q 619.1 282.5, 619.9 281.8 Q 620.7 281.1, 620.7 279.9 Q 620.7 279.2, 620.3 278.7 Q 619.9 278.2, 619.3 277.9 Q 618.6 277.6, 617.5 277.3 L 616.6 277.0 Q 615.6 277.6, 615.2 278.3 Q 614.7 279.0, 614.7 279.9 Q 614.7 281.1, 615.6 281.8 Q 616.4 282.5, 617.8 282.5 \" fill=\"#000000\"/>\n",
       "<path class=\"note\" d=\"M 474.1 412.9 Q 476.7 412.9, 477.9 414.7 Q 479.2 416.4, 479.2 419.8 Q 479.2 423.5, 477.6 425.5 Q 476.1 427.4, 473.0 427.4 Q 472.2 427.4, 471.4 427.2 Q 470.7 427.0, 469.9 426.6 L 470.7 425.3 Q 471.8 425.8, 473.0 425.8 Q 475.0 425.8, 476.0 424.5 Q 477.1 423.2, 477.2 420.6 Q 476.5 421.2, 475.5 421.6 Q 474.6 421.9, 473.7 421.9 Q 472.4 421.9, 471.4 421.4 Q 470.5 420.9, 469.9 419.9 Q 469.4 418.9, 469.4 417.7 Q 469.4 416.3, 470.0 415.2 Q 470.6 414.1, 471.7 413.5 Q 472.8 412.9, 474.1 412.9 M 471.4 417.6 Q 471.4 418.9, 472.1 419.6 Q 472.8 420.3, 474.0 420.3 Q 474.9 420.3, 475.7 420.0 Q 476.6 419.6, 477.2 419.0 Q 477.1 416.7, 476.4 415.6 Q 475.6 414.6, 474.1 414.6 Q 473.4 414.6, 472.7 415.0 Q 472.1 415.4, 471.7 416.1 Q 471.4 416.8, 471.4 417.6 \" fill=\"#000000\"/>\n",
       "<path class=\"note\" d=\"M 347.6 456.0 L 350.7 456.0 L 350.7 445.4 L 347.3 446.5 L 346.8 445.3 L 351.2 443.3 L 352.6 443.6 L 352.6 456.0 L 355.4 456.0 L 355.4 457.6 L 347.6 457.6 L 347.6 456.0 \" fill=\"#000000\"/>\n",
       "<path class=\"note\" d=\"M 361.8 457.7 Q 359.2 457.7, 357.9 455.8 Q 356.6 453.9, 356.6 450.5 Q 356.6 447.1, 357.9 445.2 Q 359.1 443.3, 361.8 443.3 Q 364.4 443.3, 365.7 445.2 Q 366.9 447.1, 366.9 450.5 Q 366.9 453.9, 365.6 455.8 Q 364.4 457.7, 361.8 457.7 M 361.8 456.1 Q 363.3 456.1, 364.1 454.7 Q 364.9 453.3, 364.9 450.5 Q 364.9 447.7, 364.1 446.3 Q 363.3 444.9, 361.8 444.9 Q 360.2 444.9, 359.4 446.3 Q 358.6 447.7, 358.6 450.5 Q 358.6 453.3, 359.4 454.7 Q 360.2 456.1, 361.8 456.1 \" fill=\"#000000\"/>\n",
       "</svg>"
      ],
      "text/plain": [
       "<IPython.core.display.SVG object>"
      ]
     },
     "metadata": {},
     "output_type": "display_data"
    }
   ],
   "source": [
    "draw(gat,dataset)"
   ]
  },
  {
   "cell_type": "code",
   "execution_count": null,
   "id": "f5351b6e",
   "metadata": {},
   "outputs": [],
   "source": []
  }
 ],
 "metadata": {
  "kernelspec": {
   "display_name": "Python 3 (ipykernel)",
   "language": "python",
   "name": "python3"
  },
  "language_info": {
   "codemirror_mode": {
    "name": "ipython",
    "version": 3
   },
   "file_extension": ".py",
   "mimetype": "text/x-python",
   "name": "python",
   "nbconvert_exporter": "python",
   "pygments_lexer": "ipython3",
   "version": "3.7.11"
  }
 },
 "nbformat": 4,
 "nbformat_minor": 5
}
